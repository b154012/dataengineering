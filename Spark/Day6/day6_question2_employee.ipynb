{
 "cells": [
  {
   "cell_type": "code",
   "execution_count": 1,
   "id": "7fd6a6f9",
   "metadata": {},
   "outputs": [],
   "source": [
    "from pyspark.sql import SparkSession"
   ]
  },
  {
   "cell_type": "code",
   "execution_count": 2,
   "id": "36f8c452",
   "metadata": {},
   "outputs": [],
   "source": [
    "spark = (SparkSession.builder.appName(\"Dsay 6 DataFrame\").getOrCreate())"
   ]
  },
  {
   "cell_type": "markdown",
   "id": "cdfaa565",
   "metadata": {},
   "source": [
    "## Data Preparation \n",
    "\n",
    "a.\tCopy and save the data and name it as employee.txt"
   ]
  },
  {
   "cell_type": "code",
   "execution_count": 3,
   "id": "49d7e7fe",
   "metadata": {},
   "outputs": [],
   "source": [
    "file = spark.sparkContext.textFile('C:/Users/Lenovo/Documents/employee.txt')"
   ]
  },
  {
   "cell_type": "code",
   "execution_count": 4,
   "id": "a1334fa9",
   "metadata": {},
   "outputs": [],
   "source": [
    "words = file.map(lambda x: x.split(\",\"))"
   ]
  },
  {
   "cell_type": "code",
   "execution_count": 5,
   "id": "ee816807",
   "metadata": {},
   "outputs": [],
   "source": [
    "#clean the data, convert string id to integer and string age to integer\n",
    "ID = [int(ID[0]) for ID in words.collect()]\n",
    "name = [name[1] for name in words.collect()]\n",
    "age = [int(age[2]) for age in words.collect()]\n",
    "contents = list(zip(ID, name, age))"
   ]
  },
  {
   "cell_type": "code",
   "execution_count": 6,
   "id": "1623f531",
   "metadata": {},
   "outputs": [],
   "source": [
    "contents = list(zip(ID, name, age))"
   ]
  },
  {
   "cell_type": "markdown",
   "id": "37f44860",
   "metadata": {},
   "source": [
    "### `b. Get DataFrame from RDD where \"ID: 1, name: Ella, age: 36” `"
   ]
  },
  {
   "cell_type": "code",
   "execution_count": 7,
   "id": "9e28bf79",
   "metadata": {},
   "outputs": [],
   "source": [
    "rdd = spark.sparkContext.parallelize(contents)"
   ]
  },
  {
   "cell_type": "code",
   "execution_count": 8,
   "id": "019038a7",
   "metadata": {},
   "outputs": [
    {
     "data": {
      "text/plain": [
       "[(1, 'Ella', 36)]"
      ]
     },
     "execution_count": 8,
     "metadata": {},
     "output_type": "execute_result"
    }
   ],
   "source": [
    "rdd.filter(lambda x: x[0] == 1).collect()"
   ]
  },
  {
   "cell_type": "markdown",
   "id": "208d428f",
   "metadata": {},
   "source": [
    "### `c. Print out all the data.`"
   ]
  },
  {
   "cell_type": "code",
   "execution_count": 9,
   "id": "2bdf5725",
   "metadata": {},
   "outputs": [
    {
     "name": "stdout",
     "output_type": "stream",
     "text": [
      "\"ID: 1 , name: Ella , age: 36 \"\n",
      "\"ID: 2 , name: Bob , age: 29 \"\n",
      "\"ID: 3 , name: Jack , age: 29 \"\n"
     ]
    }
   ],
   "source": [
    "for word in contents:\n",
    "        print(\"\\\"ID:\", word[0], \", name:\", word[1], \", age:\", word[2], \"\\\"\")"
   ]
  },
  {
   "cell_type": "code",
   "execution_count": null,
   "id": "72478901",
   "metadata": {},
   "outputs": [],
   "source": []
  }
 ],
 "metadata": {
  "kernelspec": {
   "display_name": "Python 3 (ipykernel)",
   "language": "python",
   "name": "python3"
  },
  "language_info": {
   "codemirror_mode": {
    "name": "ipython",
    "version": 3
   },
   "file_extension": ".py",
   "mimetype": "text/x-python",
   "name": "python",
   "nbconvert_exporter": "python",
   "pygments_lexer": "ipython3",
   "version": "3.9.6"
  }
 },
 "nbformat": 4,
 "nbformat_minor": 5
}
