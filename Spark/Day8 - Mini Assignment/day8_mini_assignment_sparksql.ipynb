{
 "cells": [
  {
   "cell_type": "code",
   "execution_count": 1,
   "id": "f389adf7",
   "metadata": {},
   "outputs": [],
   "source": [
    "from pyspark.sql import SparkSession\n",
    "import pandas as pd"
   ]
  },
  {
   "cell_type": "code",
   "execution_count": 2,
   "id": "cd76f36e",
   "metadata": {},
   "outputs": [],
   "source": [
    "spark = (SparkSession.builder.appName(\"Day 8 question 2\").master(\"local[1]\").enableHiveSupport().getOrCreate())"
   ]
  },
  {
   "cell_type": "markdown",
   "id": "410418cc",
   "metadata": {},
   "source": [
    "# Data Preparation\n",
    "\n",
    "<h6>Analysis yelp data of American Business Reviews</h6>\n",
    "\n",
    "<b>Context.</b>\n",
    "\n",
    "This dataset is a subset of Yelps businesses, reviews and user data. It was originally put together for the Yelp Dataset Challenge which is a chance for students to conduct research or analysis on Yelps data and share their discoveries. In the most recent dataset you will find information about businesses across 8 metropolitan areas in the USA and Canada.\n",
    "\n",
    "<b>Content: </b>\n",
    "This dataset contains five JSON files and the user agreement.\n",
    "\n",
    "<b>Dataset: </b>\n",
    "yelp_academic_dataset_business.json\n",
    "<br>"
   ]
  },
  {
   "cell_type": "code",
   "execution_count": 3,
   "id": "a102d2ad",
   "metadata": {},
   "outputs": [
    {
     "data": {
      "text/plain": [
       "DataFrame[]"
      ]
     },
     "execution_count": 3,
     "metadata": {},
     "output_type": "execute_result"
    }
   ],
   "source": [
    "spark.sql(\"CREATE DATABASE IF NOT EXISTS day8\")\n",
    "spark.sql(\"USE day8\")"
   ]
  },
  {
   "cell_type": "code",
   "execution_count": 5,
   "id": "a2b00d1e",
   "metadata": {},
   "outputs": [],
   "source": [
    "spark.conf.set(\"spark.sql.caseSensitive\", \"true\")"
   ]
  },
  {
   "cell_type": "code",
   "execution_count": 6,
   "id": "b647658b",
   "metadata": {},
   "outputs": [
    {
     "data": {
      "text/plain": [
       "DataFrame[]"
      ]
     },
     "execution_count": 6,
     "metadata": {},
     "output_type": "execute_result"
    }
   ],
   "source": [
    "spark.sql(\"CREATE TEMPORARY VIEW business USING json OPTIONS\" + \n",
    "      \" (path 'C:/Users/Lenovo/Documents/yelp_academic_dataset_business.json')\")"
   ]
  },
  {
   "cell_type": "code",
   "execution_count": 7,
   "id": "c9556030",
   "metadata": {
    "scrolled": true
   },
   "outputs": [
    {
     "name": "stdout",
     "output_type": "stream",
     "text": [
      "+--------------------+\n",
      "|                city|\n",
      "+--------------------+\n",
      "|               Ratho|\n",
      "|               Tempe|\n",
      "|        Fountain Hls|\n",
      "|          Harrisburg|\n",
      "|      Île des Soeurs|\n",
      "|         Wilkinsburg|\n",
      "|     North Las Vegas|\n",
      "|         C Las Vegas|\n",
      "|               Mesa |\n",
      "|        Saint-Hubert|\n",
      "|       Lawrenceville|\n",
      "|             Phoenix|\n",
      "|        West Mifflin|\n",
      "|               Savoy|\n",
      "|        Mckees Rocks|\n",
      "| Pointe-Aux-Trembles|\n",
      "|Bonnyrigg and Las...|\n",
      "|     South Las Vegas|\n",
      "|            Rosemère|\n",
      "|           Pittsburg|\n",
      "+--------------------+\n",
      "only showing top 20 rows\n",
      "\n"
     ]
    }
   ],
   "source": [
    "spark.sql(\"SELECT distinct city from business\").show()"
   ]
  },
  {
   "cell_type": "markdown",
   "id": "c64229f9",
   "metadata": {},
   "source": [
    "### `1.\tHow many types of businesses are there?`"
   ]
  },
  {
   "cell_type": "code",
   "execution_count": 8,
   "id": "a20eb118",
   "metadata": {},
   "outputs": [
    {
     "name": "stdout",
     "output_type": "stream",
     "text": [
      "+--------------+\n",
      "|Total_Business|\n",
      "+--------------+\n",
      "|         45694|\n",
      "+--------------+\n",
      "\n"
     ]
    }
   ],
   "source": [
    "spark.sql(\"select count(distinct name) as Total_Business from business\").show()"
   ]
  },
  {
   "cell_type": "markdown",
   "id": "f0f612ea",
   "metadata": {},
   "source": [
    "### `2.\tWhat are the three cities with the largest number of businesses?`"
   ]
  },
  {
   "cell_type": "code",
   "execution_count": 9,
   "id": "47216026",
   "metadata": {},
   "outputs": [
    {
     "name": "stdout",
     "output_type": "stream",
     "text": [
      "+---------+-------------------+\n",
      "|City     |Largest_No_Business|\n",
      "+---------+-------------------+\n",
      "|Las Vegas|13601              |\n",
      "|Phoenix  |8410               |\n",
      "|Charlotte|4224               |\n",
      "+---------+-------------------+\n",
      "only showing top 3 rows\n",
      "\n"
     ]
    }
   ],
   "source": [
    "spark.sql(\"\"\"select city as City, count(distinct business_id) as Largest_No_Business\n",
    "from business \n",
    "group by city\n",
    "order by count(distinct business_id) desc\n",
    "\"\"\").show(3, truncate=False)"
   ]
  },
  {
   "cell_type": "markdown",
   "id": "e7e1d27e",
   "metadata": {},
   "source": [
    "### `3.\tWhat are the types of businesses in each city?`"
   ]
  },
  {
   "cell_type": "code",
   "execution_count": 10,
   "id": "9a4c8dfd",
   "metadata": {
    "scrolled": true
   },
   "outputs": [
    {
     "name": "stdout",
     "output_type": "stream",
     "text": [
      "+-------------------------------------+--------------+\n",
      "|Business_Type                        |City          |\n",
      "+-------------------------------------+--------------+\n",
      "|Ahwatukee Foothills Storage          |1023 E Frye Rd|\n",
      "|McDonald's                           |Ahwatukee     |\n",
      "|Kathy's Alterations                  |Ahwatukee     |\n",
      "|Hertz Rent A Car                     |Ahwatukee     |\n",
      "|U-Haul                               |Ahwatukee     |\n",
      "|Active Kids Pediatrics               |Ahwatukee     |\n",
      "|Healthy and Clean Living Environments|Ahwatukee     |\n",
      "|Hi-Health                            |Ahwatukee     |\n",
      "|Cupz N' Crepes                       |Ahwatukee     |\n",
      "|My Wine Cellar                       |Ahwatukee     |\n",
      "|Desert Dog Pet Care                  |Ahwatukee     |\n",
      "|West End Overlook                    |Allegheny     |\n",
      "|Wild Rice                            |Allentown     |\n",
      "|Quality Hotel                        |Anjou         |\n",
      "|Zibo Anjou                           |Anjou         |\n",
      "|Boston Pizza Anjou                   |Anjou         |\n",
      "|Galeries d'Anjou                     |Anjou         |\n",
      "|Baton Rouge                          |Anjou         |\n",
      "|Les 3 Brasseurs                      |Anjou         |\n",
      "|Circle K Stores Inc                  |Anthem        |\n",
      "+-------------------------------------+--------------+\n",
      "only showing top 20 rows\n",
      "\n"
     ]
    }
   ],
   "source": [
    "spark.sql(\"\"\"select name as Business_Type, city as City\n",
    "from business\n",
    "group by name, city\n",
    "order by city asc\"\"\").show(truncate=False)"
   ]
  },
  {
   "cell_type": "markdown",
   "id": "69b57f1f",
   "metadata": {},
   "source": [
    "### `4.\tWhat are the top three business types in each city?`"
   ]
  },
  {
   "cell_type": "code",
   "execution_count": 11,
   "id": "4971ce93",
   "metadata": {},
   "outputs": [
    {
     "name": "stdout",
     "output_type": "stream",
     "text": [
      "+------------------------------------------------------+---------------+-----+\n",
      "|Business_Type                                         |City           |Top_3|\n",
      "+------------------------------------------------------+---------------+-----+\n",
      "|Bridge Inn Ratho                                      |Ratho          |1    |\n",
      "|World of Nails                                        |Fountain Hls   |1    |\n",
      "|Second Look Books                                     |Harrisburg     |1    |\n",
      "|Richie's Nypd                                         |Harrisburg     |2    |\n",
      "|QuikTrip                                              |Harrisburg     |3    |\n",
      "|uBreakiFix                                            |Tempe          |1    |\n",
      "|lumenbrite - Adobe Authorized Training in Phoenix Area|Tempe          |2    |\n",
      "|iSolution Repairs, LLC                                |Tempe          |3    |\n",
      "|Strøm                                                 |Île des Soeurs |1    |\n",
      "|Lowe's Home Improvement                               |C Las Vegas    |1    |\n",
      "|New Amsterdam                                         |Lawrenceville  |1    |\n",
      "|Matteo's                                              |Lawrenceville  |2    |\n",
      "|LA Fitness                                            |Mesa           |1    |\n",
      "|Wood Creations Vegas                                  |North Las Vegas|1    |\n",
      "|Wingstop                                              |North Las Vegas|2    |\n",
      "|Wings Restaurant                                      |North Las Vegas|3    |\n",
      "|Buffet Vichy St Hubert                                |Saint-Hubert   |1    |\n",
      "|Salvatore's Pizza House                               |Wilkinsburg    |1    |\n",
      "|Penn Ave Car Wash                                     |Wilkinsburg    |2    |\n",
      "|Monro Muffler Brake & Service                         |Wilkinsburg    |3    |\n",
      "+------------------------------------------------------+---------------+-----+\n",
      "only showing top 20 rows\n",
      "\n"
     ]
    }
   ],
   "source": [
    "spark.sql(\"\"\"select name as Business_Type, city as City, rank as Top_3\n",
    "from (\n",
    "select *, dense_rank() over (partition by city order by name desc) as rank \n",
    "from business)\n",
    "where rank <= 3\"\"\").show(truncate=False)"
   ]
  },
  {
   "cell_type": "markdown",
   "id": "fb5dbc0e",
   "metadata": {},
   "source": [
    "### `5.\tWhat are the three business categories with the most consumer comments?`"
   ]
  },
  {
   "cell_type": "code",
   "execution_count": 12,
   "id": "849d0792",
   "metadata": {},
   "outputs": [
    {
     "name": "stdout",
     "output_type": "stream",
     "text": [
      "+----------------------------------------------------+-----------------+\n",
      "|Business_Categories                                 |Customer_Comments|\n",
      "+----------------------------------------------------+-----------------+\n",
      "|[Mexican, Restaurants]                              |1481             |\n",
      "|[Pizza, Restaurants]                                |1068             |\n",
      "|[Hotels & Travel, Event Planning & Services, Hotels]|982              |\n",
      "+----------------------------------------------------+-----------------+\n",
      "only showing top 3 rows\n",
      "\n"
     ]
    }
   ],
   "source": [
    "spark.sql(\"\"\"select categories as Business_Categories, count(review_count) as Customer_Comments\n",
    "from business\n",
    "group by categories\n",
    "order by count(review_count) desc\n",
    "\"\"\").show(3, truncate=False)"
   ]
  },
  {
   "cell_type": "markdown",
   "id": "ebfb69dc",
   "metadata": {},
   "source": [
    "### `6.\tWhat are the three most popular business categories in each city?`"
   ]
  },
  {
   "cell_type": "code",
   "execution_count": 18,
   "id": "2742b608",
   "metadata": {},
   "outputs": [
    {
     "data": {
      "text/html": [
       "<div>\n",
       "<style scoped>\n",
       "    .dataframe tbody tr th:only-of-type {\n",
       "        vertical-align: middle;\n",
       "    }\n",
       "\n",
       "    .dataframe tbody tr th {\n",
       "        vertical-align: top;\n",
       "    }\n",
       "\n",
       "    .dataframe thead th {\n",
       "        text-align: right;\n",
       "    }\n",
       "</style>\n",
       "<table border=\"1\" class=\"dataframe\">\n",
       "  <thead>\n",
       "    <tr style=\"text-align: right;\">\n",
       "      <th></th>\n",
       "      <th>Top_3_Categories</th>\n",
       "      <th>City</th>\n",
       "      <th>Rank</th>\n",
       "    </tr>\n",
       "  </thead>\n",
       "  <tbody>\n",
       "    <tr>\n",
       "      <th>0</th>\n",
       "      <td>[Bars, Bed &amp; Breakfast, Pubs, Nightlife, Hotels &amp; Travel, Gastropubs, Restaurants]</td>\n",
       "      <td>Ratho</td>\n",
       "      <td>1</td>\n",
       "    </tr>\n",
       "    <tr>\n",
       "      <th>1</th>\n",
       "      <td>[Beauty &amp; Spas, Nail Salons]</td>\n",
       "      <td>Fountain Hls</td>\n",
       "      <td>1</td>\n",
       "    </tr>\n",
       "    <tr>\n",
       "      <th>2</th>\n",
       "      <td>[Seafood, Southern, Chicken Wings, Restaurants]</td>\n",
       "      <td>Harrisburg</td>\n",
       "      <td>1</td>\n",
       "    </tr>\n",
       "    <tr>\n",
       "      <th>3</th>\n",
       "      <td>[Seafood, Restaurants]</td>\n",
       "      <td>Harrisburg</td>\n",
       "      <td>2</td>\n",
       "    </tr>\n",
       "    <tr>\n",
       "      <th>4</th>\n",
       "      <td>[Restaurants, Pizza, Italian]</td>\n",
       "      <td>Harrisburg</td>\n",
       "      <td>3</td>\n",
       "    </tr>\n",
       "    <tr>\n",
       "      <th>...</th>\n",
       "      <td>...</td>\n",
       "      <td>...</td>\n",
       "      <td>...</td>\n",
       "    </tr>\n",
       "    <tr>\n",
       "      <th>848</th>\n",
       "      <td>[Landmarks &amp; Historical Buildings, Public Services &amp; Government]</td>\n",
       "      <td>Rankin</td>\n",
       "      <td>1</td>\n",
       "    </tr>\n",
       "    <tr>\n",
       "      <th>849</th>\n",
       "      <td>[Banks &amp; Credit Unions, Financial Services]</td>\n",
       "      <td>Rankin</td>\n",
       "      <td>2</td>\n",
       "    </tr>\n",
       "    <tr>\n",
       "      <th>850</th>\n",
       "      <td>[Women's Clothing, Men's Clothing, Fashion, Shopping, Children's Clothing]</td>\n",
       "      <td>Homestead</td>\n",
       "      <td>1</td>\n",
       "    </tr>\n",
       "    <tr>\n",
       "      <th>851</th>\n",
       "      <td>[Women's Clothing, Department Stores, Fashion, Shopping, Men's Clothing]</td>\n",
       "      <td>Homestead</td>\n",
       "      <td>2</td>\n",
       "    </tr>\n",
       "    <tr>\n",
       "      <th>852</th>\n",
       "      <td>[Vietnamese, Chinese, Restaurants]</td>\n",
       "      <td>Homestead</td>\n",
       "      <td>3</td>\n",
       "    </tr>\n",
       "  </tbody>\n",
       "</table>\n",
       "<p>853 rows × 3 columns</p>\n",
       "</div>"
      ],
      "text/plain": [
       "                                                                       Top_3_Categories  \\\n",
       "0    [Bars, Bed & Breakfast, Pubs, Nightlife, Hotels & Travel, Gastropubs, Restaurants]   \n",
       "1                                                          [Beauty & Spas, Nail Salons]   \n",
       "2                                       [Seafood, Southern, Chicken Wings, Restaurants]   \n",
       "3                                                                [Seafood, Restaurants]   \n",
       "4                                                         [Restaurants, Pizza, Italian]   \n",
       "..                                                                                  ...   \n",
       "848                    [Landmarks & Historical Buildings, Public Services & Government]   \n",
       "849                                         [Banks & Credit Unions, Financial Services]   \n",
       "850          [Women's Clothing, Men's Clothing, Fashion, Shopping, Children's Clothing]   \n",
       "851            [Women's Clothing, Department Stores, Fashion, Shopping, Men's Clothing]   \n",
       "852                                                  [Vietnamese, Chinese, Restaurants]   \n",
       "\n",
       "             City  Rank  \n",
       "0           Ratho     1  \n",
       "1    Fountain Hls     1  \n",
       "2      Harrisburg     1  \n",
       "3      Harrisburg     2  \n",
       "4      Harrisburg     3  \n",
       "..            ...   ...  \n",
       "848        Rankin     1  \n",
       "849        Rankin     2  \n",
       "850     Homestead     1  \n",
       "851     Homestead     2  \n",
       "852     Homestead     3  \n",
       "\n",
       "[853 rows x 3 columns]"
      ]
     },
     "execution_count": 18,
     "metadata": {},
     "output_type": "execute_result"
    }
   ],
   "source": [
    "pd.set_option('display.max_colwidth', 100)\n",
    "spark.sql(\"\"\"select categories as Top_3_Categories, city as City, rank as Rank\n",
    "from (\n",
    "select *, dense_rank() over (partition by city order by categories desc) as rank \n",
    "from business)\n",
    "where rank <= 3\"\"\").toPandas()"
   ]
  },
  {
   "cell_type": "markdown",
   "id": "453f0fed",
   "metadata": {},
   "source": [
    "### `7.\tWhat is the total number of comments on each business type in each city?`"
   ]
  },
  {
   "cell_type": "code",
   "execution_count": 14,
   "id": "1520c42c",
   "metadata": {},
   "outputs": [
    {
     "data": {
      "text/html": [
       "<div>\n",
       "<style scoped>\n",
       "    .dataframe tbody tr th:only-of-type {\n",
       "        vertical-align: middle;\n",
       "    }\n",
       "\n",
       "    .dataframe tbody tr th {\n",
       "        vertical-align: top;\n",
       "    }\n",
       "\n",
       "    .dataframe thead th {\n",
       "        text-align: right;\n",
       "    }\n",
       "</style>\n",
       "<table border=\"1\" class=\"dataframe\">\n",
       "  <thead>\n",
       "    <tr style=\"text-align: right;\">\n",
       "      <th></th>\n",
       "      <th>Business_Type</th>\n",
       "      <th>City</th>\n",
       "      <th>Total_Comment</th>\n",
       "    </tr>\n",
       "  </thead>\n",
       "  <tbody>\n",
       "    <tr>\n",
       "      <th>0</th>\n",
       "      <td>Hash House A Go Go</td>\n",
       "      <td>Las Vegas</td>\n",
       "      <td>4796</td>\n",
       "    </tr>\n",
       "    <tr>\n",
       "      <th>1</th>\n",
       "      <td>Mon Ami Gabi</td>\n",
       "      <td>Las Vegas</td>\n",
       "      <td>4578</td>\n",
       "    </tr>\n",
       "    <tr>\n",
       "      <th>2</th>\n",
       "      <td>Earl of Sandwich</td>\n",
       "      <td>Las Vegas</td>\n",
       "      <td>4144</td>\n",
       "    </tr>\n",
       "    <tr>\n",
       "      <th>3</th>\n",
       "      <td>Wicked Spoon</td>\n",
       "      <td>Las Vegas</td>\n",
       "      <td>3828</td>\n",
       "    </tr>\n",
       "    <tr>\n",
       "      <th>4</th>\n",
       "      <td>The Buffet</td>\n",
       "      <td>Las Vegas</td>\n",
       "      <td>3328</td>\n",
       "    </tr>\n",
       "    <tr>\n",
       "      <th>...</th>\n",
       "      <td>...</td>\n",
       "      <td>...</td>\n",
       "      <td>...</td>\n",
       "    </tr>\n",
       "    <tr>\n",
       "      <th>52902</th>\n",
       "      <td>Patty's Ultimate Sports Massage &amp; Deep Tissue Therapy</td>\n",
       "      <td>Tempe</td>\n",
       "      <td>3</td>\n",
       "    </tr>\n",
       "    <tr>\n",
       "      <th>52903</th>\n",
       "      <td>Aracruz International Granite</td>\n",
       "      <td>Phoenix</td>\n",
       "      <td>3</td>\n",
       "    </tr>\n",
       "    <tr>\n",
       "      <th>52904</th>\n",
       "      <td>Black Box</td>\n",
       "      <td>Edinburgh</td>\n",
       "      <td>3</td>\n",
       "    </tr>\n",
       "    <tr>\n",
       "      <th>52905</th>\n",
       "      <td>Shepherd Eye Center</td>\n",
       "      <td>Henderson</td>\n",
       "      <td>3</td>\n",
       "    </tr>\n",
       "    <tr>\n",
       "      <th>52906</th>\n",
       "      <td>New Eastern Seafood Buffet</td>\n",
       "      <td>Mesa</td>\n",
       "      <td>3</td>\n",
       "    </tr>\n",
       "  </tbody>\n",
       "</table>\n",
       "<p>52907 rows × 3 columns</p>\n",
       "</div>"
      ],
      "text/plain": [
       "                                               Business_Type       City  \\\n",
       "0                                         Hash House A Go Go  Las Vegas   \n",
       "1                                               Mon Ami Gabi  Las Vegas   \n",
       "2                                           Earl of Sandwich  Las Vegas   \n",
       "3                                               Wicked Spoon  Las Vegas   \n",
       "4                                                 The Buffet  Las Vegas   \n",
       "...                                                      ...        ...   \n",
       "52902  Patty's Ultimate Sports Massage & Deep Tissue Therapy      Tempe   \n",
       "52903                          Aracruz International Granite    Phoenix   \n",
       "52904                                              Black Box  Edinburgh   \n",
       "52905                                    Shepherd Eye Center  Henderson   \n",
       "52906                             New Eastern Seafood Buffet       Mesa   \n",
       "\n",
       "       Total_Comment  \n",
       "0               4796  \n",
       "1               4578  \n",
       "2               4144  \n",
       "3               3828  \n",
       "4               3328  \n",
       "...              ...  \n",
       "52902              3  \n",
       "52903              3  \n",
       "52904              3  \n",
       "52905              3  \n",
       "52906              3  \n",
       "\n",
       "[52907 rows x 3 columns]"
      ]
     },
     "execution_count": 14,
     "metadata": {},
     "output_type": "execute_result"
    }
   ],
   "source": [
    "spark.sql(\"\"\"select name as Business_Type, city as City, sum(review_count) as Total_Comment\n",
    "from business\n",
    "group by name, city\n",
    "order by sum(review_count) desc\"\"\").toPandas()"
   ]
  },
  {
   "cell_type": "markdown",
   "id": "61854c52",
   "metadata": {},
   "source": [
    "### `8.\tWhat is the average score of each business type?`"
   ]
  },
  {
   "cell_type": "code",
   "execution_count": 15,
   "id": "c5927776",
   "metadata": {},
   "outputs": [
    {
     "data": {
      "text/html": [
       "<div>\n",
       "<style scoped>\n",
       "    .dataframe tbody tr th:only-of-type {\n",
       "        vertical-align: middle;\n",
       "    }\n",
       "\n",
       "    .dataframe tbody tr th {\n",
       "        vertical-align: top;\n",
       "    }\n",
       "\n",
       "    .dataframe thead th {\n",
       "        text-align: right;\n",
       "    }\n",
       "</style>\n",
       "<table border=\"1\" class=\"dataframe\">\n",
       "  <thead>\n",
       "    <tr style=\"text-align: right;\">\n",
       "      <th></th>\n",
       "      <th>Business_Type</th>\n",
       "      <th>Average_Score</th>\n",
       "    </tr>\n",
       "  </thead>\n",
       "  <tbody>\n",
       "    <tr>\n",
       "      <th>0</th>\n",
       "      <td>Bricks Studio</td>\n",
       "      <td>5.0</td>\n",
       "    </tr>\n",
       "    <tr>\n",
       "      <th>1</th>\n",
       "      <td>Maricopa Mountain Plumbing</td>\n",
       "      <td>5.0</td>\n",
       "    </tr>\n",
       "    <tr>\n",
       "      <th>2</th>\n",
       "      <td>Chiropractic Health Innovations DC</td>\n",
       "      <td>5.0</td>\n",
       "    </tr>\n",
       "    <tr>\n",
       "      <th>3</th>\n",
       "      <td>West USA Realty</td>\n",
       "      <td>5.0</td>\n",
       "    </tr>\n",
       "    <tr>\n",
       "      <th>4</th>\n",
       "      <td>BOX</td>\n",
       "      <td>5.0</td>\n",
       "    </tr>\n",
       "    <tr>\n",
       "      <th>...</th>\n",
       "      <td>...</td>\n",
       "      <td>...</td>\n",
       "    </tr>\n",
       "    <tr>\n",
       "      <th>45689</th>\n",
       "      <td>Maid 4 It All</td>\n",
       "      <td>1.0</td>\n",
       "    </tr>\n",
       "    <tr>\n",
       "      <th>45690</th>\n",
       "      <td>Ticketnetwork</td>\n",
       "      <td>1.0</td>\n",
       "    </tr>\n",
       "    <tr>\n",
       "      <th>45691</th>\n",
       "      <td>TruGreen</td>\n",
       "      <td>1.0</td>\n",
       "    </tr>\n",
       "    <tr>\n",
       "      <th>45692</th>\n",
       "      <td>Hy-Bar Windows &amp; Doors</td>\n",
       "      <td>1.0</td>\n",
       "    </tr>\n",
       "    <tr>\n",
       "      <th>45693</th>\n",
       "      <td>Oasis Gateway Apartments</td>\n",
       "      <td>1.0</td>\n",
       "    </tr>\n",
       "  </tbody>\n",
       "</table>\n",
       "<p>45694 rows × 2 columns</p>\n",
       "</div>"
      ],
      "text/plain": [
       "                            Business_Type  Average_Score\n",
       "0                           Bricks Studio            5.0\n",
       "1              Maricopa Mountain Plumbing            5.0\n",
       "2      Chiropractic Health Innovations DC            5.0\n",
       "3                         West USA Realty            5.0\n",
       "4                                     BOX            5.0\n",
       "...                                   ...            ...\n",
       "45689                       Maid 4 It All            1.0\n",
       "45690                       Ticketnetwork            1.0\n",
       "45691                            TruGreen            1.0\n",
       "45692              Hy-Bar Windows & Doors            1.0\n",
       "45693            Oasis Gateway Apartments            1.0\n",
       "\n",
       "[45694 rows x 2 columns]"
      ]
     },
     "execution_count": 15,
     "metadata": {},
     "output_type": "execute_result"
    }
   ],
   "source": [
    "spark.sql(\"\"\"select name as Business_Type, avg(stars) as Average_Score\n",
    "from business\n",
    "group by name\n",
    "order by avg(stars) desc\"\"\").toPandas()"
   ]
  },
  {
   "cell_type": "markdown",
   "id": "f0acdf98",
   "metadata": {},
   "source": [
    "### `9.\tWhat is the average score of each business type in each city?'`"
   ]
  },
  {
   "cell_type": "code",
   "execution_count": 16,
   "id": "9c828d5c",
   "metadata": {},
   "outputs": [
    {
     "data": {
      "text/html": [
       "<div>\n",
       "<style scoped>\n",
       "    .dataframe tbody tr th:only-of-type {\n",
       "        vertical-align: middle;\n",
       "    }\n",
       "\n",
       "    .dataframe tbody tr th {\n",
       "        vertical-align: top;\n",
       "    }\n",
       "\n",
       "    .dataframe thead th {\n",
       "        text-align: right;\n",
       "    }\n",
       "</style>\n",
       "<table border=\"1\" class=\"dataframe\">\n",
       "  <thead>\n",
       "    <tr style=\"text-align: right;\">\n",
       "      <th></th>\n",
       "      <th>name</th>\n",
       "      <th>city</th>\n",
       "      <th>Average_Score</th>\n",
       "    </tr>\n",
       "  </thead>\n",
       "  <tbody>\n",
       "    <tr>\n",
       "      <th>0</th>\n",
       "      <td>O48 Realty</td>\n",
       "      <td>Las Vegas</td>\n",
       "      <td>1.0</td>\n",
       "    </tr>\n",
       "    <tr>\n",
       "      <th>1</th>\n",
       "      <td>Master Mobile Mechanics</td>\n",
       "      <td>Las Vegas</td>\n",
       "      <td>1.0</td>\n",
       "    </tr>\n",
       "    <tr>\n",
       "      <th>2</th>\n",
       "      <td>Boba Deli</td>\n",
       "      <td>Tempe</td>\n",
       "      <td>1.0</td>\n",
       "    </tr>\n",
       "    <tr>\n",
       "      <th>3</th>\n",
       "      <td>Senzala</td>\n",
       "      <td>Montréal</td>\n",
       "      <td>1.0</td>\n",
       "    </tr>\n",
       "    <tr>\n",
       "      <th>4</th>\n",
       "      <td>Children's Medical Group Ltd</td>\n",
       "      <td>Peoria</td>\n",
       "      <td>1.0</td>\n",
       "    </tr>\n",
       "    <tr>\n",
       "      <th>...</th>\n",
       "      <td>...</td>\n",
       "      <td>...</td>\n",
       "      <td>...</td>\n",
       "    </tr>\n",
       "    <tr>\n",
       "      <th>52902</th>\n",
       "      <td>Sin City Kiss in Compendium</td>\n",
       "      <td>Las Vegas</td>\n",
       "      <td>5.0</td>\n",
       "    </tr>\n",
       "    <tr>\n",
       "      <th>52903</th>\n",
       "      <td>JesterZ Improv Comedy</td>\n",
       "      <td>Mesa</td>\n",
       "      <td>5.0</td>\n",
       "    </tr>\n",
       "    <tr>\n",
       "      <th>52904</th>\n",
       "      <td>Patty's Ultimate Sports Massage &amp; Deep Tissue Therapy</td>\n",
       "      <td>Tempe</td>\n",
       "      <td>5.0</td>\n",
       "    </tr>\n",
       "    <tr>\n",
       "      <th>52905</th>\n",
       "      <td>Aracruz International Granite</td>\n",
       "      <td>Phoenix</td>\n",
       "      <td>5.0</td>\n",
       "    </tr>\n",
       "    <tr>\n",
       "      <th>52906</th>\n",
       "      <td>The Three Coins</td>\n",
       "      <td>Edinburgh</td>\n",
       "      <td>5.0</td>\n",
       "    </tr>\n",
       "  </tbody>\n",
       "</table>\n",
       "<p>52907 rows × 3 columns</p>\n",
       "</div>"
      ],
      "text/plain": [
       "                                                        name       city  \\\n",
       "0                                                 O48 Realty  Las Vegas   \n",
       "1                                    Master Mobile Mechanics  Las Vegas   \n",
       "2                                                  Boba Deli      Tempe   \n",
       "3                                                    Senzala   Montréal   \n",
       "4                               Children's Medical Group Ltd     Peoria   \n",
       "...                                                      ...        ...   \n",
       "52902                            Sin City Kiss in Compendium  Las Vegas   \n",
       "52903                                  JesterZ Improv Comedy       Mesa   \n",
       "52904  Patty's Ultimate Sports Massage & Deep Tissue Therapy      Tempe   \n",
       "52905                          Aracruz International Granite    Phoenix   \n",
       "52906                                        The Three Coins  Edinburgh   \n",
       "\n",
       "       Average_Score  \n",
       "0                1.0  \n",
       "1                1.0  \n",
       "2                1.0  \n",
       "3                1.0  \n",
       "4                1.0  \n",
       "...              ...  \n",
       "52902            5.0  \n",
       "52903            5.0  \n",
       "52904            5.0  \n",
       "52905            5.0  \n",
       "52906            5.0  \n",
       "\n",
       "[52907 rows x 3 columns]"
      ]
     },
     "execution_count": 16,
     "metadata": {},
     "output_type": "execute_result"
    }
   ],
   "source": [
    "spark.sql(\"\"\"select name, city, avg(stars) as Average_Score\n",
    "from business\n",
    "group by name, city\n",
    "order by avg(stars)\"\"\").toPandas()"
   ]
  },
  {
   "cell_type": "markdown",
   "id": "d618d04b",
   "metadata": {},
   "source": [
    "### `10.\tWhich of the three business types with the highest average score in each city?`"
   ]
  },
  {
   "cell_type": "code",
   "execution_count": 17,
   "id": "ee51e17b",
   "metadata": {},
   "outputs": [
    {
     "name": "stdout",
     "output_type": "stream",
     "text": [
      "+------------------------------------------------------+---------------+-------------+----+\n",
      "|Business_Type                                         |City           |Average_Score|Rank|\n",
      "+------------------------------------------------------+---------------+-------------+----+\n",
      "|Bridge Inn Ratho                                      |Ratho          |3.5          |1   |\n",
      "|World of Nails                                        |Fountain Hls   |3.5          |1   |\n",
      "|Second Look Books                                     |Harrisburg     |4.33         |1   |\n",
      "|Richie's Nypd                                         |Harrisburg     |4.33         |2   |\n",
      "|QuikTrip                                              |Harrisburg     |4.33         |3   |\n",
      "|uBreakiFix                                            |Tempe          |4.67         |1   |\n",
      "|lumenbrite - Adobe Authorized Training in Phoenix Area|Tempe          |4.67         |2   |\n",
      "|iSolution Repairs, LLC                                |Tempe          |4.67         |3   |\n",
      "|Strøm                                                 |Île des Soeurs |4.0          |1   |\n",
      "|Lowe's Home Improvement                               |C Las Vegas    |3.0          |1   |\n",
      "|New Amsterdam                                         |Lawrenceville  |3.75         |1   |\n",
      "|Matteo's                                              |Lawrenceville  |3.75         |2   |\n",
      "|LA Fitness                                            |Mesa           |3.0          |1   |\n",
      "|Wood Creations Vegas                                  |North Las Vegas|3.17         |1   |\n",
      "|Wingstop                                              |North Las Vegas|3.17         |2   |\n",
      "|Wings Restaurant                                      |North Las Vegas|3.17         |3   |\n",
      "|Buffet Vichy St Hubert                                |Saint-Hubert   |2.5          |1   |\n",
      "|Salvatore's Pizza House                               |Wilkinsburg    |3.0          |1   |\n",
      "|Penn Ave Car Wash                                     |Wilkinsburg    |3.0          |2   |\n",
      "|Monro Muffler Brake & Service                         |Wilkinsburg    |3.0          |3   |\n",
      "+------------------------------------------------------+---------------+-------------+----+\n",
      "only showing top 20 rows\n",
      "\n"
     ]
    }
   ],
   "source": [
    "spark.sql(\"\"\"select name as Business_Type, city as City, round(avg(stars) over (partition by city),2) as Average_Score, rank as Rank\n",
    "from (\n",
    "select *, row_number() over (partition by city order by name desc) as rank \n",
    "from business)\n",
    "where rank <= 3\"\"\").show(truncate=False)"
   ]
  },
  {
   "cell_type": "code",
   "execution_count": null,
   "id": "a1a2fb0f",
   "metadata": {},
   "outputs": [],
   "source": []
  }
 ],
 "metadata": {
  "kernelspec": {
   "display_name": "Python 3 (ipykernel)",
   "language": "python",
   "name": "python3"
  },
  "language_info": {
   "codemirror_mode": {
    "name": "ipython",
    "version": 3
   },
   "file_extension": ".py",
   "mimetype": "text/x-python",
   "name": "python",
   "nbconvert_exporter": "python",
   "pygments_lexer": "ipython3",
   "version": "3.9.6"
  }
 },
 "nbformat": 4,
 "nbformat_minor": 5
}
