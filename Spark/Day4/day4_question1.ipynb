{
 "cells": [
  {
   "cell_type": "code",
   "execution_count": 1,
   "id": "deb177cf",
   "metadata": {},
   "outputs": [],
   "source": [
    "from pyspark.sql import SparkSession\n",
    "import pyspark.sql.functions as f\n",
    "from pyspark.sql.functions import lit\n",
    "\n",
    "spark = (SparkSession.builder.appName(\"Day 4 RDDS\").getOrCreate())"
   ]
  },
  {
   "cell_type": "code",
   "execution_count": 3,
   "id": "1206a271",
   "metadata": {},
   "outputs": [],
   "source": [
    "statistics = [('site1','user1','2016-11-20', '02:12:22'),\n",
    "              ('site1', 'user2', '2016-11-28', '04:12:22'),\n",
    "              ('site1', 'user3', '2016-11-20', '11:12:22'),\n",
    "              ('site1', 'user3', '2016-11-23', ' 11:12:22'),\n",
    "              ('site2', 'user4', '2016-11-20', '15:12:22'),\n",
    "              ('site3', 'user5', '2016-11-29', '08:12:22'),\n",
    "              ('site3', 'user6', '2016-11-22', '08:12:22'),\n",
    "              ('site4', 'user7', '2016-11-20', '10:12:22'),\n",
    "              ('site4', 'user7', '2016-11-24', '11:12:22')\n",
    "             ]"
   ]
  },
  {
   "cell_type": "code",
   "execution_count": 4,
   "id": "7658a0b1",
   "metadata": {},
   "outputs": [],
   "source": [
    "df = spark.createDataFrame(statistics, [\"site\", \"users\", \"date\", \"hour\"])"
   ]
  },
  {
   "cell_type": "code",
   "execution_count": 5,
   "id": "c6e69d6e",
   "metadata": {},
   "outputs": [
    {
     "name": "stdout",
     "output_type": "stream",
     "text": [
      "+-----+-----+----------+---------+\n",
      "| site|users|      date|     hour|\n",
      "+-----+-----+----------+---------+\n",
      "|site1|user1|2016-11-20| 02:12:22|\n",
      "|site1|user2|2016-11-28| 04:12:22|\n",
      "|site1|user3|2016-11-20| 11:12:22|\n",
      "|site1|user3|2016-11-23| 11:12:22|\n",
      "|site2|user4|2016-11-20| 15:12:22|\n",
      "|site3|user5|2016-11-29| 08:12:22|\n",
      "|site3|user6|2016-11-22| 08:12:22|\n",
      "|site4|user7|2016-11-20| 10:12:22|\n",
      "|site4|user7|2016-11-24| 11:12:22|\n",
      "+-----+-----+----------+---------+\n",
      "\n"
     ]
    }
   ],
   "source": [
    "df.show()"
   ]
  },
  {
   "cell_type": "code",
   "execution_count": 126,
   "id": "8ea50ea1",
   "metadata": {},
   "outputs": [
    {
     "name": "stdout",
     "output_type": "stream",
     "text": [
      "+----------+---+---+\n",
      "|date      |PV |PU |\n",
      "+----------+---+---+\n",
      "|2016-11-20|4  |4  |\n",
      "|2016-11-22|1  |1  |\n",
      "|2016-11-23|1  |1  |\n",
      "|2016-11-24|1  |1  |\n",
      "|2016-11-28|1  |1  |\n",
      "|2016-11-29|1  |1  |\n",
      "+----------+---+---+\n",
      "\n"
     ]
    }
   ],
   "source": [
    "date = df.groupby('date') \\\n",
    ".agg(f.count('site').alias('PV'), \\\n",
    "     f.count(\"users\").alias('PU') \\\n",
    ") \\\n",
    ".orderBy('date') \\\n",
    ".show(truncate=False)"
   ]
  },
  {
   "cell_type": "code",
   "execution_count": 121,
   "id": "3e45fdf8",
   "metadata": {},
   "outputs": [
    {
     "name": "stdout",
     "output_type": "stream",
     "text": [
      "+---------+---+---+\n",
      "|hour     |PV |PU |\n",
      "+---------+---+---+\n",
      "| 11:12:22|1  |1  |\n",
      "|02:12:22 |1  |1  |\n",
      "|04:12:22 |1  |1  |\n",
      "|08:12:22 |2  |2  |\n",
      "|10:12:22 |1  |1  |\n",
      "|11:12:22 |2  |2  |\n",
      "|15:12:22 |1  |1  |\n",
      "+---------+---+---+\n",
      "\n"
     ]
    }
   ],
   "source": [
    "hour = df.groupby('hour') \\\n",
    ".agg(f.count('site').alias('PV'), \\\n",
    "     f.count(\"users\").alias('PU') \\\n",
    ") \\\n",
    ".orderBy('hour') \\\n",
    ".show(truncate=False)"
   ]
  },
  {
   "cell_type": "code",
   "execution_count": 122,
   "id": "4b60f7dc",
   "metadata": {},
   "outputs": [
    {
     "name": "stdout",
     "output_type": "stream",
     "text": [
      "+-----+---+---+\n",
      "|site |PV |PU |\n",
      "+-----+---+---+\n",
      "|site1|4  |4  |\n",
      "|site2|1  |1  |\n",
      "|site3|2  |2  |\n",
      "|site4|2  |2  |\n",
      "+-----+---+---+\n",
      "\n"
     ]
    }
   ],
   "source": [
    "website = df.groupby('site') \\\n",
    ".agg(f.count('site').alias('PV'), \\\n",
    "     f.count(\"users\").alias('PU') \\\n",
    ") \\\n",
    ".orderBy('site') \\\n",
    ".show(truncate=False)"
   ]
  },
  {
   "cell_type": "code",
   "execution_count": null,
   "id": "916c9729",
   "metadata": {},
   "outputs": [],
   "source": []
  }
 ],
 "metadata": {
  "kernelspec": {
   "display_name": "Python 3 (ipykernel)",
   "language": "python",
   "name": "python3"
  },
  "language_info": {
   "codemirror_mode": {
    "name": "ipython",
    "version": 3
   },
   "file_extension": ".py",
   "mimetype": "text/x-python",
   "name": "python",
   "nbconvert_exporter": "python",
   "pygments_lexer": "ipython3",
   "version": "3.9.6"
  }
 },
 "nbformat": 4,
 "nbformat_minor": 5
}
