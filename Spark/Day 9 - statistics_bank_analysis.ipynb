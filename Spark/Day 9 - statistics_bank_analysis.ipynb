{
 "cells": [
  {
   "cell_type": "code",
   "execution_count": 1,
   "id": "c4a8e9ec",
   "metadata": {},
   "outputs": [],
   "source": [
    "from pyspark.sql import SparkSession\n",
    "import pandas as pd\n",
    "import numpy as np\n",
    "from pyspark.mllib.stat import Statistics"
   ]
  },
  {
   "cell_type": "code",
   "execution_count": 2,
   "id": "8fe3b9cb",
   "metadata": {},
   "outputs": [],
   "source": [
    "spark = (SparkSession.builder.appName(\"Day 9\").master(\"local[1]\").enableHiveSupport().getOrCreate())"
   ]
  },
  {
   "cell_type": "markdown",
   "id": "7ca937ae",
   "metadata": {},
   "source": [
    "## Data Preparation\n",
    "\n",
    "### Bank Analysis\n",
    "\n",
    "<b>Context</b>\n",
    "\n",
    "Banks play a crucial role in market economies. They decide who can obtain financing and on what terms and can make or break investment decisions. For markets and society to function, individuals and companies need access to credit. \n",
    " \n",
    "Banks use credit scoring algorithms to determine whether or not a loan should be granted by calculating the probability of default (unable to repay the loan). This assignment requires you to improve the credit scoring algorithm by predicting the probability that somebody will experience financial distress in the next two years.\n",
    "  \n",
    "Historical data are provided on 250,000 borrowers. See below dataset.\n",
    "\n",
    "<b>Content</b>\n",
    "Training, Test, Sample Entry and Submission Files are provided. Please check the format of the submission file.\n",
    "\n",
    "<b>Dataset</b>\n",
    "cs-training.csv\n",
    "The dataset can be downloaded here: https://github.com/jxchen/Kaggle/blob/master/Give%20Me%20Some%20Credit/cs-training.csv\n",
    "\n",
    "<br>)"
   ]
  },
  {
   "cell_type": "code",
   "execution_count": 3,
   "id": "e7ff20ac",
   "metadata": {},
   "outputs": [],
   "source": [
    "file = 'C:/Users/Lenovo/Documents/cs-training.csv'"
   ]
  },
  {
   "cell_type": "code",
   "execution_count": 4,
   "id": "4d20550a",
   "metadata": {},
   "outputs": [],
   "source": [
    "df = (spark.read.format('csv')\n",
    "     .option(\"header\", \"true\")\n",
    "     .option(\"mode\", \"FAILFAST\")\n",
    "     .option(\"NA\", '')\n",
    "     .load(file))"
   ]
  },
  {
   "cell_type": "code",
   "execution_count": 5,
   "id": "292b35aa",
   "metadata": {},
   "outputs": [
    {
     "data": {
      "text/plain": [
       "['no',\n",
       " 'SeriousDlqin2yrs',\n",
       " 'RevolvingUtilizationOfUnsecuredLines',\n",
       " 'age',\n",
       " 'NumberOfTime30-59DaysPastDueNotWorse',\n",
       " 'DebtRatio',\n",
       " 'MonthlyIncome',\n",
       " 'NumberOfOpenCreditLinesAndLoans',\n",
       " 'NumberOfTimes90DaysLate',\n",
       " 'NumberRealEstateLoansOrLines',\n",
       " 'NumberOfTime60-89DaysPastDueNotWorse',\n",
       " 'NumberOfDependents']"
      ]
     },
     "execution_count": 5,
     "metadata": {},
     "output_type": "execute_result"
    }
   ],
   "source": [
    "df.columns"
   ]
  },
  {
   "cell_type": "code",
   "execution_count": 6,
   "id": "d0b6ca48",
   "metadata": {},
   "outputs": [],
   "source": [
    "df = df.drop('no')"
   ]
  },
  {
   "cell_type": "code",
   "execution_count": 7,
   "id": "bfaf18ad",
   "metadata": {},
   "outputs": [],
   "source": [
    "#change dataframe to rdd\n",
    "rdd = df.rdd"
   ]
  },
  {
   "cell_type": "code",
   "execution_count": 8,
   "id": "559ee492",
   "metadata": {},
   "outputs": [],
   "source": [
    "#convert string values to int, float\n",
    "#clean data\n",
    "rdds = rdd.map(lambda x: (int(x[0]), float(x[1]), int(x[2]), \n",
    "                          int(x[3]), float(x[4]), \n",
    "                          int(x[5].replace('NA', '0')), \n",
    "                          int(x[6]), int(x[7]), int(x[8]), \n",
    "                          int(x[9].replace('NA', '0')),\n",
    "                          int(x[10].replace('NA', '0'))))"
   ]
  },
  {
   "cell_type": "code",
   "execution_count": 9,
   "id": "cea7f35f",
   "metadata": {},
   "outputs": [],
   "source": [
    "rdds = rdds.distinct()"
   ]
  },
  {
   "cell_type": "code",
   "execution_count": 10,
   "id": "24b085cd",
   "metadata": {},
   "outputs": [
    {
     "data": {
      "text/plain": [
       "[(1, 0.766126609, 45, 2, 0.802982129, 9120, 13, 0, 6, 0, 2),\n",
       " (0, 0.957151019, 40, 0, 0.121876201, 2600, 4, 0, 0, 0, 1),\n",
       " (0, 0.65818014, 38, 1, 0.085113375, 3042, 2, 1, 0, 0, 0),\n",
       " (0, 0.233809776, 30, 0, 0.036049682, 3300, 5, 0, 0, 0, 0),\n",
       " (0, 0.9072394, 49, 1, 0.024925695, 63588, 7, 0, 1, 0, 0),\n",
       " (0, 0.213178682, 74, 0, 0.375606969, 3500, 3, 0, 1, 0, 1),\n",
       " (0, 0.305682465, 57, 0, 5710.0, 0, 8, 0, 3, 0, 0),\n",
       " (0, 0.754463648, 39, 0, 0.209940017, 3500, 8, 0, 0, 0, 0),\n",
       " (0, 0.116950644, 27, 0, 46.0, 0, 2, 0, 0, 0, 0),\n",
       " (0, 0.189169052, 57, 0, 0.606290901, 23684, 9, 0, 4, 0, 2)]"
      ]
     },
     "execution_count": 10,
     "metadata": {},
     "output_type": "execute_result"
    }
   ],
   "source": [
    "rdds.take(10)"
   ]
  },
  {
   "cell_type": "markdown",
   "id": "57950d63",
   "metadata": {},
   "source": [
    "### `1.\tThe overall statistics of overdue credit cards.`\n",
    "\n",
    "#### <span style=\"color:red\"> finding overdue credit card: (the total balance of credit card * monthly income) * no. of loans </span>"
   ]
  },
  {
   "cell_type": "code",
   "execution_count": 30,
   "id": "fc2af587",
   "metadata": {},
   "outputs": [],
   "source": [
    "overdue_credit_cards = rdds.filter(lambda x: x[0] != 0) \\\n",
    ".map(lambda x: (x[0], int(((x[1]*x[5])*x[6]))))"
   ]
  },
  {
   "cell_type": "code",
   "execution_count": 31,
   "id": "ae998acd",
   "metadata": {},
   "outputs": [
    {
     "name": "stdout",
     "output_type": "stream",
     "text": [
      "110862.91761647673\n",
      "10346165813815.443\n",
      "7710.0\n"
     ]
    }
   ],
   "source": [
    "import numpy as np\n",
    "from pyspark.mllib.stat import Statistics\n",
    "\n",
    "summary = Statistics.colStats(overdue_credit_cards)\n",
    "print(summary.mean()[-1])\n",
    "print(summary.variance()[-1])\n",
    "print(summary.numNonzeros()[-1])"
   ]
  },
  {
   "cell_type": "markdown",
   "id": "fc3dc7f1",
   "metadata": {},
   "source": [
    "### ` 2.\tCombined statistics of age and overdue credit card.`\n",
    "\n",
    "#### <span style=\"color:red\"> finding overdue credit card: (the total balance of credit card * monthly income) * no. of loans </span>"
   ]
  },
  {
   "cell_type": "code",
   "execution_count": 13,
   "id": "c5331c98",
   "metadata": {},
   "outputs": [
    {
     "name": "stdout",
     "output_type": "stream",
     "text": [
      "[4.61298314e+01 1.43819832e+05]\n",
      "[1.57992611e+02 1.34174938e+13]\n",
      "[7710. 7710.]\n"
     ]
    }
   ],
   "source": [
    "age_credit_card = rdds.filter(lambda x: x[0] != 0) \\\n",
    ".map(lambda x: (x[2], int(((x[1]*x[5])*x[6])))) \\\n",
    ".filter(lambda x: x[1] != 0)\n",
    "\n",
    "summary = Statistics.colStats(age_credit_card)\n",
    "print(summary.mean())\n",
    "print(summary.variance())\n",
    "print(summary.numNonzeros())"
   ]
  },
  {
   "cell_type": "markdown",
   "id": "8813fee3",
   "metadata": {},
   "source": [
    "### `3.\tCombined statistics of the number of real estate mortgage and the overdue credit card.`\n",
    "\n",
    "#### <span style=\"color:red\"> finding overdue credit card: (the total balance of credit card * monthly income) * no. of loans </span>"
   ]
  },
  {
   "cell_type": "code",
   "execution_count": 14,
   "id": "c9033b8e",
   "metadata": {},
   "outputs": [
    {
     "name": "stdout",
     "output_type": "stream",
     "text": [
      "[7.46063787e-01 1.76150864e+05]\n",
      "[1.02555498e+00 1.55439797e+13]\n",
      "[1200. 2477.]\n"
     ]
    }
   ],
   "source": [
    "mortgage_credit_card = rdds.filter(lambda x: x[0] != 0) \\\n",
    ".map(lambda x: (x[8], int(((x[1]*x[5])*x[6])*x[7]))) \\\n",
    ".filter(lambda x: x[1] != 0)\n",
    "\n",
    "summary = Statistics.colStats(mortgage_credit_card)\n",
    "print(summary.mean())\n",
    "print(summary.variance())\n",
    "print(summary.numNonzeros())"
   ]
  },
  {
   "cell_type": "markdown",
   "id": "3e6627d6",
   "metadata": {},
   "source": [
    "### `4.\tCombined statistics of the number of family members and the overdue credit card.`\n",
    "\n",
    "#### <span style=\"color:red\"> finding overdue credit card: (the total balance of credit card * monthly income) * no. of loans </span>"
   ]
  },
  {
   "cell_type": "code",
   "execution_count": 15,
   "id": "77b205fd",
   "metadata": {},
   "outputs": [
    {
     "name": "stdout",
     "output_type": "stream",
     "text": [
      "[1.06044099e+00 1.43819832e+05]\n",
      "[1.54103444e+00 1.34174938e+13]\n",
      "[4163. 7710.]\n"
     ]
    }
   ],
   "source": [
    "family_credit_card = rdds.filter(lambda x: x[0] != 0) \\\n",
    ".map(lambda x: (x[10], int(((x[1]*x[5])*x[6])))) \\\n",
    ".filter(lambda x: x[1] != 0)\n",
    "\n",
    "summary = Statistics.colStats(family_credit_card)\n",
    "print(summary.mean())\n",
    "print(summary.variance())\n",
    "print(summary.numNonzeros())"
   ]
  },
  {
   "cell_type": "markdown",
   "id": "1cc24cbd",
   "metadata": {},
   "source": [
    "### `5.\tCombined statistics of monthly income and overdue credit card.`\n",
    "\n",
    "#### <span style=\"color:red\"> finding overdue credit card: (the total balance of credit card * monthly income) * no. of loans </span>"
   ]
  },
  {
   "cell_type": "code",
   "execution_count": 16,
   "id": "f64dd6ef",
   "metadata": {},
   "outputs": [
    {
     "name": "stdout",
     "output_type": "stream",
     "text": [
      "[  5751.10077821 143819.83164721]\n",
      "[3.29908276e+07 1.34174938e+13]\n",
      "[7710. 7710.]\n"
     ]
    }
   ],
   "source": [
    "income_credit_card = rdds.filter(lambda x: x[0] != 0) \\\n",
    ".map(lambda x: (x[5], int(((x[1]*x[5])*x[6])))) \\\n",
    ".filter(lambda x: x[1] != 0)\n",
    "\n",
    "summary = Statistics.colStats(income_credit_card)\n",
    "print(summary.mean())\n",
    "print(summary.variance())\n",
    "print(summary.numNonzeros())"
   ]
  },
  {
   "cell_type": "markdown",
   "id": "f201a9e7",
   "metadata": {},
   "source": [
    "### `6.\tStatistics of overdue users of different ages.`"
   ]
  },
  {
   "cell_type": "code",
   "execution_count": 17,
   "id": "d7c92a5a",
   "metadata": {},
   "outputs": [],
   "source": [
    "overdue_users_age = rdds.filter(lambda x: x[0] != 0) \\\n",
    ".map(lambda x: (int(((x[1]*x[5])*x[6])), x[2])) \\\n",
    ".filter(lambda x: x[1] != 0)"
   ]
  },
  {
   "cell_type": "code",
   "execution_count": 18,
   "id": "62e5021c",
   "metadata": {},
   "outputs": [],
   "source": [
    "mapvalues = overdue_users_age.mapValues(lambda x: (x, 1))\n",
    "reducebykey = mapvalues.reduceByKey(lambda x, y: (x[0]+y[0], x[1]+y[1]))\n",
    "maps = reducebykey.map(lambda x: (x[0], x[1][0]))"
   ]
  },
  {
   "cell_type": "code",
   "execution_count": 19,
   "id": "fab706d9",
   "metadata": {
    "scrolled": true
   },
   "outputs": [
    {
     "name": "stdout",
     "output_type": "stream",
     "text": [
      "[1.58344842e+05 6.62169404e+01]\n",
      "[1.48999592e+13 1.55771384e+06]\n",
      "[6941. 6942.]\n"
     ]
    }
   ],
   "source": [
    "summary = Statistics.colStats(maps)\n",
    "print(summary.mean())\n",
    "print(summary.variance())\n",
    "print(summary.numNonzeros())"
   ]
  },
  {
   "cell_type": "markdown",
   "id": "e65276fa",
   "metadata": {},
   "source": [
    "### `7.\tAmong the overdue users, how many people have monthly income of less than 10,000 and have real estate loans, and what is the total proportion?`"
   ]
  },
  {
   "cell_type": "code",
   "execution_count": 26,
   "id": "71799bfd",
   "metadata": {},
   "outputs": [],
   "source": [
    "monthlyincome_1000 = rdds.filter(lambda x: x[5] < 10000) \\\n",
    ".filter(lambda x: x[8] > 0) \\\n",
    ".filter(lambda x: x[0] != 0) \\\n",
    ".count()"
   ]
  },
  {
   "cell_type": "code",
   "execution_count": 27,
   "id": "974e8d13",
   "metadata": {},
   "outputs": [
    {
     "data": {
      "text/plain": [
       "0.03084"
      ]
     },
     "execution_count": 27,
     "metadata": {},
     "output_type": "execute_result"
    }
   ],
   "source": [
    "monthlyincome_1000/rdd.count()"
   ]
  },
  {
   "cell_type": "markdown",
   "id": "5c830a61",
   "metadata": {},
   "source": [
    "### `8.\tAmong the overdue users, how many people with monthly income of less than 10,000 and have more than 3 family members, and what is the total proportion?`"
   ]
  },
  {
   "cell_type": "code",
   "execution_count": 22,
   "id": "8c705b2d",
   "metadata": {},
   "outputs": [],
   "source": [
    "monthlyincome_fam = rdds.filter(lambda x: x[5] < 10000) \\\n",
    ".filter(lambda x: x[10] > 3) \\\n",
    ".count()"
   ]
  },
  {
   "cell_type": "code",
   "execution_count": 23,
   "id": "01db94b3",
   "metadata": {},
   "outputs": [
    {
     "data": {
      "text/plain": [
       "0.018593333333333333"
      ]
     },
     "execution_count": 23,
     "metadata": {},
     "output_type": "execute_result"
    }
   ],
   "source": [
    "monthlyincome_fam/rdd.count()"
   ]
  },
  {
   "cell_type": "markdown",
   "id": "7ba961cf",
   "metadata": {},
   "source": [
    "### `9.\tWhat is the total amount of credit card outstanding among all overdue users?`"
   ]
  },
  {
   "cell_type": "code",
   "execution_count": 24,
   "id": "dc88c04e",
   "metadata": {},
   "outputs": [],
   "source": [
    "total_credit_card = rdds.map(lambda x: int(((x[1]*x[5])*x[6]))) \\\n",
    ".filter(lambda x: x != 0) \\\n",
    ".reduce(lambda x,y: x+y)"
   ]
  },
  {
   "cell_type": "code",
   "execution_count": 25,
   "id": "39ac3f4f",
   "metadata": {},
   "outputs": [
    {
     "data": {
      "text/plain": [
       "51669782474"
      ]
     },
     "execution_count": 25,
     "metadata": {},
     "output_type": "execute_result"
    }
   ],
   "source": [
    "total_credit_card"
   ]
  }
 ],
 "metadata": {
  "kernelspec": {
   "display_name": "Python 3 (ipykernel)",
   "language": "python",
   "name": "python3"
  },
  "language_info": {
   "codemirror_mode": {
    "name": "ipython",
    "version": 3
   },
   "file_extension": ".py",
   "mimetype": "text/x-python",
   "name": "python",
   "nbconvert_exporter": "python",
   "pygments_lexer": "ipython3",
   "version": "3.9.6"
  }
 },
 "nbformat": 4,
 "nbformat_minor": 5
}
