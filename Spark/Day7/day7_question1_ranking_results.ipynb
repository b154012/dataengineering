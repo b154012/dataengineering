{
 "cells": [
  {
   "cell_type": "code",
   "execution_count": 1,
   "id": "e66df8bd",
   "metadata": {},
   "outputs": [],
   "source": [
    "from pyspark.sql import SparkSession"
   ]
  },
  {
   "cell_type": "code",
   "execution_count": 2,
   "id": "eb708568",
   "metadata": {},
   "outputs": [],
   "source": [
    "spark = (SparkSession.builder.appName(\"Day 7 question 1\").master(\"local[1]\").enableHiveSupport().getOrCreate())"
   ]
  },
  {
   "cell_type": "markdown",
   "id": "ee2693fc",
   "metadata": {},
   "source": [
    "# Data Preparation for RDD\n",
    "\n",
    "1.\tRanking of results – The below is a list of student information, including name, age, score."
   ]
  },
  {
   "cell_type": "code",
   "execution_count": 3,
   "id": "efbf9ae9",
   "metadata": {},
   "outputs": [],
   "source": [
    "students = [(\"Lilei\", 18, 87),\n",
    "            (\"Hanmeimei\", 16, 77),\n",
    "            (\"dachui\", 16, 66),\n",
    "            (\"Jim\", 18, 80),\n",
    "            (\"Ruhua\", 20,50)\n",
    "            ]"
   ]
  },
  {
   "cell_type": "code",
   "execution_count": 4,
   "id": "7ba55358",
   "metadata": {},
   "outputs": [],
   "source": [
    "students_rdd = spark.sparkContext.parallelize(students)"
   ]
  },
  {
   "cell_type": "markdown",
   "id": "6357515f",
   "metadata": {},
   "source": [
    "### `(1)\tUse RDD programming to find the top three students in the score.`"
   ]
  },
  {
   "cell_type": "code",
   "execution_count": 5,
   "id": "91c8ef8f",
   "metadata": {
    "scrolled": true
   },
   "outputs": [
    {
     "data": {
      "text/plain": [
       "[('Lilei', 18, 87), ('Jim', 18, 80), ('Hanmeimei', 16, 77)]"
      ]
     },
     "execution_count": 5,
     "metadata": {},
     "output_type": "execute_result"
    }
   ],
   "source": [
    "students_rdd.sortBy(lambda x: x[2], ascending=False) \\\n",
    ".top(3, lambda x: x[2])"
   ]
  },
  {
   "cell_type": "markdown",
   "id": "e492db96",
   "metadata": {},
   "source": [
    "### `(3)\tUse RDD programming to find out the students who rank first and last in the score.`"
   ]
  },
  {
   "cell_type": "code",
   "execution_count": 6,
   "id": "657a1a0c",
   "metadata": {},
   "outputs": [
    {
     "data": {
      "text/plain": [
       "[('Lilei', 18, 87)]"
      ]
     },
     "execution_count": 6,
     "metadata": {},
     "output_type": "execute_result"
    }
   ],
   "source": [
    "#rank first\n",
    "students_rdd.sortBy(lambda x: x[2], ascending=False) \\\n",
    ".top(1, lambda x: x[2])"
   ]
  },
  {
   "cell_type": "code",
   "execution_count": 7,
   "id": "3d0f87e0",
   "metadata": {
    "scrolled": true
   },
   "outputs": [
    {
     "data": {
      "text/plain": [
       "('Ruhua', 20, 50)"
      ]
     },
     "execution_count": 7,
     "metadata": {},
     "output_type": "execute_result"
    }
   ],
   "source": [
    "#rank last\n",
    "students_rdd.sortBy(lambda x: x[2], ascending=True) \\\n",
    ".first()"
   ]
  },
  {
   "cell_type": "markdown",
   "id": "56cb673e",
   "metadata": {},
   "source": [
    "### `(5)\tUse RDD programming to calculate the average score.`"
   ]
  },
  {
   "cell_type": "code",
   "execution_count": 8,
   "id": "16bb4c8a",
   "metadata": {},
   "outputs": [],
   "source": [
    "total_score = students_rdd.map(lambda x: x[2]) \\\n",
    ".reduce(lambda x, y: x+y)\n",
    "average_score = total_score/students_rdd.count()"
   ]
  },
  {
   "cell_type": "code",
   "execution_count": 9,
   "id": "ede85772",
   "metadata": {
    "scrolled": true
   },
   "outputs": [
    {
     "data": {
      "text/plain": [
       "72.0"
      ]
     },
     "execution_count": 9,
     "metadata": {},
     "output_type": "execute_result"
    }
   ],
   "source": [
    "average_score"
   ]
  },
  {
   "cell_type": "markdown",
   "id": "324d20ff",
   "metadata": {},
   "source": [
    "# Data Preparation for spark-sql\n",
    "\n",
    "1.\tRanking of results – The below is a list of student information, including name, age, score."
   ]
  },
  {
   "cell_type": "code",
   "execution_count": 10,
   "id": "d70c7314",
   "metadata": {},
   "outputs": [
    {
     "data": {
      "text/plain": [
       "DataFrame[]"
      ]
     },
     "execution_count": 10,
     "metadata": {},
     "output_type": "execute_result"
    }
   ],
   "source": [
    "spark.sql(\"CREATE DATABASE IF NOT EXISTS day7\")"
   ]
  },
  {
   "cell_type": "code",
   "execution_count": 11,
   "id": "0c11cf0f",
   "metadata": {},
   "outputs": [
    {
     "data": {
      "text/plain": [
       "DataFrame[]"
      ]
     },
     "execution_count": 11,
     "metadata": {},
     "output_type": "execute_result"
    }
   ],
   "source": [
    "spark.sql(\"USE day7\")"
   ]
  },
  {
   "cell_type": "code",
   "execution_count": 12,
   "id": "a3b9d9ff",
   "metadata": {},
   "outputs": [
    {
     "data": {
      "text/plain": [
       "DataFrame[]"
      ]
     },
     "execution_count": 12,
     "metadata": {},
     "output_type": "execute_result"
    }
   ],
   "source": [
    "spark.sql(\"\"\"CREATE TABLE IF NOT EXISTS students(name string,age int,score int)\"\"\")"
   ]
  },
  {
   "cell_type": "code",
   "execution_count": 19,
   "id": "afc18731",
   "metadata": {
    "scrolled": true
   },
   "outputs": [
    {
     "name": "stdout",
     "output_type": "stream",
     "text": [
      "+--------+----------+-----------+\n",
      "|database| tableName|isTemporary|\n",
      "+--------+----------+-----------+\n",
      "|    day7| edu_admin|      false|\n",
      "|    day7|edu_admin1|      false|\n",
      "|    day7|  students|      false|\n",
      "+--------+----------+-----------+\n",
      "\n"
     ]
    }
   ],
   "source": [
    "spark.sql(\"show tables\").show()"
   ]
  },
  {
   "cell_type": "code",
   "execution_count": 14,
   "id": "117a20c5",
   "metadata": {},
   "outputs": [
    {
     "data": {
      "text/plain": [
       "DataFrame[]"
      ]
     },
     "execution_count": 14,
     "metadata": {},
     "output_type": "execute_result"
    }
   ],
   "source": [
    "spark.sql(\"\"\"insert into students values ('Lilei', 18, 87),\n",
    "('Hanmeimei', 16, 77), \n",
    "('dachui', 16, 66),\n",
    "('Jim', 18, 80),\n",
    "('Ruhua', 20, 50)\n",
    "\"\"\")"
   ]
  },
  {
   "cell_type": "markdown",
   "id": "01862f44",
   "metadata": {},
   "source": [
    "### `(2)\tUse sparksql programming to find out the top 3 students in the score.`"
   ]
  },
  {
   "cell_type": "code",
   "execution_count": 15,
   "id": "3f5b190e",
   "metadata": {},
   "outputs": [
    {
     "name": "stdout",
     "output_type": "stream",
     "text": [
      "+---------+---+-----+\n",
      "|     name|age|score|\n",
      "+---------+---+-----+\n",
      "|    Lilei| 18|   87|\n",
      "|Hanmeimei| 16|   77|\n",
      "|   dachui| 16|   66|\n",
      "|      Jim| 18|   80|\n",
      "|    Ruhua| 20|   50|\n",
      "+---------+---+-----+\n",
      "\n"
     ]
    }
   ],
   "source": [
    "spark.sql(\"select * from students\").show()"
   ]
  },
  {
   "cell_type": "code",
   "execution_count": 16,
   "id": "ce7280b1",
   "metadata": {
    "scrolled": true
   },
   "outputs": [
    {
     "name": "stdout",
     "output_type": "stream",
     "text": [
      "+---------+---+-----+----+\n",
      "|     name|age|score|rank|\n",
      "+---------+---+-----+----+\n",
      "|    Lilei| 18|   87|   1|\n",
      "|      Jim| 18|   80|   2|\n",
      "|Hanmeimei| 16|   77|   3|\n",
      "+---------+---+-----+----+\n",
      "\n"
     ]
    }
   ],
   "source": [
    "spark.sql(\"\"\"select *\n",
    "from (\n",
    "select *, dense_rank() over(order by score desc) as rank from students) t\n",
    "where rank <= 3\n",
    "\"\"\").show()"
   ]
  },
  {
   "cell_type": "markdown",
   "id": "c54c912f",
   "metadata": {},
   "source": [
    "### `(4)\tUse sparksql programming to find out the students who rank the first and penultimate in the score`"
   ]
  },
  {
   "cell_type": "code",
   "execution_count": 17,
   "id": "eb8faf51",
   "metadata": {
    "scrolled": false
   },
   "outputs": [
    {
     "name": "stdout",
     "output_type": "stream",
     "text": [
      "+------+---+-----+----+\n",
      "|  name|age|score|rank|\n",
      "+------+---+-----+----+\n",
      "| Lilei| 18|   87|   1|\n",
      "|dachui| 16|   66|   4|\n",
      "+------+---+-----+----+\n",
      "\n"
     ]
    }
   ],
   "source": [
    "spark.sql(\"\"\"select *\n",
    "from (\n",
    "select *, dense_rank() over (order by score desc) as rank from students) t\n",
    "where rank == 1 or rank == 4\n",
    "\"\"\").show()"
   ]
  },
  {
   "cell_type": "markdown",
   "id": "f02be8a0",
   "metadata": {},
   "source": [
    "### `(6)\tUse sparksql programming to calculate the average score.`"
   ]
  },
  {
   "cell_type": "code",
   "execution_count": 18,
   "id": "3af7ec70",
   "metadata": {},
   "outputs": [
    {
     "name": "stdout",
     "output_type": "stream",
     "text": [
      "+-------------+\n",
      "|Average_Score|\n",
      "+-------------+\n",
      "|         72.0|\n",
      "+-------------+\n",
      "\n"
     ]
    }
   ],
   "source": [
    "spark.sql(\"\"\"select avg(score) as Average_Score\n",
    "from students\n",
    "\"\"\").show()"
   ]
  },
  {
   "cell_type": "code",
   "execution_count": null,
   "id": "757a7def",
   "metadata": {},
   "outputs": [],
   "source": []
  }
 ],
 "metadata": {
  "kernelspec": {
   "display_name": "Python 3 (ipykernel)",
   "language": "python",
   "name": "python3"
  },
  "language_info": {
   "codemirror_mode": {
    "name": "ipython",
    "version": 3
   },
   "file_extension": ".py",
   "mimetype": "text/x-python",
   "name": "python",
   "nbconvert_exporter": "python",
   "pygments_lexer": "ipython3",
   "version": "3.9.6"
  }
 },
 "nbformat": 4,
 "nbformat_minor": 5
}
