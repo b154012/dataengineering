{
 "cells": [
  {
   "cell_type": "code",
   "execution_count": 1,
   "id": "04d0657f",
   "metadata": {},
   "outputs": [],
   "source": [
    "from pyspark.sql import SparkSession"
   ]
  },
  {
   "cell_type": "code",
   "execution_count": 2,
   "id": "bee34a5f",
   "metadata": {},
   "outputs": [],
   "source": [
    "spark = (SparkSession.builder.appName(\"Day 7 question 2\").master(\"local[1]\").enableHiveSupport().getOrCreate())"
   ]
  },
  {
   "cell_type": "markdown",
   "id": "d2fd70ef",
   "metadata": {},
   "source": [
    "# Data Preparation for sparksql"
   ]
  },
  {
   "cell_type": "code",
   "execution_count": 3,
   "id": "fa16ca69",
   "metadata": {},
   "outputs": [
    {
     "data": {
      "text/plain": [
       "DataFrame[]"
      ]
     },
     "execution_count": 3,
     "metadata": {},
     "output_type": "execute_result"
    }
   ],
   "source": [
    "spark.sql(\"CREATE DATABASE IF NOT EXISTS day7\")\n",
    "spark.sql(\"USE day7\")"
   ]
  },
  {
   "cell_type": "code",
   "execution_count": 4,
   "id": "986e455c",
   "metadata": {},
   "outputs": [
    {
     "data": {
      "text/plain": [
       "DataFrame[]"
      ]
     },
     "execution_count": 4,
     "metadata": {},
     "output_type": "execute_result"
    }
   ],
   "source": [
    "spark.sql(\"\"\"create table if not exists edu_admin(name string, subject string, mark int)\"\"\")"
   ]
  },
  {
   "cell_type": "code",
   "execution_count": 5,
   "id": "15e3784c",
   "metadata": {
    "scrolled": false
   },
   "outputs": [
    {
     "name": "stdout",
     "output_type": "stream",
     "text": [
      "++\n",
      "||\n",
      "++\n",
      "++\n",
      "\n"
     ]
    }
   ],
   "source": [
    "spark.sql(\"\"\"insert into edu_admin values\n",
    "('Tom', 'Database', 80),\n",
    "('Tom', 'Algorithm', 50),\n",
    "('Tom', 'Data Structure', 60),\n",
    "('Jim', 'Database', 90),\n",
    "('Jim', 'Algorithm', 60),\n",
    "('Jim', 'Data Structure', 80)\"\"\").show()"
   ]
  },
  {
   "cell_type": "code",
   "execution_count": 6,
   "id": "dd94067e",
   "metadata": {
    "scrolled": true
   },
   "outputs": [
    {
     "name": "stdout",
     "output_type": "stream",
     "text": [
      "+----+--------------+----+\n",
      "|name|       subject|mark|\n",
      "+----+--------------+----+\n",
      "| Tom|      Database|  80|\n",
      "| Tom|     Algorithm|  50|\n",
      "| Tom|Data Structure|  60|\n",
      "| Jim|      Database|  90|\n",
      "| Jim|     Algorithm|  60|\n",
      "| Jim|Data Structure|  80|\n",
      "+----+--------------+----+\n",
      "\n"
     ]
    }
   ],
   "source": [
    "spark.sql(\"select * from edu_admin\").show()"
   ]
  },
  {
   "cell_type": "markdown",
   "id": "0ff986cd",
   "metadata": {},
   "source": [
    "### `(1) How many students in total?`"
   ]
  },
  {
   "cell_type": "code",
   "execution_count": 7,
   "id": "ece1b7bd",
   "metadata": {},
   "outputs": [
    {
     "name": "stdout",
     "output_type": "stream",
     "text": [
      "+-------------+\n",
      "|Total_Student|\n",
      "+-------------+\n",
      "|            2|\n",
      "+-------------+\n",
      "\n"
     ]
    }
   ],
   "source": [
    "spark.sql(\"\"\"select count(distinct name) as Total_Student from edu_admin\"\"\").show(truncate=True)"
   ]
  },
  {
   "cell_type": "markdown",
   "id": "80c07be2",
   "metadata": {},
   "source": [
    "### `(2) How many courses in total?`"
   ]
  },
  {
   "cell_type": "code",
   "execution_count": 8,
   "id": "18a48d46",
   "metadata": {},
   "outputs": [
    {
     "name": "stdout",
     "output_type": "stream",
     "text": [
      "+------------+\n",
      "|Total_Course|\n",
      "+------------+\n",
      "|           3|\n",
      "+------------+\n",
      "\n"
     ]
    }
   ],
   "source": [
    "spark.sql(\"select count(distinct subject) as Total_Course from edu_admin\").show(truncate=True)"
   ]
  },
  {
   "cell_type": "markdown",
   "id": "79e71690",
   "metadata": {},
   "source": [
    "### `(3) What is the average score of Tom?`"
   ]
  },
  {
   "cell_type": "code",
   "execution_count": 9,
   "id": "83e069e3",
   "metadata": {},
   "outputs": [
    {
     "name": "stdout",
     "output_type": "stream",
     "text": [
      "+-----------------+\n",
      "|Average_Score_Tom|\n",
      "+-----------------+\n",
      "|            63.33|\n",
      "+-----------------+\n",
      "\n"
     ]
    }
   ],
   "source": [
    "spark.sql(\"\"\"select round(avg(mark),2) as Average_Score_Tom \n",
    "          from edu_admin where name = 'Tom'\"\"\").show(truncate=True)"
   ]
  },
  {
   "cell_type": "markdown",
   "id": "ab116111",
   "metadata": {},
   "source": [
    "### `(4) Find the number of courses each student chooses.`"
   ]
  },
  {
   "cell_type": "code",
   "execution_count": 10,
   "id": "a9d0bba1",
   "metadata": {},
   "outputs": [
    {
     "name": "stdout",
     "output_type": "stream",
     "text": [
      "+----+-------------------+\n",
      "|name|No_of_Courses_Taken|\n",
      "+----+-------------------+\n",
      "| Jim|                  3|\n",
      "| Tom|                  3|\n",
      "+----+-------------------+\n",
      "\n"
     ]
    }
   ],
   "source": [
    "spark.sql(\"\"\"select distinct name, count(*) as No_of_Courses_Taken \n",
    "          from edu_admin group by name\"\"\").show(truncate=True)"
   ]
  },
  {
   "cell_type": "markdown",
   "id": "9b9aa370",
   "metadata": {},
   "source": [
    "### `(5) How many students take the database course in the Department?`"
   ]
  },
  {
   "cell_type": "code",
   "execution_count": 11,
   "id": "1f005213",
   "metadata": {},
   "outputs": [
    {
     "name": "stdout",
     "output_type": "stream",
     "text": [
      "+-----------------------+\n",
      "|No_of_Students_Database|\n",
      "+-----------------------+\n",
      "|                      2|\n",
      "+-----------------------+\n",
      "\n"
     ]
    }
   ],
   "source": [
    "spark.sql(\"\"\"select count(*) as No_of_Students_Database\n",
    "          from edu_admin\n",
    "          where subject = 'Database'\n",
    "          group by subject\"\"\").show(truncate=True)"
   ]
  },
  {
   "cell_type": "markdown",
   "id": "8a88c3b2",
   "metadata": {},
   "source": [
    "### `(6) What is the average score of each course?`"
   ]
  },
  {
   "cell_type": "code",
   "execution_count": 12,
   "id": "d91b9967",
   "metadata": {
    "scrolled": true
   },
   "outputs": [
    {
     "name": "stdout",
     "output_type": "stream",
     "text": [
      "+--------------+-------------+\n",
      "|       subject|Average_Score|\n",
      "+--------------+-------------+\n",
      "|     Algorithm|         55.0|\n",
      "|Data Structure|         70.0|\n",
      "|      Database|         85.0|\n",
      "+--------------+-------------+\n",
      "\n"
     ]
    }
   ],
   "source": [
    "spark.sql(\"\"\"select subject, avg(mark) as Average_Score from edu_admin group by subject\"\"\").show(truncate=True)"
   ]
  }
 ],
 "metadata": {
  "kernelspec": {
   "display_name": "Python 3 (ipykernel)",
   "language": "python",
   "name": "python3"
  },
  "language_info": {
   "codemirror_mode": {
    "name": "ipython",
    "version": 3
   },
   "file_extension": ".py",
   "mimetype": "text/x-python",
   "name": "python",
   "nbconvert_exporter": "python",
   "pygments_lexer": "ipython3",
   "version": "3.9.6"
  }
 },
 "nbformat": 4,
 "nbformat_minor": 5
}
