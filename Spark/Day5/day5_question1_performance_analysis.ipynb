{
 "cells": [
  {
   "cell_type": "code",
   "execution_count": 84,
   "id": "3d69a814",
   "metadata": {},
   "outputs": [],
   "source": [
    "from pyspark.sql import SparkSession\n",
    "from pyspark.sql.types import *\n",
    "from pyspark.sql import SQLContext, HiveContext\n",
    "from pyspark import SparkConf, SparkContext\n",
    "\n",
    "spark = (SparkSession.builder.appName(\"Day 5 RDDS\").getOrCreate())\n",
    "sqlContext = SQLContext(spark.sparkContext)\n",
    "sc = spark.sparkContext"
   ]
  },
  {
   "cell_type": "code",
   "execution_count": 85,
   "id": "1de0b9a0",
   "metadata": {},
   "outputs": [],
   "source": [
    "#insert data and field description\n",
    "student_data = [('Computer', 'Huangxiaoming', [85,86,41,75,93,42,85]),\n",
    "        ('Computer', 'Xuzheng', [54,52,86,91,42]),\n",
    "        ('Computer', 'Huangbo', [85,42,96,38]),\n",
    "        ('English', 'Zhaobenshan', [54,52,86,91,42,85,75]),\n",
    "        ('English', 'Liuyifei', [85,41,75,21,85,96,14]),\n",
    "        ('Algorithm', 'Liuyifei', [75,85,62,48,54,96,15]),\n",
    "        ('Computer', 'Huangjiaju', [85,75,86,85,85]),\n",
    "        ('English','Liuyifei', [76,95,86,74,68,74,48]),\n",
    "        ('English', 'Huangdatou', [48,58,67,86,15,33,85]),\n",
    "        ('Algorithm', 'Huanglei', [76,95,86,74,68,74,48]),\n",
    "        ('Algorithm', 'Huangjiaju', [85,75,86,85,85,74,86]),\n",
    "        ('Computer', 'Huangdatou', [48,58,67,86,15,33,85]),\n",
    "        ('English', 'Zhouqi', [85,86,41,75,93,42,85,75,55,47,22]),\n",
    "        ('English', 'Huangbo', [85,42,96,38,55,47,22]),\n",
    "        ('Algorithm', 'Liutao', [85,75,85,99,66]),\n",
    "        ('Computer', 'Huangzitao', [85,86,41,75,93,42,85]),\n",
    "        ('Math', 'Wangbaoqiang', [85,86,41,75,93,42,85]),\n",
    "        ('Computer', 'Liujialing', [85,41,75,21,85,96,14,74,86]),\n",
    "        ('Computer', 'Liuyifei', [75,85,62,48,54,96,15]),\n",
    "        ('Computer', 'Liutao', [85,75,85,99,66,88,75,91]),\n",
    "        ('Computer', 'Huanglei', [76,95,86,74,68,74,48]),\n",
    "        ('English', 'Liujialing', [75,85,62,48,54,96,15]),\n",
    "        ('Math', 'Huanglei', [76,95,86,74,68,74,48]),\n",
    "        ('Math', 'Huangjiaju', [85,75,86,85,85,74,86]),\n",
    "        ('Math', 'Liutao', [48,58,67,86,15,33,85]),\n",
    "        ('English', 'Huanglei', [85,75,85,99,66,88,75,91]),\n",
    "        ('Math', 'Xuzheng', [54,52,86,91,42,85,75]),\n",
    "        ('Math', 'Huangxiaoming', [85,75,85,99,66,88,75,91]),\n",
    "        ('Math', 'Liujialing', [85,86,41,75,93,42,85,75]),\n",
    "        ('English', 'Huangxiaoming', [85,86,41,75,93,42,85]),\n",
    "        ('Algorithm', 'Huangdatou', [48,58,67,86,15,33,85]),\n",
    "        ('Algorithm', 'Huangzitao', [85,86,41,75,93,42,85,75])\n",
    "       ]"
   ]
  },
  {
   "cell_type": "code",
   "execution_count": 46,
   "id": "b9617865",
   "metadata": {},
   "outputs": [],
   "source": [
    "#compute average for column scores\n",
    "def average(score_list):\n",
    "    return round(sum(score_list)/len(score_list),2)\n",
    "\n",
    "# zip course, names and scores columns\n",
    "Course = []\n",
    "Names = []\n",
    "Scores = []\n",
    "\n",
    "for st in student_data:\n",
    "    Course.append(st[0])\n",
    "    Names.append(st[1])\n",
    "    Scores.append(average(st[2]))"
   ]
  },
  {
   "cell_type": "code",
   "execution_count": 47,
   "id": "c2105dce",
   "metadata": {},
   "outputs": [
    {
     "data": {
      "text/plain": [
       "[('Computer', 'Huangxiaoming', 72.43),\n",
       " ('Computer', 'Xuzheng', 65.0),\n",
       " ('Computer', 'Huangbo', 65.25),\n",
       " ('English', 'Zhaobenshan', 69.29),\n",
       " ('English', 'Liuyifei', 59.57),\n",
       " ('Algorithm', 'Liuyifei', 62.14),\n",
       " ('Computer', 'Huangjiaju', 83.2),\n",
       " ('English', 'Liuyifei', 74.43),\n",
       " ('English', 'Huangdatou', 56.0),\n",
       " ('Algorithm', 'Huanglei', 74.43),\n",
       " ('Algorithm', 'Huangjiaju', 82.29),\n",
       " ('Computer', 'Huangdatou', 56.0),\n",
       " ('English', 'Zhouqi', 64.18),\n",
       " ('English', 'Huangbo', 55.0),\n",
       " ('Algorithm', 'Liutao', 82.0),\n",
       " ('Computer', 'Huangzitao', 72.43),\n",
       " ('Math', 'Wangbaoqiang', 72.43),\n",
       " ('Computer', 'Liujialing', 64.11),\n",
       " ('Computer', 'Liuyifei', 62.14),\n",
       " ('Computer', 'Liutao', 83.0),\n",
       " ('Computer', 'Huanglei', 74.43),\n",
       " ('English', 'Liujialing', 62.14),\n",
       " ('Math', 'Huanglei', 74.43),\n",
       " ('Math', 'Huangjiaju', 82.29),\n",
       " ('Math', 'Liutao', 56.0),\n",
       " ('English', 'Huanglei', 83.0),\n",
       " ('Math', 'Xuzheng', 69.29),\n",
       " ('Math', 'Huangxiaoming', 83.0),\n",
       " ('Math', 'Liujialing', 72.75),\n",
       " ('English', 'Huangxiaoming', 72.43),\n",
       " ('Algorithm', 'Huangdatou', 56.0),\n",
       " ('Algorithm', 'Huangzitao', 72.75)]"
      ]
     },
     "execution_count": 47,
     "metadata": {},
     "output_type": "execute_result"
    }
   ],
   "source": [
    "#make a list of student details in order to create dataframe\n",
    "student_details = list(zip(Course, Names, Scores))\n",
    "student_details"
   ]
  },
  {
   "cell_type": "code",
   "execution_count": 48,
   "id": "35f9bb12",
   "metadata": {},
   "outputs": [],
   "source": [
    "#a. Create a Spark dataframe for student_details\n",
    "df = spark.createDataFrame(student_details, [\"Course\", \"Student\", \"Score\"])"
   ]
  },
  {
   "cell_type": "code",
   "execution_count": 49,
   "id": "14544fdf",
   "metadata": {},
   "outputs": [
    {
     "data": {
      "text/plain": [
       "[Row(Course='Computer', Student='Huangxiaoming', Score=72.43),\n",
       " Row(Course='Computer', Student='Xuzheng', Score=65.0),\n",
       " Row(Course='Computer', Student='Huangbo', Score=65.25),\n",
       " Row(Course='English', Student='Zhaobenshan', Score=69.29),\n",
       " Row(Course='English', Student='Liuyifei', Score=59.57),\n",
       " Row(Course='Algorithm', Student='Liuyifei', Score=62.14),\n",
       " Row(Course='Computer', Student='Huangjiaju', Score=83.2),\n",
       " Row(Course='English', Student='Liuyifei', Score=74.43),\n",
       " Row(Course='English', Student='Huangdatou', Score=56.0),\n",
       " Row(Course='Algorithm', Student='Huanglei', Score=74.43),\n",
       " Row(Course='Algorithm', Student='Huangjiaju', Score=82.29),\n",
       " Row(Course='Computer', Student='Huangdatou', Score=56.0),\n",
       " Row(Course='English', Student='Zhouqi', Score=64.18),\n",
       " Row(Course='English', Student='Huangbo', Score=55.0),\n",
       " Row(Course='Algorithm', Student='Liutao', Score=82.0),\n",
       " Row(Course='Computer', Student='Huangzitao', Score=72.43),\n",
       " Row(Course='Math', Student='Wangbaoqiang', Score=72.43),\n",
       " Row(Course='Computer', Student='Liujialing', Score=64.11),\n",
       " Row(Course='Computer', Student='Liuyifei', Score=62.14),\n",
       " Row(Course='Computer', Student='Liutao', Score=83.0),\n",
       " Row(Course='Computer', Student='Huanglei', Score=74.43),\n",
       " Row(Course='English', Student='Liujialing', Score=62.14),\n",
       " Row(Course='Math', Student='Huanglei', Score=74.43),\n",
       " Row(Course='Math', Student='Huangjiaju', Score=82.29),\n",
       " Row(Course='Math', Student='Liutao', Score=56.0),\n",
       " Row(Course='English', Student='Huanglei', Score=83.0),\n",
       " Row(Course='Math', Student='Xuzheng', Score=69.29),\n",
       " Row(Course='Math', Student='Huangxiaoming', Score=83.0),\n",
       " Row(Course='Math', Student='Liujialing', Score=72.75),\n",
       " Row(Course='English', Student='Huangxiaoming', Score=72.43),\n",
       " Row(Course='Algorithm', Student='Huangdatou', Score=56.0),\n",
       " Row(Course='Algorithm', Student='Huangzitao', Score=72.75)]"
      ]
     },
     "execution_count": 49,
     "metadata": {},
     "output_type": "execute_result"
    }
   ],
   "source": [
    "df.collect()"
   ]
  },
  {
   "cell_type": "code",
   "execution_count": 50,
   "id": "1a389c41",
   "metadata": {},
   "outputs": [],
   "source": [
    "#b. Find the average score of each course \n",
    "from pyspark.sql.functions import avg\n",
    "averages = df.groupBy('Course').agg(avg('Score').alias('Scores'))"
   ]
  },
  {
   "cell_type": "code",
   "execution_count": 75,
   "id": "7fcba0ef",
   "metadata": {},
   "outputs": [
    {
     "name": "stdout",
     "output_type": "stream",
     "text": [
      "+---------+-----------------+\n",
      "|   Course|           Scores|\n",
      "+---------+-----------------+\n",
      "|     Math|72.88428571428572|\n",
      "|Algorithm|71.60166666666667|\n",
      "|  English|66.22666666666666|\n",
      "| Computer|           69.799|\n",
      "+---------+-----------------+\n",
      "\n"
     ]
    }
   ],
   "source": [
    "averages.show()"
   ]
  },
  {
   "cell_type": "code",
   "execution_count": 76,
   "id": "2435e90f",
   "metadata": {},
   "outputs": [],
   "source": [
    "#convert dataframe to rdd\n",
    "averageRDD = averages.rdd"
   ]
  },
  {
   "cell_type": "code",
   "execution_count": 78,
   "id": "e11afae1",
   "metadata": {},
   "outputs": [
    {
     "data": {
      "text/plain": [
       "[('Math', 72.88428571428572),\n",
       " ('Algorithm', 71.60166666666667),\n",
       " ('English', 66.22666666666666),\n",
       " ('Computer', 69.799)]"
      ]
     },
     "execution_count": 78,
     "metadata": {},
     "output_type": "execute_result"
    }
   ],
   "source": [
    "#clean data by mapping course and scores\n",
    "averageRDD = averageRDD.map(lambda x: (x[0], x[1]))\n",
    "averageRDD.collect()"
   ]
  },
  {
   "cell_type": "code",
   "execution_count": 83,
   "id": "08bc6e61",
   "metadata": {},
   "outputs": [],
   "source": [
    "#parallelize average_rdd (remove the row object)\n",
    "averagerdds = sc.parallelize(averageRDD)"
   ]
  },
  {
   "cell_type": "code",
   "execution_count": 68,
   "id": "6e485e38",
   "metadata": {},
   "outputs": [],
   "source": [
    "#save it to a file\n",
    "averagerdds.saveAsTextFile('C:/Users/Lenovo/Documents/averagescore')"
   ]
  },
  {
   "cell_type": "code",
   "execution_count": 92,
   "id": "3ebc3c79",
   "metadata": {},
   "outputs": [
    {
     "name": "stdout",
     "output_type": "stream",
     "text": [
      "+---------+------+\n",
      "|   Course|Scores|\n",
      "+---------+------+\n",
      "|     Math| 72.88|\n",
      "|Algorithm|  71.6|\n",
      "| Computer|  69.8|\n",
      "|  English| 66.23|\n",
      "+---------+------+\n",
      "\n"
     ]
    }
   ],
   "source": [
    "#c. Sort the average score in descending order (keep a decimal place)\n",
    "from pyspark.sql import functions as F\n",
    "import pyspark.sql.functions as func\n",
    "\n",
    "df_avg = df.groupBy('Course').agg(avg('Score').alias('Scores'))\n",
    "df_avg.withColumn('Scores', func.round(df_avg['Scores'],2)).orderBy('Scores', ascending=False).show()"
   ]
  },
  {
   "cell_type": "code",
   "execution_count": 91,
   "id": "ebdef31b",
   "metadata": {},
   "outputs": [
    {
     "name": "stdout",
     "output_type": "stream",
     "text": [
      "+---------+-------------+-----+\n",
      "|   Course|      Student|Score|\n",
      "+---------+-------------+-----+\n",
      "|     Math|Huangxiaoming| 83.0|\n",
      "|Algorithm|   Huangjiaju|82.29|\n",
      "|  English|     Huanglei| 83.0|\n",
      "| Computer|   Huangjiaju| 83.2|\n",
      "+---------+-------------+-----+\n",
      "\n"
     ]
    }
   ],
   "source": [
    "#d. Find the student with the highest score in each course: course, name and average score.\n",
    "from pyspark.sql.window import Window\n",
    "from pyspark.sql.functions import desc, max, col\n",
    "from pyspark.sql.functions import dense_rank, rank\n",
    "\n",
    "w = Window.partitionBy(\"Course\").orderBy(col(\"Score\").desc())\n",
    "\n",
    "df.withColumn(\"rank\", dense_rank().over(w)).select(\"Course\", \"Student\",\"Score\").where(\"rank == 1\").show()"
   ]
  },
  {
   "cell_type": "code",
   "execution_count": null,
   "id": "94236446",
   "metadata": {},
   "outputs": [],
   "source": []
  }
 ],
 "metadata": {
  "kernelspec": {
   "display_name": "Python 3 (ipykernel)",
   "language": "python",
   "name": "python3"
  },
  "language_info": {
   "codemirror_mode": {
    "name": "ipython",
    "version": 3
   },
   "file_extension": ".py",
   "mimetype": "text/x-python",
   "name": "python",
   "nbconvert_exporter": "python",
   "pygments_lexer": "ipython3",
   "version": "3.9.6"
  }
 },
 "nbformat": 4,
 "nbformat_minor": 5
}
