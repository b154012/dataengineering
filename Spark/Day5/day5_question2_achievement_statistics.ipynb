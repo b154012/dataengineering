{
 "cells": [
  {
   "cell_type": "code",
   "execution_count": 1,
   "id": "3d586edf",
   "metadata": {},
   "outputs": [],
   "source": [
    "from pyspark.sql import SparkSession\n",
    "from pyspark.sql.types import *\n",
    "from pyspark.sql import SQLContext, HiveContext\n",
    "from pyspark import SparkConf, SparkContext\n",
    "\n",
    "spark = (SparkSession.builder.appName(\"Day 5 RDDS\").getOrCreate())\n",
    "sqlContext = SQLContext(spark.sparkContext)"
   ]
  },
  {
   "cell_type": "markdown",
   "id": "de0f7367",
   "metadata": {},
   "source": [
    "## Data Preparation"
   ]
  },
  {
   "cell_type": "code",
   "execution_count": 2,
   "id": "f2b821d1",
   "metadata": {},
   "outputs": [],
   "source": [
    "#student data and field description\n",
    "exam_grade_data = [(12, 'Song Jiang', 25, 'Male', 'Chinese', 50),\n",
    "                   (12, 'Song Jiang', 25, 'Male', 'Math', 60),\n",
    "                   (12, 'Song Jiang', 25, 'Male', 'English', 70 ),\n",
    "                   (12, 'Wu Yong', 20, 'Male', 'Chinese', 50),\n",
    "                   (12, 'Wu Yong', 20, 'Male', 'English', 50),\n",
    "                   (12, 'Yang Chun', 19, 'Female', 'Chinese', 70),\n",
    "                   (12, 'Yang Chun', 19, 'Female', 'English', 70),\n",
    "                   (13, 'Li Kui', 25, 'Male', 'Chinese', 60),\n",
    "                   (13, 'Li Kui', 25, 'Male', 'Math', 60),\n",
    "                   (13, 'Li Kui', 25, 'Male', 'English', 70),\n",
    "                   (13, 'Lin Chong', 20, 'Male', 'Chinese', 50),\n",
    "                   (13, 'Lin Chong', 20, 'Male', 'Math', 60),\n",
    "                   (13, 'Lin Chong', 20, 'Male', 'English', 50),\n",
    "                   (13, 'Wang Ying', 19, 'Female', 'Chinese', 70),\n",
    "                   (13, 'Wang Ying', 19, 'Female', 'Math', 80),\n",
    "                   (13, 'Wang Ying', 19, 'Female', 'English', 70)\n",
    "                  ]"
   ]
  },
  {
   "cell_type": "code",
   "execution_count": 3,
   "id": "a34e9ca3",
   "metadata": {},
   "outputs": [],
   "source": [
    "#create Spark dataframe\n",
    "df = spark.createDataFrame(exam_grade_data, [\"Class\", \"Name\", \"Age\", \"Gender\", \"Subject\", \"Grade\"])"
   ]
  },
  {
   "cell_type": "code",
   "execution_count": 4,
   "id": "c37804ff",
   "metadata": {},
   "outputs": [],
   "source": [
    "#convert dataframe to rdd\n",
    "rdd = df.rdd"
   ]
  },
  {
   "cell_type": "code",
   "execution_count": 5,
   "id": "8dcf7cbf",
   "metadata": {
    "scrolled": true
   },
   "outputs": [
    {
     "data": {
      "text/plain": [
       "[Row(Class=12, Name='Song Jiang', Age=25, Gender='Male', Subject='Chinese', Grade=50),\n",
       " Row(Class=12, Name='Song Jiang', Age=25, Gender='Male', Subject='Math', Grade=60),\n",
       " Row(Class=12, Name='Song Jiang', Age=25, Gender='Male', Subject='English', Grade=70),\n",
       " Row(Class=12, Name='Wu Yong', Age=20, Gender='Male', Subject='Chinese', Grade=50),\n",
       " Row(Class=12, Name='Wu Yong', Age=20, Gender='Male', Subject='English', Grade=50),\n",
       " Row(Class=12, Name='Yang Chun', Age=19, Gender='Female', Subject='Chinese', Grade=70),\n",
       " Row(Class=12, Name='Yang Chun', Age=19, Gender='Female', Subject='English', Grade=70),\n",
       " Row(Class=13, Name='Li Kui', Age=25, Gender='Male', Subject='Chinese', Grade=60),\n",
       " Row(Class=13, Name='Li Kui', Age=25, Gender='Male', Subject='Math', Grade=60),\n",
       " Row(Class=13, Name='Li Kui', Age=25, Gender='Male', Subject='English', Grade=70),\n",
       " Row(Class=13, Name='Lin Chong', Age=20, Gender='Male', Subject='Chinese', Grade=50),\n",
       " Row(Class=13, Name='Lin Chong', Age=20, Gender='Male', Subject='Math', Grade=60),\n",
       " Row(Class=13, Name='Lin Chong', Age=20, Gender='Male', Subject='English', Grade=50),\n",
       " Row(Class=13, Name='Wang Ying', Age=19, Gender='Female', Subject='Chinese', Grade=70),\n",
       " Row(Class=13, Name='Wang Ying', Age=19, Gender='Female', Subject='Math', Grade=80),\n",
       " Row(Class=13, Name='Wang Ying', Age=19, Gender='Female', Subject='English', Grade=70)]"
      ]
     },
     "execution_count": 5,
     "metadata": {},
     "output_type": "execute_result"
    }
   ],
   "source": [
    "rdd.collect()"
   ]
  },
  {
   "cell_type": "markdown",
   "id": "754c18a3",
   "metadata": {},
   "source": [
    "### `(1)\tHow many people under 20 took the exam?`"
   ]
  },
  {
   "cell_type": "code",
   "execution_count": 6,
   "id": "a2bf02ad",
   "metadata": {
    "scrolled": true
   },
   "outputs": [
    {
     "name": "stdout",
     "output_type": "stream",
     "text": [
      "There are  5  people under 20 took the exam.\n"
     ]
    }
   ],
   "source": [
    "under20 = rdd.filter(lambda x: x[2] < 20).count()\n",
    "print(\"There are \",under20, \" people under 20 took the exam.\")"
   ]
  },
  {
   "cell_type": "markdown",
   "id": "00832140",
   "metadata": {},
   "source": [
    "### `(2)\tHow many 20 years old students took the exam?`"
   ]
  },
  {
   "cell_type": "code",
   "execution_count": 7,
   "id": "69fea67c",
   "metadata": {
    "scrolled": true
   },
   "outputs": [
    {
     "name": "stdout",
     "output_type": "stream",
     "text": [
      "There are  5  people under 20 took the exam.\n"
     ]
    }
   ],
   "source": [
    "aged20 = rdd.filter(lambda x: x[2] == 20).count()\n",
    "print(\"There are \", aged20, \" people in their 20 took the exam.\")"
   ]
  },
  {
   "cell_type": "markdown",
   "id": "242d60c8",
   "metadata": {},
   "source": [
    "### `(3)\tHow many people over 20 years old students took the exam?`"
   ]
  },
  {
   "cell_type": "code",
   "execution_count": 8,
   "id": "64c91516",
   "metadata": {},
   "outputs": [
    {
     "name": "stdout",
     "output_type": "stream",
     "text": [
      "There are  6  people in their 20 took the exam.\n"
     ]
    }
   ],
   "source": [
    "over20 = rdd.filter(lambda x: x[2] > 20).count()\n",
    "print(\"There are \", over20, \" people in over 20 took the exam.\")"
   ]
  },
  {
   "cell_type": "markdown",
   "id": "b9a3dfcb",
   "metadata": {},
   "source": [
    "### `(4)\tHow many boys are taking the exam?`"
   ]
  },
  {
   "cell_type": "code",
   "execution_count": 9,
   "id": "9cfe50b6",
   "metadata": {},
   "outputs": [
    {
     "name": "stdout",
     "output_type": "stream",
     "text": [
      "There are  11  boys taking the exam.\n"
     ]
    }
   ],
   "source": [
    "boys_taking_exam = rdd.filter(lambda x: 'Male' in x[3]).count()\n",
    "print(\"There are \", boys_taking_exam, \" boys taking the exam.\")"
   ]
  },
  {
   "cell_type": "markdown",
   "id": "f544f976",
   "metadata": {},
   "source": [
    "### `(5)\tHow many girls are there in the exam?`"
   ]
  },
  {
   "cell_type": "code",
   "execution_count": 10,
   "id": "cecdc7b9",
   "metadata": {
    "scrolled": true
   },
   "outputs": [
    {
     "name": "stdout",
     "output_type": "stream",
     "text": [
      "There are  5  girls taking the exam.\n"
     ]
    }
   ],
   "source": [
    "girls_taking_exam = rdd.filter(lambda x: 'Female' in x[3]).count()\n",
    "print(\"There are \", girls_taking_exam, \" girls taking the exam.\")"
   ]
  },
  {
   "cell_type": "markdown",
   "id": "bacb7c2e",
   "metadata": {},
   "source": [
    "### `(6)\tHow many people in the class take the exam?`"
   ]
  },
  {
   "cell_type": "code",
   "execution_count": 11,
   "id": "8814b1f0",
   "metadata": {},
   "outputs": [
    {
     "name": "stdout",
     "output_type": "stream",
     "text": [
      "There are  16 exams.\n"
     ]
    }
   ],
   "source": [
    "take_exams = rdd.map(lambda x: (x,1)).count()\n",
    "print(\"There are \", take_exams, \"exams.\")"
   ]
  },
  {
   "cell_type": "code",
   "execution_count": 12,
   "id": "df46ecc2",
   "metadata": {},
   "outputs": [],
   "source": [
    "subject = []\n",
    "grade = []\n",
    "theclass = []\n",
    "name = []\n",
    "gender = []\n",
    "age = []\n",
    "\n",
    "for rd in rdd.collect():\n",
    "    subject.append(rd[-2])\n",
    "    grade.append(rd[-1])\n",
    "    age.append(rd[2])\n",
    "    theclass.append(rd[0])\n",
    "    name.append(rd[1])\n",
    "    gender.append(rd[-3])"
   ]
  },
  {
   "cell_type": "markdown",
   "id": "e3c9c3b7",
   "metadata": {},
   "source": [
    "### `(7)\tWhat is the average score of Chinese subject?`"
   ]
  },
  {
   "cell_type": "code",
   "execution_count": 13,
   "id": "c8403b7f",
   "metadata": {},
   "outputs": [
    {
     "data": {
      "text/plain": [
       "[('Chinese', 58.333333333333336)]"
      ]
     },
     "execution_count": 13,
     "metadata": {},
     "output_type": "execute_result"
    }
   ],
   "source": [
    "subject_grade = list(zip(subject, grade))\n",
    "subject_rdd = spark.sparkContext.parallelize(subject_grade)\n",
    "\n",
    "subject_rdd.mapValues(lambda x: (x,1)) \\\n",
    ".reduceByKey(lambda x, y: (x[0]+y[0], x[1]+y[1])) \\\n",
    ".map(lambda x: (x[0], x[1][0]/x[1][1])) \\\n",
    ".filter(lambda x: 'Chinese' in x[-2]) \\\n",
    ".collect()"
   ]
  },
  {
   "cell_type": "markdown",
   "id": "0fc96cdf",
   "metadata": {},
   "source": [
    "### `(8)\tWhat is the average score of Math subject?`"
   ]
  },
  {
   "cell_type": "code",
   "execution_count": 14,
   "id": "5de04522",
   "metadata": {},
   "outputs": [
    {
     "data": {
      "text/plain": [
       "[('Math', 65.0)]"
      ]
     },
     "execution_count": 14,
     "metadata": {},
     "output_type": "execute_result"
    }
   ],
   "source": [
    "subject_rdd.mapValues(lambda x: (x,1)) \\\n",
    ".reduceByKey(lambda x, y: (x[0]+y[0], x[1]+y[1])) \\\n",
    ".map(lambda x: (x[0], x[1][0]/x[1][1])) \\\n",
    ".filter(lambda x: 'Math' in x[-2]) \\\n",
    ".collect()"
   ]
  },
  {
   "cell_type": "markdown",
   "id": "98994298",
   "metadata": {},
   "source": [
    "### `(9)\tWhat is the average score of English subject?`"
   ]
  },
  {
   "cell_type": "code",
   "execution_count": 15,
   "id": "aeb5c7f3",
   "metadata": {},
   "outputs": [
    {
     "data": {
      "text/plain": [
       "[('English', 63.333333333333336)]"
      ]
     },
     "execution_count": 15,
     "metadata": {},
     "output_type": "execute_result"
    }
   ],
   "source": [
    "subject_rdd.mapValues(lambda x: (x,1)) \\\n",
    ".reduceByKey(lambda x, y: (x[0]+y[0], x[1]+y[1])) \\\n",
    ".map(lambda x: (x[0], x[1][0]/x[1][1])) \\\n",
    ".filter(lambda x: 'English' in x[-2]) \\\n",
    ".collect()"
   ]
  },
  {
   "cell_type": "markdown",
   "id": "d1630947",
   "metadata": {},
   "source": [
    "### `(10)\tWhat is the average score per person?`"
   ]
  },
  {
   "cell_type": "code",
   "execution_count": 16,
   "id": "bb3e35e5",
   "metadata": {},
   "outputs": [
    {
     "data": {
      "text/plain": [
       "[('Song Jiang', 60.0),\n",
       " ('Wang Ying', 73.33333333333333),\n",
       " ('Yang Chun', 70.0),\n",
       " ('Wu Yong', 50.0),\n",
       " ('Lin Chong', 53.333333333333336),\n",
       " ('Li Kui', 63.333333333333336)]"
      ]
     },
     "execution_count": 16,
     "metadata": {},
     "output_type": "execute_result"
    }
   ],
   "source": [
    "person_grade = list(zip(name, grade))\n",
    "person_rdd = spark.sparkContext.parallelize(person_grade)\n",
    "\n",
    "person_rdd.mapValues(lambda x: (x,1)) \\\n",
    ".reduceByKey(lambda x, y: (x[0]+y[0], x[1]+y[1])) \\\n",
    ".map(lambda x: (x[0], x[1][0]/x[1][1])) \\\n",
    ".collect()"
   ]
  },
  {
   "cell_type": "markdown",
   "id": "d30e0e7e",
   "metadata": {},
   "source": [
    "### `#(11)\tWhat is the class average?`"
   ]
  },
  {
   "cell_type": "code",
   "execution_count": 17,
   "id": "d1f6a25e",
   "metadata": {},
   "outputs": [
    {
     "data": {
      "text/plain": [
       "[(12, 60.0), (13, 63.333333333333336)]"
      ]
     },
     "execution_count": 17,
     "metadata": {},
     "output_type": "execute_result"
    }
   ],
   "source": [
    "class_grade = list(zip(theclass, grade))\n",
    "class_rdd = spark.sparkContext.parallelize(class_grade)\n",
    "\n",
    "class_rdd.mapValues(lambda x: (x,1)) \\\n",
    ".reduceByKey(lambda x, y: (x[0]+y[0], x[1]+y[1])) \\\n",
    ".map(lambda x: (x[0], x[1][0]/x[1][1])) \\\n",
    ".collect()"
   ]
  },
  {
   "cell_type": "markdown",
   "id": "372bd081",
   "metadata": {},
   "source": [
    "### `#(12)\tWhat is the average score of the boys in the class?`"
   ]
  },
  {
   "cell_type": "code",
   "execution_count": 18,
   "id": "70d458c0",
   "metadata": {},
   "outputs": [
    {
     "data": {
      "text/plain": [
       "[('Male', 57.27272727272727)]"
      ]
     },
     "execution_count": 18,
     "metadata": {},
     "output_type": "execute_result"
    }
   ],
   "source": [
    "gender_grade = list(zip(gender, grade))\n",
    "gender_rdd = spark.sparkContext.parallelize(gender_grade)\n",
    "\n",
    "gender_rdd.mapValues(lambda x: (x,1)) \\\n",
    ".reduceByKey(lambda x, y: (x[0]+y[0], x[1]+y[1])) \\\n",
    ".map(lambda x: (x[0], x[1][0]/x[1][1])) \\\n",
    ".filter(lambda x: 'Male' in x[0]) \\\n",
    ".collect()"
   ]
  },
  {
   "cell_type": "markdown",
   "id": "2e581930",
   "metadata": {},
   "source": [
    "### `(13)\tWhat is the average score of the girls in the class?`"
   ]
  },
  {
   "cell_type": "code",
   "execution_count": 19,
   "id": "0bf56b52",
   "metadata": {},
   "outputs": [
    {
     "data": {
      "text/plain": [
       "[('Female', 72.0)]"
      ]
     },
     "execution_count": 19,
     "metadata": {},
     "output_type": "execute_result"
    }
   ],
   "source": [
    "gender_rdd.mapValues(lambda x: (x,1)) \\\n",
    ".reduceByKey(lambda x, y: (x[0]+y[0], x[1]+y[1])) \\\n",
    ".map(lambda x: (x[0], x[1][0]/x[1][1])) \\\n",
    ".filter(lambda x: 'Female' in x[0]) \\\n",
    ".collect()"
   ]
  },
  {
   "cell_type": "markdown",
   "id": "6965fda6",
   "metadata": {},
   "source": [
    "### `(14)\tWhat is the highest score of Chinese in the school?`"
   ]
  },
  {
   "cell_type": "code",
   "execution_count": 20,
   "id": "0a7d10c6",
   "metadata": {},
   "outputs": [
    {
     "data": {
      "text/plain": [
       "[('Chinese', 70)]"
      ]
     },
     "execution_count": 20,
     "metadata": {},
     "output_type": "execute_result"
    }
   ],
   "source": [
    "subject_rdd.filter(lambda x: 'Chinese' in x[0]) \\\n",
    ".sortBy(lambda x: x[1], ascending=False) \\\n",
    ".top(1)"
   ]
  },
  {
   "cell_type": "markdown",
   "id": "00124720",
   "metadata": {},
   "source": [
    "### `(15)\tWhat is the lowest score in Chinese?`"
   ]
  },
  {
   "cell_type": "code",
   "execution_count": 21,
   "id": "fbadf6ef",
   "metadata": {},
   "outputs": [
    {
     "data": {
      "text/plain": [
       "('Chinese', 50)"
      ]
     },
     "execution_count": 21,
     "metadata": {},
     "output_type": "execute_result"
    }
   ],
   "source": [
    "subject_rdd.filter(lambda x: 'Chinese' in x[0]) \\\n",
    ".sortBy(lambda x: x[1], ascending=True) \\\n",
    ".first()"
   ]
  },
  {
   "cell_type": "markdown",
   "id": "716710e6",
   "metadata": {},
   "source": [
    "### `(16)\tWhat is highest score in math?`"
   ]
  },
  {
   "cell_type": "code",
   "execution_count": 22,
   "id": "5af40456",
   "metadata": {
    "scrolled": true
   },
   "outputs": [
    {
     "data": {
      "text/plain": [
       "[('Math', 80)]"
      ]
     },
     "execution_count": 22,
     "metadata": {},
     "output_type": "execute_result"
    }
   ],
   "source": [
    "subject_rdd.filter(lambda x: 'Math' in x[0]) \\\n",
    ".sortBy(lambda x: x[1]) \\\n",
    ".top(1)"
   ]
  },
  {
   "cell_type": "markdown",
   "id": "0685fba5",
   "metadata": {},
   "source": [
    "### `(17)\tHow many girls are there in class 12 whose total score is more than 150? find the class, name and gender of female student`"
   ]
  },
  {
   "cell_type": "code",
   "execution_count": 23,
   "id": "66e893f9",
   "metadata": {},
   "outputs": [],
   "source": [
    "class2_female = list(zip(theclass, name, gender))\n",
    "class2_female_rdd = spark.sparkContext.parallelize(class2_female) \\\n",
    ".keyBy(lambda x: x[2])\n",
    "\n",
    "female_rdd = spark.sparkContext.parallelize(gender_grade) \\\n",
    ".keyBy(lambda x: x[0])"
   ]
  },
  {
   "cell_type": "code",
   "execution_count": 24,
   "id": "5b5d7d8b",
   "metadata": {},
   "outputs": [],
   "source": [
    "#join class2_female with female_rdd using leftOuterJoin\n",
    "join_classes = class2_female_rdd.leftOuterJoin(female_rdd).distinct()"
   ]
  },
  {
   "cell_type": "code",
   "execution_count": 25,
   "id": "c7e06161",
   "metadata": {},
   "outputs": [],
   "source": [
    "#filter only female with class 12\n",
    "join_class_female = join_classes.filter(lambda x: 'Female' in x[0]) \\\n",
    ".filter(lambda x: x[1][0][0] == 12)"
   ]
  },
  {
   "cell_type": "code",
   "execution_count": 26,
   "id": "ccd9d20d",
   "metadata": {},
   "outputs": [],
   "source": [
    "name_student = []\n",
    "score = []\n",
    "\n",
    "for cf in join_class_female.collect():\n",
    "    name_student.append(cf[1][0][1])\n",
    "    score.append(cf[1][1][1])\n",
    "    \n",
    "name_score = list(zip(name_student, score))\n",
    "rdd_over150 = spark.sparkContext.parallelize(name_score)"
   ]
  },
  {
   "cell_type": "code",
   "execution_count": 27,
   "id": "8c278efc",
   "metadata": {},
   "outputs": [
    {
     "data": {
      "text/plain": [
       "0"
      ]
     },
     "execution_count": 27,
     "metadata": {},
     "output_type": "execute_result"
    }
   ],
   "source": [
    "#perform action and transformation to find out how many female students with a total score of 150\n",
    "rdd_over150.mapValues(lambda x: (x,1)) \\\n",
    ".reduceByKey(lambda x, y: (x[0]+y[0])) \\\n",
    ".filter(lambda x: x[1] > 150) \\\n",
    ".count()"
   ]
  },
  {
   "cell_type": "markdown",
   "id": "c6130836",
   "metadata": {},
   "source": [
    "### `(18)\tWhat is the average score of students whose total score is more than 150, mathematics score is more than or equal to 70 and age is more than or equal to 19?`"
   ]
  },
  {
   "cell_type": "code",
   "execution_count": 28,
   "id": "883df287",
   "metadata": {},
   "outputs": [],
   "source": [
    "class_val = list(zip(theclass, name, age, gender, subject, grade))\n",
    "class_val = spark.sparkContext.parallelize(class_val)"
   ]
  },
  {
   "cell_type": "code",
   "execution_count": 29,
   "id": "e1b2cf47",
   "metadata": {},
   "outputs": [
    {
     "name": "stdout",
     "output_type": "stream",
     "text": [
      "The name of students whose maths score >= 70 and age >= 19 is  ['Wang Ying']\n"
     ]
    }
   ],
   "source": [
    "#mathematics score is more than or equal to 70 \n",
    "#age is more than or equal to 19\n",
    "persons = class_val.filter(lambda x: 'Math' in x[-2]) \\\n",
    ".filter(lambda x: x[-1] >= 70) \\\n",
    ".filter(lambda x: x[2] >= 19) \\\n",
    ".collect()\n",
    "\n",
    "name = []\n",
    "for person in persons:\n",
    "    name.append(person[1])  \n",
    "print(\"The name of students whose maths score >= 70 and age >= 19 is \", name)"
   ]
  },
  {
   "cell_type": "code",
   "execution_count": 30,
   "id": "a014e4b4",
   "metadata": {},
   "outputs": [],
   "source": [
    "#returns the name of students whose total score is 150 who scores math >= 70\n",
    "#and the age is >= 19\n",
    "def isthereMathAge(x):\n",
    "    if x in name:\n",
    "        return x\n",
    "    \n",
    "#returns the name of students whose total score is 150 and managed to score math >= 70\n",
    "#and the age is >= 19\n",
    "def isScoreOver150(x):\n",
    "    if x in name_over150:\n",
    "        return x"
   ]
  },
  {
   "cell_type": "code",
   "execution_count": 31,
   "id": "df5b2078",
   "metadata": {},
   "outputs": [
    {
     "name": "stdout",
     "output_type": "stream",
     "text": [
      "The student whose score is 150 is ['Wang Ying']\n"
     ]
    }
   ],
   "source": [
    "#whose total score is more than 150 by filtering the age >= 19 and math score >= 70\n",
    "person2 = person_rdd.mapValues(lambda x: (x,1)) \\\n",
    ".reduceByKey(lambda x, y: (x[0]+y[0], x[1]+y[1])) \\\n",
    ".map(lambda x: (x[0], x[1][0])) \\\n",
    ".filter(lambda x: x[-1] > 150) \\\n",
    ".filter(lambda x: isthereMathAge(x[0])) \\\n",
    ".collect()\n",
    "person2\n",
    "\n",
    "name_over150 = []\n",
    "for person in person2:\n",
    "    name_over150.append(person[0])  \n",
    "print(\"The student whose score is 150 is\", name_over150)    "
   ]
  },
  {
   "cell_type": "code",
   "execution_count": 35,
   "id": "08abeb33",
   "metadata": {},
   "outputs": [
    {
     "data": {
      "text/plain": [
       "[('Wang Ying', 73.33333333333333)]"
      ]
     },
     "execution_count": 35,
     "metadata": {},
     "output_type": "execute_result"
    }
   ],
   "source": [
    "#find the average of students whose total score is 150, math score >= 70 and age \n",
    "person_rdd.mapValues(lambda x: (x,1)) \\\n",
    ".reduceByKey(lambda x, y: (x[0]+y[0], x[1]+y[1])) \\\n",
    ".map(lambda x: (x[0], x[1][0]/x[1][1])) \\\n",
    ".filter(lambda x: isScoreOver150(x[0])) \\\n",
    ".collect()"
   ]
  }
 ],
 "metadata": {
  "kernelspec": {
   "display_name": "Python 3 (ipykernel)",
   "language": "python",
   "name": "python3"
  },
  "language_info": {
   "codemirror_mode": {
    "name": "ipython",
    "version": 3
   },
   "file_extension": ".py",
   "mimetype": "text/x-python",
   "name": "python",
   "nbconvert_exporter": "python",
   "pygments_lexer": "ipython3",
   "version": "3.9.6"
  }
 },
 "nbformat": 4,
 "nbformat_minor": 5
}
