{
 "cells": [
  {
   "cell_type": "code",
   "execution_count": 1,
   "id": "96e13cdf",
   "metadata": {},
   "outputs": [],
   "source": [
    "from pyspark.sql import SparkSession\n",
    "import pandas as pd\n",
    "import numpy as np\n",
    "from pyspark.mllib.stat import Statistics"
   ]
  },
  {
   "cell_type": "code",
   "execution_count": 2,
   "id": "4cc29266",
   "metadata": {},
   "outputs": [],
   "source": [
    "spark = (SparkSession.builder.appName(\"Day 9\").master(\"local[1]\").enableHiveSupport().getOrCreate())"
   ]
  },
  {
   "cell_type": "markdown",
   "id": "1694a02d",
   "metadata": {},
   "source": [
    "## Data Preparation\n",
    "\n",
    "### Bank Analysis\n",
    "\n",
    "<b>Context</b>\n",
    "\n",
    "Banks play a crucial role in market economies. They decide who can obtain financing and on what terms and can make or break investment decisions. For markets and society to function, individuals and companies need access to credit. \n",
    " \n",
    "Banks use credit scoring algorithms to determine whether or not a loan should be granted by calculating the probability of default (unable to repay the loan). This assignment requires you to improve the credit scoring algorithm by predicting the probability that somebody will experience financial distress in the next two years.\n",
    "  \n",
    "Historical data are provided on 250,000 borrowers. See below dataset.\n",
    "\n",
    "<b>Content</b>\n",
    "Training, Test, Sample Entry and Submission Files are provided. Please check the format of the submission file.\n",
    "\n",
    "<b>Dataset</b>\n",
    "cs-training.csv\n",
    "The dataset can be downloaded here: https://github.com/jxchen/Kaggle/blob/master/Give%20Me%20Some%20Credit/cs-training.csv\n",
    "\n",
    "<br>"
   ]
  },
  {
   "cell_type": "code",
   "execution_count": 3,
   "id": "b49bc94a",
   "metadata": {},
   "outputs": [],
   "source": [
    "file = 'C:/Users/Lenovo/Documents/cs-training.csv'"
   ]
  },
  {
   "cell_type": "code",
   "execution_count": 4,
   "id": "b59ebace",
   "metadata": {},
   "outputs": [],
   "source": [
    "df = (spark.read.format('csv')\n",
    "     .option(\"header\", \"true\")\n",
    "     .option(\"mode\", \"FAILFAST\")\n",
    "     .option(\"NA\", '')\n",
    "     .load(file))"
   ]
  },
  {
   "cell_type": "code",
   "execution_count": 5,
   "id": "113d1e4d",
   "metadata": {},
   "outputs": [
    {
     "data": {
      "text/plain": [
       "['no',\n",
       " 'SeriousDlqin2yrs',\n",
       " 'RevolvingUtilizationOfUnsecuredLines',\n",
       " 'age',\n",
       " 'NumberOfTime30-59DaysPastDueNotWorse',\n",
       " 'DebtRatio',\n",
       " 'MonthlyIncome',\n",
       " 'NumberOfOpenCreditLinesAndLoans',\n",
       " 'NumberOfTimes90DaysLate',\n",
       " 'NumberRealEstateLoansOrLines',\n",
       " 'NumberOfTime60-89DaysPastDueNotWorse',\n",
       " 'NumberOfDependents']"
      ]
     },
     "execution_count": 5,
     "metadata": {},
     "output_type": "execute_result"
    }
   ],
   "source": [
    "df.columns"
   ]
  },
  {
   "cell_type": "code",
   "execution_count": 6,
   "id": "33c452b1",
   "metadata": {},
   "outputs": [],
   "source": [
    "#drop the index column to keep relevant features\n",
    "df = df.drop('no')"
   ]
  },
  {
   "cell_type": "code",
   "execution_count": 7,
   "id": "8e2019e7",
   "metadata": {},
   "outputs": [
    {
     "data": {
      "text/plain": [
       "DataFrame[SeriousDlqin2yrs: string, RevolvingUtilizationOfUnsecuredLines: string, age: string, NumberOfTime30-59DaysPastDueNotWorse: string, DebtRatio: string, MonthlyIncome: string, NumberOfOpenCreditLinesAndLoans: string, NumberOfTimes90DaysLate: string, NumberRealEstateLoansOrLines: string, NumberOfTime60-89DaysPastDueNotWorse: string, NumberOfDependents: string]"
      ]
     },
     "execution_count": 7,
     "metadata": {},
     "output_type": "execute_result"
    }
   ],
   "source": [
    "from pyspark.sql.functions import regexp_replace\n",
    "df.withColumn('MonthlyIncome', regexp_replace('MonthlyIncome', 'NA', '0'))"
   ]
  },
  {
   "cell_type": "code",
   "execution_count": 8,
   "id": "4a7e08cf",
   "metadata": {},
   "outputs": [
    {
     "data": {
      "text/plain": [
       "DataFrame[SeriousDlqin2yrs: string, RevolvingUtilizationOfUnsecuredLines: string, age: string, NumberOfTime30-59DaysPastDueNotWorse: string, DebtRatio: string, MonthlyIncome: string, NumberOfOpenCreditLinesAndLoans: string, NumberOfTimes90DaysLate: string, NumberRealEstateLoansOrLines: string, NumberOfTime60-89DaysPastDueNotWorse: string, NumberOfDependents: string]"
      ]
     },
     "execution_count": 8,
     "metadata": {},
     "output_type": "execute_result"
    }
   ],
   "source": [
    "df.withColumn('NumberOfDependents', regexp_replace('NumberOfDependents', 'NA', '0'))"
   ]
  },
  {
   "cell_type": "code",
   "execution_count": 9,
   "id": "2434c81d",
   "metadata": {},
   "outputs": [
    {
     "data": {
      "text/plain": [
       "DataFrame[SeriousDlqin2yrs: string, RevolvingUtilizationOfUnsecuredLines: string, age: string, NumberOfTime30-59DaysPastDueNotWorse: string, DebtRatio: string, MonthlyIncome: string, NumberOfOpenCreditLinesAndLoans: string, NumberOfTimes90DaysLate: string, NumberRealEstateLoansOrLines: string, NumberOfTime60-89DaysPastDueNotWorse: string, NumberOfDependents: string]"
      ]
     },
     "execution_count": 9,
     "metadata": {},
     "output_type": "execute_result"
    }
   ],
   "source": [
    "df.withColumn('NumberOfTime60-89DaysPastDueNotWorse', regexp_replace('NumberOfTime60-89DaysPastDueNotWorse', 'NA', '0'))"
   ]
  },
  {
   "cell_type": "code",
   "execution_count": 10,
   "id": "5856d074",
   "metadata": {},
   "outputs": [
    {
     "data": {
      "text/plain": [
       "DataFrame[summary: string, SeriousDlqin2yrs: string, RevolvingUtilizationOfUnsecuredLines: string, age: string, NumberOfTime30-59DaysPastDueNotWorse: string, DebtRatio: string, MonthlyIncome: string, NumberOfOpenCreditLinesAndLoans: string, NumberOfTimes90DaysLate: string, NumberRealEstateLoansOrLines: string, NumberOfTime60-89DaysPastDueNotWorse: string, NumberOfDependents: string]"
      ]
     },
     "execution_count": 10,
     "metadata": {},
     "output_type": "execute_result"
    }
   ],
   "source": [
    "#dataframe size\n",
    "df.describe()"
   ]
  },
  {
   "cell_type": "code",
   "execution_count": 11,
   "id": "6968ade1",
   "metadata": {},
   "outputs": [],
   "source": [
    "#clean data\n",
    "from pyspark.sql.types import *\n",
    "from pyspark.sql.functions import col, expr, count\n",
    "\n",
    "df = df.withColumn(\"SeriousDlqin2yrs\", col(\"SeriousDlqin2yrs\").cast(IntegerType())) \\\n",
    ".withColumn(\"RevolvingUtilizationOfUnsecuredLines\", col(\"RevolvingUtilizationOfUnsecuredLines\").cast(FloatType())) \\\n",
    ".withColumn(\"age\", col(\"age\").cast(IntegerType())) \\\n",
    ".withColumn(\"NumberOfTime30-59DaysPastDueNotWorse\", col(\"NumberOfTime30-59DaysPastDueNotWorse\").cast(IntegerType())) \\\n",
    ".withColumn(\"DebtRatio\", col(\"DebtRatio\").cast(FloatType())) \\\n",
    ".withColumn(\"MonthlyIncome\", col(\"MonthlyIncome\").cast(IntegerType())) \\\n",
    ".withColumn(\"NumberOfOpenCreditLinesAndLoans\", col(\"NumberOfOpenCreditLinesAndLoans\").cast(IntegerType())) \\\n",
    ".withColumn(\"NumberOfTimes90DaysLate\", col(\"NumberOfTimes90DaysLate\").cast(IntegerType())) \\\n",
    ".withColumn(\"NumberRealEstateLoansOrLines\", col(\"NumberRealEstateLoansOrLines\").cast(IntegerType())) \\\n",
    ".withColumn(\"NumberOfTime60-89DaysPastDueNotWorse\", col(\"NumberOfTime60-89DaysPastDueNotWorse\").cast(IntegerType())) \\\n",
    ".withColumn(\"NumberOfDependents\", col(\"NumberOfDependents\").cast(IntegerType()))"
   ]
  },
  {
   "cell_type": "code",
   "execution_count": 12,
   "id": "f3dc8e1e",
   "metadata": {},
   "outputs": [],
   "source": [
    "#only include distinct rows\n",
    "df = df.distinct()"
   ]
  },
  {
   "cell_type": "code",
   "execution_count": 14,
   "id": "e06707e3",
   "metadata": {},
   "outputs": [
    {
     "name": "stdout",
     "output_type": "stream",
     "text": [
      "root\n",
      " |-- SeriousDlqin2yrs: integer (nullable = true)\n",
      " |-- RevolvingUtilizationOfUnsecuredLines: float (nullable = true)\n",
      " |-- age: integer (nullable = true)\n",
      " |-- NumberOfTime30-59DaysPastDueNotWorse: integer (nullable = true)\n",
      " |-- DebtRatio: float (nullable = true)\n",
      " |-- MonthlyIncome: integer (nullable = true)\n",
      " |-- NumberOfOpenCreditLinesAndLoans: integer (nullable = true)\n",
      " |-- NumberOfTimes90DaysLate: integer (nullable = true)\n",
      " |-- NumberRealEstateLoansOrLines: integer (nullable = true)\n",
      " |-- NumberOfTime60-89DaysPastDueNotWorse: integer (nullable = true)\n",
      " |-- NumberOfDependents: integer (nullable = true)\n",
      "\n"
     ]
    }
   ],
   "source": [
    "df.printSchema()"
   ]
  },
  {
   "cell_type": "markdown",
   "id": "b8d7bb39",
   "metadata": {},
   "source": [
    "### `1.\tThe overall statistics of overdue credit cards.`"
   ]
  },
  {
   "cell_type": "code",
   "execution_count": 59,
   "id": "b2b63c1d",
   "metadata": {
    "scrolled": true
   },
   "outputs": [
    {
     "data": {
      "text/html": [
       "<div>\n",
       "<style scoped>\n",
       "    .dataframe tbody tr th:only-of-type {\n",
       "        vertical-align: middle;\n",
       "    }\n",
       "\n",
       "    .dataframe tbody tr th {\n",
       "        vertical-align: top;\n",
       "    }\n",
       "\n",
       "    .dataframe thead th {\n",
       "        text-align: right;\n",
       "    }\n",
       "</style>\n",
       "<table border=\"1\" class=\"dataframe\">\n",
       "  <thead>\n",
       "    <tr style=\"text-align: right;\">\n",
       "      <th></th>\n",
       "      <th>summary</th>\n",
       "      <th>Total_Balance</th>\n",
       "      <th>Debt Ratio</th>\n",
       "      <th>No. of open credit lines</th>\n",
       "      <th>Overdue more than 90 days</th>\n",
       "    </tr>\n",
       "  </thead>\n",
       "  <tbody>\n",
       "    <tr>\n",
       "      <th>0</th>\n",
       "      <td>count</td>\n",
       "      <td>10009</td>\n",
       "      <td>10009</td>\n",
       "      <td>10009</td>\n",
       "      <td>10009</td>\n",
       "    </tr>\n",
       "    <tr>\n",
       "      <th>1</th>\n",
       "      <td>mean</td>\n",
       "      <td>4.373000972503297</td>\n",
       "      <td>295.62012304098215</td>\n",
       "      <td>7.895593965431112</td>\n",
       "      <td>1.9871115995603956</td>\n",
       "    </tr>\n",
       "    <tr>\n",
       "      <th>2</th>\n",
       "      <td>stddev</td>\n",
       "      <td>131.94762803990088</td>\n",
       "      <td>1239.3523197167</td>\n",
       "      <td>5.649182149853</td>\n",
       "      <td>11.334643991590621</td>\n",
       "    </tr>\n",
       "    <tr>\n",
       "      <th>3</th>\n",
       "      <td>min</td>\n",
       "      <td>0.0</td>\n",
       "      <td>0.0</td>\n",
       "      <td>0</td>\n",
       "      <td>0</td>\n",
       "    </tr>\n",
       "    <tr>\n",
       "      <th>4</th>\n",
       "      <td>25%</td>\n",
       "      <td>0.39705762</td>\n",
       "      <td>0.19519162</td>\n",
       "      <td>4</td>\n",
       "      <td>0</td>\n",
       "    </tr>\n",
       "    <tr>\n",
       "      <th>5</th>\n",
       "      <td>50%</td>\n",
       "      <td>0.8375812</td>\n",
       "      <td>0.4288889</td>\n",
       "      <td>7</td>\n",
       "      <td>0</td>\n",
       "    </tr>\n",
       "    <tr>\n",
       "      <th>6</th>\n",
       "      <td>75%</td>\n",
       "      <td>0.9999999</td>\n",
       "      <td>0.8941059</td>\n",
       "      <td>11</td>\n",
       "      <td>1</td>\n",
       "    </tr>\n",
       "    <tr>\n",
       "      <th>7</th>\n",
       "      <td>max</td>\n",
       "      <td>8328.0</td>\n",
       "      <td>38793.0</td>\n",
       "      <td>57</td>\n",
       "      <td>98</td>\n",
       "    </tr>\n",
       "  </tbody>\n",
       "</table>\n",
       "</div>"
      ],
      "text/plain": [
       "  summary       Total_Balance          Debt Ratio No. of open credit lines  \\\n",
       "0   count               10009               10009                    10009   \n",
       "1    mean   4.373000972503297  295.62012304098215        7.895593965431112   \n",
       "2  stddev  131.94762803990088     1239.3523197167           5.649182149853   \n",
       "3     min                 0.0                 0.0                        0   \n",
       "4     25%          0.39705762          0.19519162                        4   \n",
       "5     50%           0.8375812           0.4288889                        7   \n",
       "6     75%           0.9999999           0.8941059                       11   \n",
       "7     max              8328.0             38793.0                       57   \n",
       "\n",
       "  Overdue more than 90 days  \n",
       "0                     10009  \n",
       "1        1.9871115995603956  \n",
       "2        11.334643991590621  \n",
       "3                         0  \n",
       "4                         0  \n",
       "5                         0  \n",
       "6                         1  \n",
       "7                        98  "
      ]
     },
     "execution_count": 59,
     "metadata": {},
     "output_type": "execute_result"
    }
   ],
   "source": [
    "df.select(col('RevolvingUtilizationOfUnsecuredLines').alias('Total_Balance'),\n",
    "          col('DebtRatio').alias('Debt Ratio'), \n",
    "          col('NumberOfOpenCreditLinesAndLoans').alias('No. of open credit lines'),\n",
    "          col('NumberOfTimes90DaysLate').alias('Overdue more than 90 days')) \\\n",
    ".where(expr(\"SeriousDlqin2yrs == 1\")) \\\n",
    ".summary().toPandas()\n",
    "#.where(expr(\"RevolvingUtilizationOfUnsecuredLines > 0\")) \\\n",
    "#.where(expr(\"DebtRatio > 0\")) \\\n",
    "#.where(expr(\"NumberOfOpenCreditLinesAndLoans > 0\")) \\\n",
    "#.where(expr('NumberOfTimes90DaysLate > 0')) \\"
   ]
  },
  {
   "cell_type": "markdown",
   "id": "ddf0b463",
   "metadata": {},
   "source": [
    "### ` 2.\tCombined statistics of age and overdue credit card.`"
   ]
  },
  {
   "cell_type": "code",
   "execution_count": 60,
   "id": "333f1587",
   "metadata": {},
   "outputs": [
    {
     "data": {
      "text/html": [
       "<div>\n",
       "<style scoped>\n",
       "    .dataframe tbody tr th:only-of-type {\n",
       "        vertical-align: middle;\n",
       "    }\n",
       "\n",
       "    .dataframe tbody tr th {\n",
       "        vertical-align: top;\n",
       "    }\n",
       "\n",
       "    .dataframe thead th {\n",
       "        text-align: right;\n",
       "    }\n",
       "</style>\n",
       "<table border=\"1\" class=\"dataframe\">\n",
       "  <thead>\n",
       "    <tr style=\"text-align: right;\">\n",
       "      <th></th>\n",
       "      <th>summary</th>\n",
       "      <th>Age</th>\n",
       "      <th>Total_Balance</th>\n",
       "      <th>Debt Ratio</th>\n",
       "      <th>No. of open credit lines</th>\n",
       "      <th>Overdue more than 90 days</th>\n",
       "    </tr>\n",
       "  </thead>\n",
       "  <tbody>\n",
       "    <tr>\n",
       "      <th>0</th>\n",
       "      <td>count</td>\n",
       "      <td>10009</td>\n",
       "      <td>10009</td>\n",
       "      <td>10009</td>\n",
       "      <td>10009</td>\n",
       "      <td>10009</td>\n",
       "    </tr>\n",
       "    <tr>\n",
       "      <th>1</th>\n",
       "      <td>mean</td>\n",
       "      <td>45.947047657108605</td>\n",
       "      <td>4.373000972503297</td>\n",
       "      <td>295.62012304098215</td>\n",
       "      <td>7.895593965431112</td>\n",
       "      <td>1.9871115995603956</td>\n",
       "    </tr>\n",
       "    <tr>\n",
       "      <th>2</th>\n",
       "      <td>stddev</td>\n",
       "      <td>12.906584737340896</td>\n",
       "      <td>131.94762803990088</td>\n",
       "      <td>1239.3523197167</td>\n",
       "      <td>5.649182149853</td>\n",
       "      <td>11.334643991590621</td>\n",
       "    </tr>\n",
       "    <tr>\n",
       "      <th>3</th>\n",
       "      <td>min</td>\n",
       "      <td>21</td>\n",
       "      <td>0.0</td>\n",
       "      <td>0.0</td>\n",
       "      <td>0</td>\n",
       "      <td>0</td>\n",
       "    </tr>\n",
       "    <tr>\n",
       "      <th>4</th>\n",
       "      <td>25%</td>\n",
       "      <td>36</td>\n",
       "      <td>0.39705762</td>\n",
       "      <td>0.19519162</td>\n",
       "      <td>4</td>\n",
       "      <td>0</td>\n",
       "    </tr>\n",
       "    <tr>\n",
       "      <th>5</th>\n",
       "      <td>50%</td>\n",
       "      <td>45</td>\n",
       "      <td>0.8375812</td>\n",
       "      <td>0.4288889</td>\n",
       "      <td>7</td>\n",
       "      <td>0</td>\n",
       "    </tr>\n",
       "    <tr>\n",
       "      <th>6</th>\n",
       "      <td>75%</td>\n",
       "      <td>54</td>\n",
       "      <td>0.9999999</td>\n",
       "      <td>0.8941059</td>\n",
       "      <td>11</td>\n",
       "      <td>1</td>\n",
       "    </tr>\n",
       "    <tr>\n",
       "      <th>7</th>\n",
       "      <td>max</td>\n",
       "      <td>101</td>\n",
       "      <td>8328.0</td>\n",
       "      <td>38793.0</td>\n",
       "      <td>57</td>\n",
       "      <td>98</td>\n",
       "    </tr>\n",
       "  </tbody>\n",
       "</table>\n",
       "</div>"
      ],
      "text/plain": [
       "  summary                 Age       Total_Balance          Debt Ratio  \\\n",
       "0   count               10009               10009               10009   \n",
       "1    mean  45.947047657108605   4.373000972503297  295.62012304098215   \n",
       "2  stddev  12.906584737340896  131.94762803990088     1239.3523197167   \n",
       "3     min                  21                 0.0                 0.0   \n",
       "4     25%                  36          0.39705762          0.19519162   \n",
       "5     50%                  45           0.8375812           0.4288889   \n",
       "6     75%                  54           0.9999999           0.8941059   \n",
       "7     max                 101              8328.0             38793.0   \n",
       "\n",
       "  No. of open credit lines Overdue more than 90 days  \n",
       "0                    10009                     10009  \n",
       "1        7.895593965431112        1.9871115995603956  \n",
       "2           5.649182149853        11.334643991590621  \n",
       "3                        0                         0  \n",
       "4                        4                         0  \n",
       "5                        7                         0  \n",
       "6                       11                         1  \n",
       "7                       57                        98  "
      ]
     },
     "execution_count": 60,
     "metadata": {},
     "output_type": "execute_result"
    }
   ],
   "source": [
    "df.select(col('age').alias('Age'),\n",
    "          col('RevolvingUtilizationOfUnsecuredLines').alias('Total_Balance'),\n",
    "          col('DebtRatio').alias('Debt Ratio'), \n",
    "          col('NumberOfOpenCreditLinesAndLoans').alias('No. of open credit lines'),\n",
    "          col('NumberOfTimes90DaysLate').alias('Overdue more than 90 days')) \\\n",
    ".where(expr(\"SeriousDlqin2yrs == 1\")) \\\n",
    ".where(expr(\"age > 0\")) \\\n",
    ".summary().toPandas()\n",
    "#.where(expr(\"RevolvingUtilizationOfUnsecuredLines > 0\")) \\\n",
    "#.where(expr(\"DebtRatio > 0\")) \\\n",
    "#.where(expr(\"NumberOfOpenCreditLinesAndLoans > 0\")) \\\n",
    "#.where(expr('NumberOfTimes90DaysLate > 0')) \\"
   ]
  },
  {
   "cell_type": "markdown",
   "id": "20e18732",
   "metadata": {},
   "source": [
    "### `3.\tCombined statistics of the number of real estate mortgage and the overdue credit card.`"
   ]
  },
  {
   "cell_type": "code",
   "execution_count": 61,
   "id": "981b51a7",
   "metadata": {
    "scrolled": true
   },
   "outputs": [
    {
     "data": {
      "text/html": [
       "<div>\n",
       "<style scoped>\n",
       "    .dataframe tbody tr th:only-of-type {\n",
       "        vertical-align: middle;\n",
       "    }\n",
       "\n",
       "    .dataframe tbody tr th {\n",
       "        vertical-align: top;\n",
       "    }\n",
       "\n",
       "    .dataframe thead th {\n",
       "        text-align: right;\n",
       "    }\n",
       "</style>\n",
       "<table border=\"1\" class=\"dataframe\">\n",
       "  <thead>\n",
       "    <tr style=\"text-align: right;\">\n",
       "      <th></th>\n",
       "      <th>summary</th>\n",
       "      <th>No_of_Real_Estate_Mortage</th>\n",
       "      <th>Total_Balance</th>\n",
       "      <th>Debt Ratio</th>\n",
       "      <th>No. of open credit lines</th>\n",
       "      <th>Overdue more than 90 days</th>\n",
       "    </tr>\n",
       "  </thead>\n",
       "  <tbody>\n",
       "    <tr>\n",
       "      <th>0</th>\n",
       "      <td>count</td>\n",
       "      <td>10009</td>\n",
       "      <td>10009</td>\n",
       "      <td>10009</td>\n",
       "      <td>10009</td>\n",
       "      <td>10009</td>\n",
       "    </tr>\n",
       "    <tr>\n",
       "      <th>1</th>\n",
       "      <td>mean</td>\n",
       "      <td>0.9902088120691378</td>\n",
       "      <td>4.373000972503297</td>\n",
       "      <td>295.62012304098215</td>\n",
       "      <td>7.895593965431112</td>\n",
       "      <td>1.9871115995603956</td>\n",
       "    </tr>\n",
       "    <tr>\n",
       "      <th>2</th>\n",
       "      <td>stddev</td>\n",
       "      <td>1.4263507511079203</td>\n",
       "      <td>131.94762803990088</td>\n",
       "      <td>1239.3523197167</td>\n",
       "      <td>5.649182149853</td>\n",
       "      <td>11.334643991590621</td>\n",
       "    </tr>\n",
       "    <tr>\n",
       "      <th>3</th>\n",
       "      <td>min</td>\n",
       "      <td>0</td>\n",
       "      <td>0.0</td>\n",
       "      <td>0.0</td>\n",
       "      <td>0</td>\n",
       "      <td>0</td>\n",
       "    </tr>\n",
       "    <tr>\n",
       "      <th>4</th>\n",
       "      <td>25%</td>\n",
       "      <td>0</td>\n",
       "      <td>0.39705762</td>\n",
       "      <td>0.19519162</td>\n",
       "      <td>4</td>\n",
       "      <td>0</td>\n",
       "    </tr>\n",
       "    <tr>\n",
       "      <th>5</th>\n",
       "      <td>50%</td>\n",
       "      <td>1</td>\n",
       "      <td>0.8375812</td>\n",
       "      <td>0.4288889</td>\n",
       "      <td>7</td>\n",
       "      <td>0</td>\n",
       "    </tr>\n",
       "    <tr>\n",
       "      <th>6</th>\n",
       "      <td>75%</td>\n",
       "      <td>2</td>\n",
       "      <td>0.9999999</td>\n",
       "      <td>0.8941059</td>\n",
       "      <td>11</td>\n",
       "      <td>1</td>\n",
       "    </tr>\n",
       "    <tr>\n",
       "      <th>7</th>\n",
       "      <td>max</td>\n",
       "      <td>29</td>\n",
       "      <td>8328.0</td>\n",
       "      <td>38793.0</td>\n",
       "      <td>57</td>\n",
       "      <td>98</td>\n",
       "    </tr>\n",
       "  </tbody>\n",
       "</table>\n",
       "</div>"
      ],
      "text/plain": [
       "  summary No_of_Real_Estate_Mortage       Total_Balance          Debt Ratio  \\\n",
       "0   count                     10009               10009               10009   \n",
       "1    mean        0.9902088120691378   4.373000972503297  295.62012304098215   \n",
       "2  stddev        1.4263507511079203  131.94762803990088     1239.3523197167   \n",
       "3     min                         0                 0.0                 0.0   \n",
       "4     25%                         0          0.39705762          0.19519162   \n",
       "5     50%                         1           0.8375812           0.4288889   \n",
       "6     75%                         2           0.9999999           0.8941059   \n",
       "7     max                        29              8328.0             38793.0   \n",
       "\n",
       "  No. of open credit lines Overdue more than 90 days  \n",
       "0                    10009                     10009  \n",
       "1        7.895593965431112        1.9871115995603956  \n",
       "2           5.649182149853        11.334643991590621  \n",
       "3                        0                         0  \n",
       "4                        4                         0  \n",
       "5                        7                         0  \n",
       "6                       11                         1  \n",
       "7                       57                        98  "
      ]
     },
     "execution_count": 61,
     "metadata": {},
     "output_type": "execute_result"
    }
   ],
   "source": [
    "df.select(col('NumberRealEstateLoansOrLines').alias('No_of_Real_Estate_Mortage'),\n",
    "          col('RevolvingUtilizationOfUnsecuredLines').alias('Total_Balance'),\n",
    "          col('DebtRatio').alias('Debt Ratio'), \n",
    "          col('NumberOfOpenCreditLinesAndLoans').alias('No. of open credit lines'),\n",
    "          col('NumberOfTimes90DaysLate').alias('Overdue more than 90 days')) \\\n",
    ".where(expr(\"SeriousDlqin2yrs == 1\")) \\\n",
    ".summary().toPandas()\n",
    "#.where(expr(\"RevolvingUtilizationOfUnsecuredLines > 0\")) \\\n",
    "#.where(expr(\"DebtRatio > 0\")) \\\n",
    "#.where(expr(\"NumberOfOpenCreditLinesAndLoans > 0\")) \\\n",
    "#.where(expr('NumberOfTimes90DaysLate > 0')) \\"
   ]
  },
  {
   "cell_type": "markdown",
   "id": "cdc1efc2",
   "metadata": {},
   "source": [
    "### `4.\tCombined statistics of the number of family members and the overdue credit card.`"
   ]
  },
  {
   "cell_type": "code",
   "execution_count": 62,
   "id": "2117d3bf",
   "metadata": {},
   "outputs": [
    {
     "data": {
      "text/html": [
       "<div>\n",
       "<style scoped>\n",
       "    .dataframe tbody tr th:only-of-type {\n",
       "        vertical-align: middle;\n",
       "    }\n",
       "\n",
       "    .dataframe tbody tr th {\n",
       "        vertical-align: top;\n",
       "    }\n",
       "\n",
       "    .dataframe thead th {\n",
       "        text-align: right;\n",
       "    }\n",
       "</style>\n",
       "<table border=\"1\" class=\"dataframe\">\n",
       "  <thead>\n",
       "    <tr style=\"text-align: right;\">\n",
       "      <th></th>\n",
       "      <th>summary</th>\n",
       "      <th>No_of_dependents</th>\n",
       "      <th>Total_Balance</th>\n",
       "      <th>Debt Ratio</th>\n",
       "      <th>No. of open credit lines</th>\n",
       "      <th>Overdue more than 90 days</th>\n",
       "    </tr>\n",
       "  </thead>\n",
       "  <tbody>\n",
       "    <tr>\n",
       "      <th>0</th>\n",
       "      <td>count</td>\n",
       "      <td>9831</td>\n",
       "      <td>10009</td>\n",
       "      <td>10009</td>\n",
       "      <td>10009</td>\n",
       "      <td>10009</td>\n",
       "    </tr>\n",
       "    <tr>\n",
       "      <th>1</th>\n",
       "      <td>mean</td>\n",
       "      <td>0.9497507883226528</td>\n",
       "      <td>4.373000972503297</td>\n",
       "      <td>295.62012304098215</td>\n",
       "      <td>7.895593965431112</td>\n",
       "      <td>1.9871115995603956</td>\n",
       "    </tr>\n",
       "    <tr>\n",
       "      <th>2</th>\n",
       "      <td>stddev</td>\n",
       "      <td>1.2197583641361514</td>\n",
       "      <td>131.94762803990088</td>\n",
       "      <td>1239.3523197167</td>\n",
       "      <td>5.649182149853</td>\n",
       "      <td>11.334643991590621</td>\n",
       "    </tr>\n",
       "    <tr>\n",
       "      <th>3</th>\n",
       "      <td>min</td>\n",
       "      <td>0</td>\n",
       "      <td>0.0</td>\n",
       "      <td>0.0</td>\n",
       "      <td>0</td>\n",
       "      <td>0</td>\n",
       "    </tr>\n",
       "    <tr>\n",
       "      <th>4</th>\n",
       "      <td>25%</td>\n",
       "      <td>0</td>\n",
       "      <td>0.39705762</td>\n",
       "      <td>0.19519162</td>\n",
       "      <td>4</td>\n",
       "      <td>0</td>\n",
       "    </tr>\n",
       "    <tr>\n",
       "      <th>5</th>\n",
       "      <td>50%</td>\n",
       "      <td>0</td>\n",
       "      <td>0.8375812</td>\n",
       "      <td>0.4288889</td>\n",
       "      <td>7</td>\n",
       "      <td>0</td>\n",
       "    </tr>\n",
       "    <tr>\n",
       "      <th>6</th>\n",
       "      <td>75%</td>\n",
       "      <td>2</td>\n",
       "      <td>0.9999999</td>\n",
       "      <td>0.8941059</td>\n",
       "      <td>11</td>\n",
       "      <td>1</td>\n",
       "    </tr>\n",
       "    <tr>\n",
       "      <th>7</th>\n",
       "      <td>max</td>\n",
       "      <td>8</td>\n",
       "      <td>8328.0</td>\n",
       "      <td>38793.0</td>\n",
       "      <td>57</td>\n",
       "      <td>98</td>\n",
       "    </tr>\n",
       "  </tbody>\n",
       "</table>\n",
       "</div>"
      ],
      "text/plain": [
       "  summary    No_of_dependents       Total_Balance          Debt Ratio  \\\n",
       "0   count                9831               10009               10009   \n",
       "1    mean  0.9497507883226528   4.373000972503297  295.62012304098215   \n",
       "2  stddev  1.2197583641361514  131.94762803990088     1239.3523197167   \n",
       "3     min                   0                 0.0                 0.0   \n",
       "4     25%                   0          0.39705762          0.19519162   \n",
       "5     50%                   0           0.8375812           0.4288889   \n",
       "6     75%                   2           0.9999999           0.8941059   \n",
       "7     max                   8              8328.0             38793.0   \n",
       "\n",
       "  No. of open credit lines Overdue more than 90 days  \n",
       "0                    10009                     10009  \n",
       "1        7.895593965431112        1.9871115995603956  \n",
       "2           5.649182149853        11.334643991590621  \n",
       "3                        0                         0  \n",
       "4                        4                         0  \n",
       "5                        7                         0  \n",
       "6                       11                         1  \n",
       "7                       57                        98  "
      ]
     },
     "execution_count": 62,
     "metadata": {},
     "output_type": "execute_result"
    }
   ],
   "source": [
    "df.select(col('NumberOfDependents').alias('No_of_dependents'),\n",
    "          col('RevolvingUtilizationOfUnsecuredLines').alias('Total_Balance'),\n",
    "          col('DebtRatio').alias('Debt Ratio'), \n",
    "          col('NumberOfOpenCreditLinesAndLoans').alias('No. of open credit lines'),\n",
    "          col('NumberOfTimes90DaysLate').alias('Overdue more than 90 days')) \\\n",
    ".where(expr(\"SeriousDlqin2yrs == 1\")) \\\n",
    ".summary().toPandas()\n",
    "#.where(expr(\"RevolvingUtilizationOfUnsecuredLines > 0\")) \\\n",
    "#.where(expr(\"DebtRatio > 0\")) \\\n",
    "#.where(expr(\"NumberOfOpenCreditLinesAndLoans > 0\")) \\\n",
    "#.where(expr('NumberOfTimes90DaysLate > 0')) \\"
   ]
  },
  {
   "cell_type": "markdown",
   "id": "c843a3a7",
   "metadata": {},
   "source": [
    "### `5.\tCombined statistics of monthly income and overdue credit card.`"
   ]
  },
  {
   "cell_type": "code",
   "execution_count": 63,
   "id": "26265985",
   "metadata": {},
   "outputs": [
    {
     "data": {
      "text/html": [
       "<div>\n",
       "<style scoped>\n",
       "    .dataframe tbody tr th:only-of-type {\n",
       "        vertical-align: middle;\n",
       "    }\n",
       "\n",
       "    .dataframe tbody tr th {\n",
       "        vertical-align: top;\n",
       "    }\n",
       "\n",
       "    .dataframe thead th {\n",
       "        text-align: right;\n",
       "    }\n",
       "</style>\n",
       "<table border=\"1\" class=\"dataframe\">\n",
       "  <thead>\n",
       "    <tr style=\"text-align: right;\">\n",
       "      <th></th>\n",
       "      <th>summary</th>\n",
       "      <th>MonthlyIncome</th>\n",
       "      <th>Total_Balance</th>\n",
       "      <th>Debt Ratio</th>\n",
       "      <th>No. of open credit lines</th>\n",
       "      <th>Overdue more than 90 days</th>\n",
       "    </tr>\n",
       "  </thead>\n",
       "  <tbody>\n",
       "    <tr>\n",
       "      <th>0</th>\n",
       "      <td>count</td>\n",
       "      <td>8355</td>\n",
       "      <td>10009</td>\n",
       "      <td>10009</td>\n",
       "      <td>10009</td>\n",
       "      <td>10009</td>\n",
       "    </tr>\n",
       "    <tr>\n",
       "      <th>1</th>\n",
       "      <td>mean</td>\n",
       "      <td>5632.054697785757</td>\n",
       "      <td>4.373000972503297</td>\n",
       "      <td>295.62012304098215</td>\n",
       "      <td>7.895593965431112</td>\n",
       "      <td>1.9871115995603956</td>\n",
       "    </tr>\n",
       "    <tr>\n",
       "      <th>2</th>\n",
       "      <td>stddev</td>\n",
       "      <td>6171.942881557316</td>\n",
       "      <td>131.94762803990088</td>\n",
       "      <td>1239.3523197167</td>\n",
       "      <td>5.649182149853</td>\n",
       "      <td>11.334643991590621</td>\n",
       "    </tr>\n",
       "    <tr>\n",
       "      <th>3</th>\n",
       "      <td>min</td>\n",
       "      <td>0</td>\n",
       "      <td>0.0</td>\n",
       "      <td>0.0</td>\n",
       "      <td>0</td>\n",
       "      <td>0</td>\n",
       "    </tr>\n",
       "    <tr>\n",
       "      <th>4</th>\n",
       "      <td>25%</td>\n",
       "      <td>2963</td>\n",
       "      <td>0.39705762</td>\n",
       "      <td>0.19519162</td>\n",
       "      <td>4</td>\n",
       "      <td>0</td>\n",
       "    </tr>\n",
       "    <tr>\n",
       "      <th>5</th>\n",
       "      <td>50%</td>\n",
       "      <td>4500</td>\n",
       "      <td>0.8375812</td>\n",
       "      <td>0.4288889</td>\n",
       "      <td>7</td>\n",
       "      <td>0</td>\n",
       "    </tr>\n",
       "    <tr>\n",
       "      <th>6</th>\n",
       "      <td>75%</td>\n",
       "      <td>6800</td>\n",
       "      <td>0.9999999</td>\n",
       "      <td>0.8941059</td>\n",
       "      <td>11</td>\n",
       "      <td>1</td>\n",
       "    </tr>\n",
       "    <tr>\n",
       "      <th>7</th>\n",
       "      <td>max</td>\n",
       "      <td>250000</td>\n",
       "      <td>8328.0</td>\n",
       "      <td>38793.0</td>\n",
       "      <td>57</td>\n",
       "      <td>98</td>\n",
       "    </tr>\n",
       "  </tbody>\n",
       "</table>\n",
       "</div>"
      ],
      "text/plain": [
       "  summary      MonthlyIncome       Total_Balance          Debt Ratio  \\\n",
       "0   count               8355               10009               10009   \n",
       "1    mean  5632.054697785757   4.373000972503297  295.62012304098215   \n",
       "2  stddev  6171.942881557316  131.94762803990088     1239.3523197167   \n",
       "3     min                  0                 0.0                 0.0   \n",
       "4     25%               2963          0.39705762          0.19519162   \n",
       "5     50%               4500           0.8375812           0.4288889   \n",
       "6     75%               6800           0.9999999           0.8941059   \n",
       "7     max             250000              8328.0             38793.0   \n",
       "\n",
       "  No. of open credit lines Overdue more than 90 days  \n",
       "0                    10009                     10009  \n",
       "1        7.895593965431112        1.9871115995603956  \n",
       "2           5.649182149853        11.334643991590621  \n",
       "3                        0                         0  \n",
       "4                        4                         0  \n",
       "5                        7                         0  \n",
       "6                       11                         1  \n",
       "7                       57                        98  "
      ]
     },
     "execution_count": 63,
     "metadata": {},
     "output_type": "execute_result"
    }
   ],
   "source": [
    "df.select(col('MonthlyIncome').alias('MonthlyIncome'),\n",
    "          col('RevolvingUtilizationOfUnsecuredLines').alias('Total_Balance'),\n",
    "          col('DebtRatio').alias('Debt Ratio'), \n",
    "          col('NumberOfOpenCreditLinesAndLoans').alias('No. of open credit lines'),\n",
    "          col('NumberOfTimes90DaysLate').alias('Overdue more than 90 days')) \\\n",
    ".where(expr(\"SeriousDlqin2yrs == 1\")) \\\n",
    ".summary().toPandas()\n",
    "#.where(expr(\"MonthlyIncome > 0\")) \\\n",
    "#.where(expr(\"RevolvingUtilizationOfUnsecuredLines > 0\")) \\\n",
    "#.where(expr(\"DebtRatio > 0\")) \\\n",
    "#.where(expr(\"NumberOfOpenCreditLinesAndLoans > 0\")) \\\n",
    "#.where(expr('NumberOfTimes90DaysLate > 0')) \\"
   ]
  },
  {
   "cell_type": "markdown",
   "id": "842aadab",
   "metadata": {},
   "source": [
    "### `6.\tStatistics of overdue users of different ages.`"
   ]
  },
  {
   "cell_type": "code",
   "execution_count": 64,
   "id": "28e32179",
   "metadata": {},
   "outputs": [],
   "source": [
    "overdue_age = df.select('age') \\\n",
    ".filter(expr('SeriousDlqin2yrs == 1'))\n",
    "#.filter(expr('RevolvingUtilizationOfUnsecuredLines > 0 and DebtRatio > 0 and NumberOfOpenCreditLinesAndLoans > 0 and SeriousDlqin2yrs == 1'))"
   ]
  },
  {
   "cell_type": "code",
   "execution_count": 65,
   "id": "6f2eae8e",
   "metadata": {},
   "outputs": [],
   "source": [
    "grouped = overdue_age.groupBy('age') \\\n",
    ".agg(count(col('age')).alias('Overdue users')) \\\n",
    ".filter(expr('age > 0')) \\\n",
    ".orderBy('Overdue users', ascending=False)"
   ]
  },
  {
   "cell_type": "code",
   "execution_count": 66,
   "id": "20202ce9",
   "metadata": {},
   "outputs": [
    {
     "name": "stdout",
     "output_type": "stream",
     "text": [
      "+---+-------------+\n",
      "|age|Overdue users|\n",
      "+---+-------------+\n",
      "| 46|          324|\n",
      "| 49|          313|\n",
      "| 47|          306|\n",
      "| 41|          294|\n",
      "| 42|          289|\n",
      "| 48|          286|\n",
      "| 45|          284|\n",
      "| 39|          280|\n",
      "| 50|          279|\n",
      "| 52|          277|\n",
      "| 43|          276|\n",
      "| 51|          273|\n",
      "| 53|          264|\n",
      "| 40|          262|\n",
      "| 33|          246|\n",
      "| 54|          243|\n",
      "| 44|          242|\n",
      "| 35|          241|\n",
      "| 36|          237|\n",
      "| 38|          235|\n",
      "| 32|          233|\n",
      "| 37|          227|\n",
      "| 55|          218|\n",
      "| 31|          216|\n",
      "| 34|          210|\n",
      "| 30|          208|\n",
      "| 56|          207|\n",
      "| 28|          205|\n",
      "| 57|          182|\n",
      "| 29|          179|\n",
      "| 61|          175|\n",
      "| 59|          167|\n",
      "| 27|          165|\n",
      "| 58|          164|\n",
      "| 62|          163|\n",
      "| 60|          150|\n",
      "| 26|          147|\n",
      "| 63|          136|\n",
      "| 25|          119|\n",
      "| 24|           96|\n",
      "| 64|           94|\n",
      "| 65|           92|\n",
      "| 66|           80|\n",
      "| 67|           79|\n",
      "| 23|           68|\n",
      "| 70|           52|\n",
      "| 72|           46|\n",
      "| 68|           46|\n",
      "| 73|           42|\n",
      "| 71|           42|\n",
      "| 74|           39|\n",
      "| 69|           35|\n",
      "| 22|           35|\n",
      "| 78|           24|\n",
      "| 76|           24|\n",
      "| 75|           22|\n",
      "| 79|           22|\n",
      "| 82|           19|\n",
      "| 80|           19|\n",
      "| 77|           18|\n",
      "| 21|           12|\n",
      "| 83|           10|\n",
      "| 85|            9|\n",
      "| 89|            9|\n",
      "| 81|            9|\n",
      "| 84|            8|\n",
      "| 88|            8|\n",
      "| 87|            8|\n",
      "| 86|            6|\n",
      "| 91|            5|\n",
      "| 90|            3|\n",
      "| 99|            2|\n",
      "|101|            1|\n",
      "| 93|            1|\n",
      "| 95|            1|\n",
      "| 94|            1|\n",
      "+---+-------------+\n",
      "\n"
     ]
    }
   ],
   "source": [
    "grouped.show(100)"
   ]
  },
  {
   "cell_type": "markdown",
   "id": "4f22f333",
   "metadata": {},
   "source": [
    "### `7.\tAmong the overdue users, how many people have monthly income of less than 10,000 and have real estate loans, and what is the total proportion?`"
   ]
  },
  {
   "cell_type": "code",
   "execution_count": 67,
   "id": "3ac31543",
   "metadata": {},
   "outputs": [
    {
     "data": {
      "text/plain": [
       "3924"
      ]
     },
     "execution_count": 67,
     "metadata": {},
     "output_type": "execute_result"
    }
   ],
   "source": [
    "monthly_estate = df.select(df.columns) \\\n",
    ".filter(expr('SeriousDlqin2yrs == 1')) \\\n",
    ".where(expr('MonthlyIncome < 10000')) \\\n",
    ".where(expr('NumberRealEstateLoansOrLines > 0')) \\\n",
    ".count()\n",
    "monthly_estate\n",
    "#.filter(expr('RevolvingUtilizationOfUnsecuredLines > 0 and DebtRatio > 0 and NumberOfOpenCreditLinesAndLoans > 0 and SeriousDlqin2yrs == 1')) \\"
   ]
  },
  {
   "cell_type": "code",
   "execution_count": 24,
   "id": "e019b439",
   "metadata": {},
   "outputs": [
    {
     "data": {
      "text/plain": [
       "0.025416524422488637"
      ]
     },
     "execution_count": 24,
     "metadata": {},
     "output_type": "execute_result"
    }
   ],
   "source": [
    "monthly_estate/df.count()"
   ]
  },
  {
   "cell_type": "markdown",
   "id": "840d235e",
   "metadata": {},
   "source": [
    "### `8.\tAmong the overdue users, how many people with monthly income of less than 10,000 and have more than 3 family members, and what is the total proportion?`"
   ]
  },
  {
   "cell_type": "code",
   "execution_count": 68,
   "id": "48f5a954",
   "metadata": {},
   "outputs": [
    {
     "data": {
      "text/plain": [
       "310"
      ]
     },
     "execution_count": 68,
     "metadata": {},
     "output_type": "execute_result"
    }
   ],
   "source": [
    "monthly_fam = df.select(df.columns) \\\n",
    ".filter(expr('SeriousDlqin2yrs == 1')) \\\n",
    ".where(expr('SeriousDlqin2yrs != 0')) \\\n",
    ".where(expr('MonthlyIncome < 10000')) \\\n",
    ".where(expr('NumberOfDependents > 3')) \\\n",
    ".count()\n",
    "monthly_fam\n",
    "#.filter(expr('RevolvingUtilizationOfUnsecuredLines > 0 and DebtRatio > 0 and NumberOfOpenCreditLinesAndLoans > 0 and SeriousDlqin2yrs == 1')) \\"
   ]
  },
  {
   "cell_type": "code",
   "execution_count": 69,
   "id": "69b7be5c",
   "metadata": {},
   "outputs": [
    {
     "data": {
      "text/plain": [
       "0.002075091538312214"
      ]
     },
     "execution_count": 69,
     "metadata": {},
     "output_type": "execute_result"
    }
   ],
   "source": [
    "monthly_fam/df.count()"
   ]
  },
  {
   "cell_type": "markdown",
   "id": "c02b30b2",
   "metadata": {},
   "source": [
    "### `9.\tWhat is the total amount of credit card outstanding among all overdue users?`"
   ]
  },
  {
   "cell_type": "code",
   "execution_count": 70,
   "id": "15ed7af0",
   "metadata": {},
   "outputs": [],
   "source": [
    "df_credit = df.select(col('SeriousDlqin2yrs'), col('RevolvingUtilizationOfUnsecuredLines')*col('DebtRatio')*col('NumberOfOpenCreditLinesAndLoans')*col('NumberOfTimes90DaysLate')) \\\n",
    ".filter(expr('SeriousDlqin2yrs != 0'))"
   ]
  },
  {
   "cell_type": "code",
   "execution_count": 71,
   "id": "07fd6304",
   "metadata": {},
   "outputs": [
    {
     "data": {
      "text/plain": [
       "3030"
      ]
     },
     "execution_count": 71,
     "metadata": {},
     "output_type": "execute_result"
    }
   ],
   "source": [
    "rdd = df_credit.rdd\n",
    "rdd = rdd.map(lambda x: (x[0], x[1])) \n",
    "rdd.map(lambda x: x[1]) \\\n",
    ".filter(lambda x: float(x) > 0.0) \\\n",
    ".count()\n",
    "#.reduce(lambda x,y: x+y)"
   ]
  },
  {
   "cell_type": "code",
   "execution_count": null,
   "id": "f29a26ac",
   "metadata": {},
   "outputs": [],
   "source": []
  }
 ],
 "metadata": {
  "kernelspec": {
   "display_name": "Python 3 (ipykernel)",
   "language": "python",
   "name": "python3"
  },
  "language_info": {
   "codemirror_mode": {
    "name": "ipython",
    "version": 3
   },
   "file_extension": ".py",
   "mimetype": "text/x-python",
   "name": "python",
   "nbconvert_exporter": "python",
   "pygments_lexer": "ipython3",
   "version": "3.9.6"
  }
 },
 "nbformat": 4,
 "nbformat_minor": 5
}
