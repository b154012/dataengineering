{
 "cells": [
  {
   "cell_type": "code",
   "execution_count": 42,
   "id": "e5c55bfd",
   "metadata": {},
   "outputs": [
    {
     "name": "stdout",
     "output_type": "stream",
     "text": [
      "Converts to Binary:  0b111\n",
      "Converts to Octal:  0o7\n",
      "Converts to Hexadecimal:  0x7\n"
     ]
    }
   ],
   "source": [
    "#1.Convert decimal number 17 to binary, octal and hexadecimal.\n",
    "\n",
    "decimalNumber = int(7.0)\n",
    "\n",
    "decToBinary = bin(decimalNumber)\n",
    "print(\"Converts to Binary: \", decToBinary)\n",
    "\n",
    "decToOctal = oct(decimalNumber)\n",
    "print(\"Converts to Octal: \", decToOctal)\n",
    "\n",
    "decToHex = hex(decimalNumber)\n",
    "print(\"Converts to Hexadecimal: \", decToHex)"
   ]
  },
  {
   "cell_type": "code",
   "execution_count": 43,
   "id": "ba7c5d29",
   "metadata": {},
   "outputs": [
    {
     "name": "stdout",
     "output_type": "stream",
     "text": [
      "Enter your first digit: 1\n",
      "Enter your second digit: 2\n",
      "Enter your third digit: 3\n",
      "123\n"
     ]
    }
   ],
   "source": [
    "#2. Input a three-digit positive integer and output the single-digit hundred, ten and one place value respectively. \n",
    "\n",
    "digit1 = int(input(\"Enter your first digit: \"))\n",
    "digit2 = int(input(\"Enter your second digit: \"))\n",
    "digit3 = int(input(\"Enter your third digit: \"))\n",
    "\n",
    "#place digit1 as hundred, digit2 as ten, digit3 as one place value\n",
    "print(str(digit1) + str(digit2) + str(digit3))"
   ]
  },
  {
   "cell_type": "code",
   "execution_count": 44,
   "id": "ad505b3d",
   "metadata": {},
   "outputs": [
    {
     "name": "stdout",
     "output_type": "stream",
     "text": [
      "Can purchase drinks\n"
     ]
    }
   ],
   "source": [
    "#3.Write a program to show that the priority of “and” is higher than “or”.\n",
    "\n",
    "drinks = \"Cola\"\n",
    "\n",
    "money = 2\n",
    "\n",
    "if ((drinks == \"Cola\" or drinks == \"Soda\") and money >= 2):\n",
    "    print(\"Can purchase drinks\")\n",
    "else:\n",
    "    print(\"Not enough money or drinks is not available.\")"
   ]
  },
  {
   "cell_type": "code",
   "execution_count": 45,
   "id": "aa637300",
   "metadata": {},
   "outputs": [
    {
     "name": "stdout",
     "output_type": "stream",
     "text": [
      "['Luhua', 'Rain', 'Jack', 'XiuXie', 'Blue', 'Black']\n"
     ]
    }
   ],
   "source": [
    "#4.Create a list called “Names” with the elements Lihua, Rain, Jack, XiuXiu, Peiqi and Black. \n",
    "#Then, insert Blue before Black in this list.\n",
    "\n",
    "Names = [\"Luhua\", \"Rain\", \"Jack\", \"XiuXie\", \"Peiqi\", \"Black\"]\n",
    "\n",
    "black = \"Black\"\n",
    "\n",
    "if black in Names:\n",
    "    Names[Names.index(black)-1] = \"Blue\"\n",
    "\n",
    "print(Names)"
   ]
  },
  {
   "cell_type": "code",
   "execution_count": 47,
   "id": "3d89bc6f",
   "metadata": {},
   "outputs": [
    {
     "name": "stdout",
     "output_type": "stream",
     "text": [
      "I am Zul and . I like to count  every day.\n"
     ]
    }
   ],
   "source": [
    "#5. Define a string with characters and numbers in it. \n",
    "# Then, output the same string but with the numbers removed.\n",
    "\n",
    "stringNumber = \"I am Zul and 21. I like to count 123 every day.\"\n",
    "stringOnly = \"\"\n",
    "\n",
    "for x in stringNumber:\n",
    "    if not x.isdigit():\n",
    "        stringOnly += x\n",
    "        \n",
    "print(stringOnly)"
   ]
  },
  {
   "cell_type": "code",
   "execution_count": 48,
   "id": "d6c5fe48",
   "metadata": {},
   "outputs": [
    {
     "name": "stdout",
     "output_type": "stream",
     "text": [
      "[1, 2, 3, 4, 6, 9]\n"
     ]
    }
   ],
   "source": [
    "# 6. This is an ordered ascending list: [1,2,4,5,9]. \n",
    "# Insert the value 6 into the said list at the appropriate position in ascending order. The output should be [1,2,3,4,6,9].\n",
    "\n",
    "list = [1,2,4,5,9]\n",
    "\n",
    "#add 3 at index 2, shifting from 4 to the right\n",
    "list.insert(2,3)\n",
    "\n",
    "#add 6 at index 4, shifting from 5 to the right\n",
    "list.insert(4,6)\n",
    "\n",
    "#remove 5\n",
    "list.remove(5)\n",
    "\n",
    "#display\n",
    "print(list)"
   ]
  },
  {
   "cell_type": "code",
   "execution_count": 49,
   "id": "35754987",
   "metadata": {
    "scrolled": true
   },
   "outputs": [
    {
     "name": "stdout",
     "output_type": "stream",
     "text": [
      "[1, 2, 4, 6, 7, 3]\n"
     ]
    }
   ],
   "source": [
    "#7. Write a program to remove the repeated elements in the list [1,2,2,1,4,6,7,3,4,2,1].\n",
    "\n",
    "list = [1,2,2,1,4,6,7,3,4,2,1]\n",
    "temp = []\n",
    "\n",
    "for i in list:\n",
    "        if(i not in temp):\n",
    "            temp.append(i)\n",
    "\n",
    "print(temp)"
   ]
  },
  {
   "cell_type": "code",
   "execution_count": 41,
   "id": "4bd882b0",
   "metadata": {},
   "outputs": [
    {
     "name": "stdout",
     "output_type": "stream",
     "text": [
      "a.  aleX\n",
      "b.  True\n",
      "c.  apeX\n",
      "d.  ('a', 'l', 'eX')\n",
      "e.  Alex\n",
      "f.  alex\n"
     ]
    }
   ],
   "source": [
    "#8.Define variable name = “ aleX ”: \n",
    " \n",
    "#f.Change the variable to lowercase and output the result. \n",
    "\n",
    "#a.Remove the spaces on both sides of the variable and output the removed content. \n",
    "name = \" aleX \"\n",
    "name = name.replace(\" \", \"\")\n",
    "print(\"a. \", name)\n",
    "\n",
    "#b.Judge whether the value of the variable starts with \"al\" and output the result. \n",
    "startWith = name.startswith(\"al\")\n",
    "print(\"b. \", startWith)\n",
    "\n",
    "#c.Replace \"l\" in the variable with \"p\" and output the result. \n",
    "replaceLToP = name.replace(\"l\", \"p\")\n",
    "print(\"c. \", replaceLToP)\n",
    "\n",
    "#d.Divide the variable at \"l\" and output the result. \n",
    "divideL = name.partition(\"l\")\n",
    "print(\"d. \", divideL)\n",
    "\n",
    "#e.Capitalise the variable and output the result.\n",
    "capitalize = name.capitalize()\n",
    "print(\"e. \", capitalize)\n",
    "\n",
    "#f.Change the variable to lowercase and output the result. \n",
    "lowercase = name.casefold()\n",
    "print(\"f. \", lowercase)"
   ]
  },
  {
   "cell_type": "code",
   "execution_count": null,
   "id": "d93e9890",
   "metadata": {},
   "outputs": [],
   "source": []
  },
  {
   "cell_type": "code",
   "execution_count": null,
   "id": "0f3db58d",
   "metadata": {},
   "outputs": [],
   "source": []
  }
 ],
 "metadata": {
  "kernelspec": {
   "display_name": "Python 3",
   "language": "python",
   "name": "python3"
  },
  "language_info": {
   "codemirror_mode": {
    "name": "ipython",
    "version": 3
   },
   "file_extension": ".py",
   "mimetype": "text/x-python",
   "name": "python",
   "nbconvert_exporter": "python",
   "pygments_lexer": "ipython3",
   "version": "3.8.8"
  }
 },
 "nbformat": 4,
 "nbformat_minor": 5
}
