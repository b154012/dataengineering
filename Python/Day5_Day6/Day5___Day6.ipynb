{
 "cells": [
  {
   "cell_type": "code",
   "execution_count": 6,
   "id": "f4bcbdeb",
   "metadata": {},
   "outputs": [
    {
     "name": "stdout",
     "output_type": "stream",
     "text": [
      "H\n",
      "e\n",
      "l\n",
      "l\n",
      "o\n",
      " \n",
      "w\n",
      "o\n",
      "r\n",
      "l\n",
      "d\n"
     ]
    }
   ],
   "source": [
    "#1. Given a string S1 = \"Hello world\", use the for loop to output each element. \n",
    "\n",
    "S1 = \"Hello world\"\n",
    "\n",
    "for s in S1:\n",
    "    print(s)"
   ]
  },
  {
   "cell_type": "code",
   "execution_count": 9,
   "id": "f81a2b9e",
   "metadata": {},
   "outputs": [
    {
     "name": "stdout",
     "output_type": "stream",
     "text": [
      "Enter your number : 1\n",
      "Enter your number : 5\n",
      "Enter your number : 7\n",
      "The list is [1, 5, 7]\n",
      "Max is  7\n",
      "Min is  1\n"
     ]
    }
   ],
   "source": [
    "#2. Write a program allowing users to input 3 numbers, which then outputs the maximum and minimum values. \n",
    "\n",
    "mylist = []\n",
    "for x in range(3):\n",
    "    mylist.append(int(input(\"Enter your number : \")))\n",
    "\n",
    "minValue = mylist[0]\n",
    "maxValue = mylist[0]\n",
    "\n",
    "for x in range(len(mylist)):\n",
    "    if x < minValue:\n",
    "        minValue = mylist[x]\n",
    "    elif x > maxValue:\n",
    "        maxValue = mylist[x]\n",
    "\n",
    "print(\"The list is\", mylist)\n",
    "print(\"Max is \", maxValue)\n",
    "print(\"Min is \", minValue)"
   ]
  },
  {
   "cell_type": "code",
   "execution_count": 10,
   "id": "56579af6",
   "metadata": {},
   "outputs": [
    {
     "name": "stdout",
     "output_type": "stream",
     "text": [
      "Enter a year: 2050\n",
      "2050 is not a leap year.\n"
     ]
    }
   ],
   "source": [
    "#3. Enter the year to determine whether the year is a leap year. \n",
    "\n",
    "year = int(input(\"Enter a year: \"))\n",
    "\n",
    "if(year % 4 == 0):\n",
    "    if(year % 100 == 0):\n",
    "        if(year % 400 == 0):\n",
    "            print(str(year) + \" is a leap year.\")\n",
    "        else:\n",
    "            print(str(year) + \" is not a leap year.\")\n",
    "    else:\n",
    "        print(str(year) + \" is a leap year.\")\n",
    "else:\n",
    "    print(str(year) + \" is not a leap year.\")"
   ]
  },
  {
   "cell_type": "code",
   "execution_count": 26,
   "id": "ce5d8455",
   "metadata": {},
   "outputs": [
    {
     "name": "stdout",
     "output_type": "stream",
     "text": [
      "Enter the first letter: t\n",
      "Enter the second letter: h\n",
      "Thursday\n"
     ]
    }
   ],
   "source": [
    "#4. Write a program to output the day of the week when users enter the first letter.\n",
    "# If the first letter matches multiple days, request users to input the second letter. \n",
    "\n",
    "flag = False\n",
    "\n",
    "while(not flag):\n",
    "    theday = input(\"Enter the first letter: \")\n",
    "    day = theday.capitalize()\n",
    "    if (day == 'M'):\n",
    "        print(\"Monday\")\n",
    "        break\n",
    "    elif (day == 'T'):\n",
    "        whichday = input(\"Enter the second letter: \")  \n",
    "        whichdaynow = whichday.capitalize()\n",
    "        if (whichday == \"e\"):\n",
    "            print(\"Tuesday\")\n",
    "            break\n",
    "        elif (whichday == \"h\"):\n",
    "            print(\"Thursday\")\n",
    "            break\n",
    "        else:\n",
    "            print(\"No day associated with the second letter\")\n",
    "        break\n",
    "    elif (day == 'W'):\n",
    "        print(\"Wednesday\")\n",
    "        break\n",
    "    elif (day == 'F'):\n",
    "        print(\"Friday\")\n",
    "        break\n",
    "    elif (day == 'S'):\n",
    "        \n",
    "        whichday = input(\"Enter the second letter: \")\n",
    "        whichdaynow = whichday.capitalize()\n",
    "        if (whichday == 'a'):\n",
    "            print(\"Saturday\")\n",
    "            break\n",
    "        elif (whichday == 'u'):\n",
    "            print(\"Sunday\")\n",
    "            break\n",
    "        else:\n",
    "            print(\"No day associated with the second letter\")\n",
    "            break\n",
    "    else:\n",
    "        print(\"No day associated with the first letter\")\n",
    "        continue"
   ]
  },
  {
   "cell_type": "code",
   "execution_count": 12,
   "id": "0fb94176",
   "metadata": {},
   "outputs": [
    {
     "name": "stdout",
     "output_type": "stream",
     "text": [
      "Enter your day: 12\n",
      "Enter your month: 3\n",
      "Enter your year: 2020\n",
      "12 / 3 / 2020\n",
      "This day Thursday is not the first day of the year.\n"
     ]
    }
   ],
   "source": [
    "#5.\tFrom an input date, e.g. 12/03/2020, write a program to output if this day is the first day of the year or not.\n",
    "\n",
    "import datetime\n",
    "\n",
    "day = int(input(\"Enter your day: \"))\n",
    "month = int(input(\"Enter your month: \"))\n",
    "year = int(input(\"Enter your year: \"))\n",
    "\n",
    "print(day, \"/\", month, \"/\", year)\n",
    "\n",
    "date = datetime.datetime(year, month, day)\n",
    "weekday = date.strftime(\"%A\")\n",
    "\n",
    "firstYearDay = datetime.datetime(2020, 1, 1)\n",
    "yearday = firstYearDay.strftime(\"%A\")\n",
    "\n",
    "if weekday == yearday:\n",
    "    print(\"This day\", weekday, \"is the first day of the year.\")\n",
    "else:\n",
    "    print(\"This day\", weekday, \"is not the first day of the year.\")"
   ]
  },
  {
   "cell_type": "code",
   "execution_count": 28,
   "id": "053478c6",
   "metadata": {},
   "outputs": [
    {
     "name": "stdout",
     "output_type": "stream",
     "text": [
      "Enter gender: [male - m, female - f]: m\n",
      "Enter age: 10\n",
      "The player is not eligible to join the team.\n",
      "Enter gender: [male - m, female - f]: f\n",
      "Enter age: 10\n",
      "The player is eligible to join the team.\n",
      "Enter gender: [male - m, female - f]: m\n",
      "Enter age: 12\n",
      "The player is not eligible to join the team.\n",
      "Enter gender: [male - m, female - f]: f\n",
      "Enter age: 11\n",
      "The player is eligible to join the team.\n",
      "Enter gender: [male - m, female - f]: f\n",
      "Enter age: 10\n",
      "The player is eligible to join the team.\n",
      "Enter gender: [male - m, female - f]: f\n",
      "Enter age: 10\n",
      "The player is eligible to join the team.\n",
      "Enter gender: [male - m, female - f]: f\n",
      "Enter age: 9\n",
      "The player is not eligble to join the team.\n",
      "Enter gender: [male - m, female - f]: f\n",
      "Enter age: 12\n",
      "The player is eligible to join the team.\n",
      "Enter gender: [male - m, female - f]: m\n",
      "Enter age: 5\n",
      "The player is not eligible to join the team.\n",
      "Enter gender: [male - m, female - f]: m\n",
      "Enter age: 12\n",
      "The player is not eligible to join the team.\n",
      "The total number of players who meet the conditions is  5\n"
     ]
    }
   ],
   "source": [
    "#6.\tThe football coach is required to form a team of girls between the ages of 10 and 12. \n",
    "#Write a program which requests for a player's gender (m for male, f for female) and age, \n",
    "#and then display a message indicating whether the player is eligible to join the team.\n",
    "#The program needs to ask 10 times before outputting the total number of players who meet the conditions. \n",
    "    \n",
    "count = 0\n",
    "index = 0\n",
    "\n",
    "while(index < 10):\n",
    "    gender = input(\"Enter gender: [male - m, female - f]: \")\n",
    "    age = int(input(\"Enter age: \"))\n",
    "        \n",
    "    if (gender == 'm'):\n",
    "        print(\"The player is not eligible to join the team.\")\n",
    "    elif (gender == 'f'):\n",
    "        if (age >= 10 and age <= 12):\n",
    "            count += 1\n",
    "            print(\"The player is eligible to join the team.\")\n",
    "        else:\n",
    "            print(\"The player is not eligble to join the team.\")\n",
    "    else:\n",
    "        print(\"The player is not eligible to join the team.\")\n",
    "    \n",
    "    index = index + 1\n",
    "\n",
    "\n",
    "print(\"The total number of players who meet the conditions is \", count)"
   ]
  },
  {
   "cell_type": "code",
   "execution_count": 29,
   "id": "f9779396",
   "metadata": {},
   "outputs": [
    {
     "name": "stdout",
     "output_type": "stream",
     "text": [
      "Enter how many numbers: 4\n",
      "Enter how many digits: 3\n",
      "Three digits can be formed when different and no repetition are allowed:  24\n"
     ]
    }
   ],
   "source": [
    "#7.\tThere are four numbers: 1, 2, 3, 4. \n",
    "#Write a program to output how many three digit numbers which have different and non-repetitive digits can be formed. \n",
    "\n",
    "# permutations. so a combination of 1 2 3 4 can be permutated by 4 * 3 * 2 = 24. \n",
    "#Which means that the following possible ways to select:  4 [1 2 3 4] chose 1, then 3 [2 3 4] chose 4, then 2 [2 3] chose 3.\n",
    "\n",
    "numbers = int(input(\"Enter how many numbers: \"))\n",
    "number = numbers\n",
    "digits = int(input(\"Enter how many digits: \"))\n",
    "\n",
    "index = 1\n",
    "\n",
    "while(index < digits):\n",
    "    numbers *= (number-index)\n",
    "    index = index + 1\n",
    "    \n",
    "print(\"Three digits can be formed when different and no repetition are allowed: \", numbers)"
   ]
  },
  {
   "cell_type": "code",
   "execution_count": 30,
   "id": "4e13ebbd",
   "metadata": {},
   "outputs": [
    {
     "name": "stdout",
     "output_type": "stream",
     "text": [
      "Enter your input: 12321\n",
      "5-digit number:  ['1', '2', '3', '2', '1']\n",
      "Reverse number:  ['1', '2', '3', '2', '1']\n",
      "It is a palindrome number.\n"
     ]
    }
   ],
   "source": [
    "#8. Input a 5-digit number and output whether it is palindrome number or not. For example, 12321 is a palindrome number.\n",
    "\n",
    "number = str(int(input(\"Enter your input: \")))\n",
    "number = list(number)\n",
    "print(\"5-digit number: \", number)\n",
    "\n",
    "reverseN = number[::-1]\n",
    "print(\"Reverse number: \", reverseN)\n",
    "\n",
    "index = 0\n",
    "\n",
    "for i in number:\n",
    "    if number[index] == reverseN[index]:\n",
    "        found = True\n",
    "    else:\n",
    "        found = False\n",
    "        break\n",
    "    index = index + 1\n",
    "        \n",
    "if(found):\n",
    "    print(\"It is a palindrome number.\")\n",
    "else:\n",
    "    print(\"It is not a palindrome number.\")"
   ]
  },
  {
   "cell_type": "code",
   "execution_count": 31,
   "id": "52678cf3",
   "metadata": {},
   "outputs": [
    {
     "name": "stdout",
     "output_type": "stream",
     "text": [
      "     * \n",
      "    * * \n",
      "   * * * \n",
      "  * * * * \n",
      " * * * * * \n",
      "  * * * * \n",
      "   * * * \n",
      "    * * \n",
      "     * \n",
      "      \n"
     ]
    }
   ],
   "source": [
    "#9. Write a program which uses only the asterisk symbol * and a minimum of 5 lines to print a diamond. \n",
    "row = 5\n",
    "\n",
    "for r in range(row):\n",
    "    print((row-r-1)*\" \", (r+1)*\"* \")\n",
    "for r in range(row):\n",
    "    print((r+1)*\" \", (row-r-1)*\"* \")"
   ]
  },
  {
   "cell_type": "code",
   "execution_count": 32,
   "id": "04462c01",
   "metadata": {},
   "outputs": [
    {
     "name": "stdout",
     "output_type": "stream",
     "text": [
      "Enter your number: 98\n",
      "1100010"
     ]
    }
   ],
   "source": [
    "#10. Write a program to convert 98 into a binary number. \n",
    "binarylist = []\n",
    "\n",
    "number = int(input(\"Enter your number: \"))\n",
    "\n",
    "count = 0\n",
    "\n",
    "while(number > 0):\n",
    "    \n",
    "    binarylist.append(number % 2)\n",
    "    number = int(number / 2)\n",
    "    \n",
    "for i in range(len(binarylist)-1, -1, -1):\n",
    "    print(binarylist[i], end=\"\")"
   ]
  },
  {
   "cell_type": "code",
   "execution_count": 33,
   "id": "5fd82bd8",
   "metadata": {},
   "outputs": [
    {
     "name": "stdout",
     "output_type": "stream",
     "text": [
      "Enter your number: 153\n",
      "153 is a narcissistic number.\n"
     ]
    }
   ],
   "source": [
    "#11. Write a procedure to output all the narcissistic numbers. \n",
    "# Narcissistic number is a number that is the sum of its own digits\n",
    "# each raised to the power of the number of digits, e.g. 153 = 13+53+33.\n",
    "import math\n",
    "\n",
    "def narcissistic():\n",
    "    number = int(input(\"Enter your number: \"))\n",
    "  \n",
    "    narcist = [int(i) for i in str(number)]\n",
    "    size = len(narcist)\n",
    "\n",
    "    sum = 0\n",
    "    for x in narcist:\n",
    "        narcissistic = math.ceil(math.pow(x, size))\n",
    "        sum = sum + narcissistic\n",
    "    \n",
    "    if(sum == number):\n",
    "        print(number, \"is a narcissistic number.\")\n",
    "    else:\n",
    "        print(number, \"is not a narcissitic number.\")\n",
    "\n",
    "#0-9, 153, 370, 371, 407 \n",
    "narcissistic()"
   ]
  },
  {
   "cell_type": "code",
   "execution_count": 34,
   "id": "1e5dc149",
   "metadata": {},
   "outputs": [
    {
     "name": "stdout",
     "output_type": "stream",
     "text": [
      "Enter your number: 2\n",
      "2 is a prime number.\n"
     ]
    }
   ],
   "source": [
    "#12. Write a program for users to input a number, then the program will output whether or not it is a prime number. \n",
    "\n",
    "def primenumber():\n",
    "    number = int(input(\"Enter your number: \"))\n",
    "    num = 1 #to indiciate a prime number\n",
    "    for i in range(2, number):\n",
    "        if(number % i == 0):\n",
    "            num = 0\n",
    "            break\n",
    "        else:\n",
    "            num = 1\n",
    "            \n",
    "    if (num == 1):\n",
    "        print(number, \"is a prime number.\")\n",
    "    else:\n",
    "        print(number, \"is not a prime number.\")\n",
    "\n",
    "primenumber()"
   ]
  },
  {
   "cell_type": "code",
   "execution_count": 56,
   "id": "f00c5eab",
   "metadata": {},
   "outputs": [
    {
     "name": "stdout",
     "output_type": "stream",
     "text": [
      "Enter your number: 5\n",
      "Enter your number: 7\n",
      "Enter your number: 9\n"
     ]
    },
    {
     "data": {
      "text/plain": [
       "9"
      ]
     },
     "execution_count": 56,
     "metadata": {},
     "output_type": "execute_result"
    }
   ],
   "source": [
    "#13. Define a getmax function that returns the maximum of three numbers which are inputted into the program.\n",
    "\n",
    "def getmax(num):\n",
    "    maxi = num[0]\n",
    "    for i in range(len(num)):\n",
    "        if num[i] > maxi:\n",
    "            maxi = num[i]\n",
    "    return maxi\n",
    "\n",
    "def getnumbers():\n",
    "    numbers = []\n",
    "    for i in range(3):\n",
    "        numbers.append(int(input(\"Enter your number: \")))\n",
    "    return numbers\n",
    "\n",
    "num = getnumbers()\n",
    "getmax(num)"
   ]
  },
  {
   "cell_type": "code",
   "execution_count": 99,
   "id": "a38e9f9a",
   "metadata": {},
   "outputs": [
    {
     "name": "stdout",
     "output_type": "stream",
     "text": [
      "Enter your number:3\n",
      "1 / 12\n",
      "1 / 23\n",
      "1 / 34\n"
     ]
    },
    {
     "data": {
      "text/plain": [
       "0.06926683716965046"
      ]
     },
     "execution_count": 99,
     "metadata": {},
     "output_type": "execute_result"
    }
   ],
   "source": [
    "#14. Write a function to find the sum of the first n terms of \"1 / (12) - 1 / (23) + 1 / (34) - 1 / (45 +...)\".\n",
    "# The function takes n as the parameter, which is input by the user. \n",
    "\n",
    "def sumFirstNTerm(n):\n",
    "    sum = 0\n",
    "    for i in range(n):\n",
    "        #adds 1 to every index to indicate the sequence is real\n",
    "        nth = i+1\n",
    "        #denominator is updated according to its sequence value, eg n = 1: d = 1 + (1*11) then 12. n = 2: 1 + (2*11) then 23.\n",
    "        denominator = 1 + (nth * 11)\n",
    "        if i % 2 == 0:\n",
    "            print(1, \"/\", denominator)\n",
    "            sum = sum + (1/denominator)\n",
    "        else:\n",
    "            print(1, \"/\", denominator)\n",
    "            sum = sum - (1/denominator)\n",
    "    return sum\n",
    "\n",
    "n = int(input(\"Enter your number:\"))\n",
    "sumFirstNTerm(n)"
   ]
  },
  {
   "cell_type": "code",
   "execution_count": 43,
   "id": "db66a37e",
   "metadata": {},
   "outputs": [
    {
     "name": "stdout",
     "output_type": "stream",
     "text": [
      "Enter your number: 353\n",
      "It is a palindrome number.\n"
     ]
    }
   ],
   "source": [
    "# 15. Write a program to determine whether an integer inputted by the user is a palindrome number. \n",
    "\n",
    "def isPalindrome(num):\n",
    "    number = []\n",
    "    listnumber = [number.append(int(i)) for i in str(num)] \n",
    "    reversenumber = number[::-1]\n",
    "    \n",
    "    for i in range(len(number)):\n",
    "        if number[i] == reversenumber[i]:\n",
    "            ispalindrome = True\n",
    "        else:\n",
    "            ispalindrome = False\n",
    "            break\n",
    "    return ispalindrome\n",
    "\n",
    "num = int(input(\"Enter your number: \"))\n",
    "\n",
    "if isPalindrome(num):\n",
    "    print(\"It is a palindrome number.\")\n",
    "else:\n",
    "    print(\"It is not a palindrome number.\")"
   ]
  },
  {
   "cell_type": "code",
   "execution_count": 44,
   "id": "499c5bf5",
   "metadata": {},
   "outputs": [
    {
     "name": "stdout",
     "output_type": "stream",
     "text": [
      "Enter your first number: 5\n",
      "Enter your second number: 8\n",
      "Enter your third number: 10\n",
      "Can form a triangle.\n"
     ]
    }
   ],
   "source": [
    "#16. Write a function to determine whether the input of any three numbers can form the three sides of the triangle.\n",
    "\n",
    "def isFormtriangle(num1, num2, num3):\n",
    "    \n",
    "    #and num2+num3 > num1 and num1+num3 > num2\n",
    "    if (num1+num2 > num3):\n",
    "        return True\n",
    "    else:\n",
    "        return False\n",
    "\n",
    "num1 = int(input(\"Enter your first number: \"))\n",
    "num2 = int(input(\"Enter your second number: \"))\n",
    "num3 = int(input(\"Enter your third number: \"))\n",
    "\n",
    "if isFormtriangle(num1, num2, num3):\n",
    "    print(\"Can form a triangle.\")\n",
    "else:\n",
    "    print(\"Cannot form a triangle.\")"
   ]
  },
  {
   "cell_type": "code",
   "execution_count": 45,
   "id": "3c99a353",
   "metadata": {},
   "outputs": [
    {
     "name": "stdout",
     "output_type": "stream",
     "text": [
      "Enter your first number: 5\n",
      "Enter your second number: 7\n"
     ]
    },
    {
     "data": {
      "text/plain": [
       "35"
      ]
     },
     "execution_count": 45,
     "metadata": {},
     "output_type": "execute_result"
    }
   ],
   "source": [
    "#17. Write a function to find the least common multiple of two positive integers. \n",
    "def gcd(num1, num2):\n",
    "    if num1 == 0:\n",
    "        return num2   \n",
    "    return gcd(num2%num1, num1)\n",
    "\n",
    "def lcm(num1, num2):  \n",
    "    return int ((num1 / gcd(num1, num2)) * num2)\n",
    "\n",
    "num1 = int(input(\"Enter your first number: \"))\n",
    "num2 = int(input(\"Enter your second number: \"))\n",
    "lcm(num1,num2)"
   ]
  },
  {
   "cell_type": "code",
   "execution_count": 46,
   "id": "5e62afa9",
   "metadata": {},
   "outputs": [
    {
     "name": "stdout",
     "output_type": "stream",
     "text": [
      "[2, 4, 6]\n"
     ]
    }
   ],
   "source": [
    "#18. For a given list [1, 2, 3, 4, 5], add 1 to each element of the list and filter out the resulting elements\n",
    "#which cannot be divisible by 2. \n",
    "\n",
    "givenlist = [1,2,3,4,5]\n",
    "givenlist = [givenlist[i]+1 for i in range(len(givenlist))]\n",
    "result = filter(lambda x : x % 2 == 0, givenlist)\n",
    "print(list(result))"
   ]
  },
  {
   "cell_type": "code",
   "execution_count": 47,
   "id": "fb397826",
   "metadata": {},
   "outputs": [
    {
     "data": {
      "text/plain": [
       "{'uppercase': 4, 'lowercase': 17, 'digit': 2}"
      ]
     },
     "execution_count": 47,
     "metadata": {},
     "output_type": "execute_result"
    }
   ],
   "source": [
    "#19. Define a function to count the number of uppercase letters, \n",
    "#lowercase letters and numbers in a string, and return the result to the caller with the dictionary.\n",
    "\n",
    "def count(letters): \n",
    "    dict1 = {}\n",
    "    \n",
    "    upper = filter(lambda l : l.isupper(), letters)\n",
    "    dict1['uppercase'] = len(list(upper))\n",
    "    \n",
    "    lower = filter(lambda l : l.islower(), letters)\n",
    "    dict1['lowercase'] = len(list(lower))\n",
    "    \n",
    "    digit = filter(lambda l : l.isdigit(), letters)\n",
    "    dict1['digit'] = len(list(digit))\n",
    "    \n",
    "    return dict1\n",
    "    \n",
    "letters = \"I am Evan, 20 years old from BN.\"\n",
    "count(letters)"
   ]
  },
  {
   "cell_type": "code",
   "execution_count": 48,
   "id": "e3089fc1",
   "metadata": {},
   "outputs": [
    {
     "name": "stdout",
     "output_type": "stream",
     "text": [
      "Enter your number: 7\n"
     ]
    },
    {
     "data": {
      "text/plain": [
       "5040"
      ]
     },
     "execution_count": 48,
     "metadata": {},
     "output_type": "execute_result"
    }
   ],
   "source": [
    "#20. Define a function with parameter n and return the factorial of n. \n",
    "def factorial(num):\n",
    "    if num == 0:\n",
    "        return 1\n",
    "    else:\n",
    "        return num * factorial(num-1)\n",
    "\n",
    "n = int(input(\"Enter your number: \"))    \n",
    "factorial(n)"
   ]
  },
  {
   "cell_type": "code",
   "execution_count": 80,
   "id": "e43292ea",
   "metadata": {},
   "outputs": [
    {
     "name": "stdout",
     "output_type": "stream",
     "text": [
      "a.  [44, 55]\n",
      "b.  [111, 22, 133, 44, 155]\n"
     ]
    }
   ],
   "source": [
    "#21. L1 = [11,22,33,44,55]\n",
    "#a. Use filter function and user-defined function to get all the elements in L1 whose elements are greater than 33.\n",
    "#b. Add 100 to all odd elements in L1 by using map and user-defined function. \n",
    "def getAllElements(L1): \n",
    "    L1 = filter(lambda l : l > 33, L1) \n",
    "    return list(L1)\n",
    "    \n",
    "def allOddElements(L1):\n",
    "    if L1 % 2 != 0:\n",
    "        L1 += 100\n",
    "    return L1   \n",
    "\n",
    "L1 = [11,22,33,44,55]\n",
    "print(\"a. \", getAllElements(L1))\n",
    "result = map(allOddElements, L1)\n",
    "print(\"b. \", list(result))"
   ]
  },
  {
   "cell_type": "code",
   "execution_count": null,
   "id": "3b89971b",
   "metadata": {},
   "outputs": [],
   "source": []
  }
 ],
 "metadata": {
  "kernelspec": {
   "display_name": "Python 3",
   "language": "python",
   "name": "python3"
  },
  "language_info": {
   "codemirror_mode": {
    "name": "ipython",
    "version": 3
   },
   "file_extension": ".py",
   "mimetype": "text/x-python",
   "name": "python",
   "nbconvert_exporter": "python",
   "pygments_lexer": "ipython3",
   "version": "3.8.8"
  }
 },
 "nbformat": 4,
 "nbformat_minor": 5
}
