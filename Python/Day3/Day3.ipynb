{
 "cells": [
  {
   "cell_type": "code",
   "execution_count": 62,
   "id": "b87d07aa",
   "metadata": {},
   "outputs": [
    {
     "name": "stdout",
     "output_type": "stream",
     "text": [
      "{'a': 1, 'b': 2, 'c': 3}\n"
     ]
    }
   ],
   "source": [
    "#1.\tDictionary d = {1: 'a', 2: 'b', 3: 'c'}\n",
    "#Write a program to exchange the keys and values in the dictionary. \n",
    "\n",
    "d = { 1 : 'a', 2 : 'b', 3 : 'c'}\n",
    "\n",
    "newdict = {}\n",
    "\n",
    "for key, value in d.items():\n",
    "    newdict[value] = key\n",
    "\n",
    "print(newdict)"
   ]
  },
  {
   "cell_type": "code",
   "execution_count": 64,
   "id": "8844df9f",
   "metadata": {},
   "outputs": [
    {
     "name": "stdout",
     "output_type": "stream",
     "text": [
      "{'K1': 'V1', 'K2': 'V2', 'K3': 'V3', 'k4': 'V4'}\n",
      "{'K2': 'V2', 'K3': 'V3', 'k4': 'V4'}\n"
     ]
    }
   ],
   "source": [
    "#2. Dictionary dict = {\"K1\": \"V1\", \"K2\": \"V2\", \"K3\": \"V3\"}\n",
    "# a. Add the key value pair \"K4\": \"V4\" into the dictionary and print the output. \n",
    "# b. Delete the key value pair \"K1\": \"V1\" from the dictionary and print the output. \n",
    "\n",
    "dict = {\"K1\" : \"V1\", \"K2\" : \"V2\", \"K3\" : \"V3\"}\n",
    "\n",
    "# a. Add the key value pair \"K4\": \"V4\" into the dictionary and print the output. \n",
    "dict[\"k4\"] = \"V4\"\n",
    "print(dict)\n",
    "\n",
    "# b. Delete the key value pair \"K1\": \"V1\" from the dictionary and print the output.\n",
    "del dict[\"K1\"]\n",
    "print(dict)"
   ]
  },
  {
   "cell_type": "code",
   "execution_count": null,
   "id": "96dc58d6",
   "metadata": {},
   "outputs": [],
   "source": []
  },
  {
   "cell_type": "code",
   "execution_count": null,
   "id": "5793a41d",
   "metadata": {},
   "outputs": [],
   "source": []
  }
 ],
 "metadata": {
  "kernelspec": {
   "display_name": "Python 3",
   "language": "python",
   "name": "python3"
  },
  "language_info": {
   "codemirror_mode": {
    "name": "ipython",
    "version": 3
   },
   "file_extension": ".py",
   "mimetype": "text/x-python",
   "name": "python",
   "nbconvert_exporter": "python",
   "pygments_lexer": "ipython3",
   "version": "3.8.8"
  }
 },
 "nbformat": 4,
 "nbformat_minor": 5
}
