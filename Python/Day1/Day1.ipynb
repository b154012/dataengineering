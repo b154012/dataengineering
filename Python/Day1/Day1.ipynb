{
 "cells": [
  {
   "cell_type": "code",
   "execution_count": 9,
   "id": "3f3c3381",
   "metadata": {},
   "outputs": [
    {
     "name": "stdout",
     "output_type": "stream",
     "text": [
      "Enter your values: 200\n",
      "3  hours and  20  minutes.\n"
     ]
    }
   ],
   "source": [
    "#3. Write a program allowing users to input any value of minutes and convert the value into hours and minutes.\n",
    "\n",
    "try:\n",
    "    minutes = int(input(\"Enter your values: \"))\n",
    "    \n",
    "    if(minutes < 0):\n",
    "        print(\"Print only positive values.\")\n",
    "    else:\n",
    "        hours = minutes // 60\n",
    "        minutes = minutes % 60\n",
    "        \n",
    "        if(hours > 1):\n",
    "            print(hours, \" hours and \", minutes, \" minutes.\")\n",
    "        else:\n",
    "            print(hours, \" hour and \", minutes, \" minutes.\")\n",
    "            \n",
    "except:\n",
    "    print(\"Enter only an integer or positive integers please!\")"
   ]
  },
  {
   "cell_type": "markdown",
   "id": "ac5a566c",
   "metadata": {},
   "source": []
  },
  {
   "cell_type": "code",
   "execution_count": null,
   "id": "309c44b9",
   "metadata": {},
   "outputs": [],
   "source": []
  },
  {
   "cell_type": "code",
   "execution_count": null,
   "id": "7423de70",
   "metadata": {},
   "outputs": [],
   "source": []
  }
 ],
 "metadata": {
  "kernelspec": {
   "display_name": "Python 3",
   "language": "python",
   "name": "python3"
  },
  "language_info": {
   "codemirror_mode": {
    "name": "ipython",
    "version": 3
   },
   "file_extension": ".py",
   "mimetype": "text/x-python",
   "name": "python",
   "nbconvert_exporter": "python",
   "pygments_lexer": "ipython3",
   "version": "3.8.8"
  }
 },
 "nbformat": 4,
 "nbformat_minor": 5
}
