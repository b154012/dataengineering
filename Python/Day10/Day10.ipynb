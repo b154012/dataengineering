{
 "cells": [
  {
   "cell_type": "markdown",
   "id": "4bad59b4",
   "metadata": {},
   "source": [
    "# Day 10: NumPy\n",
    " "
   ]
  },
  {
   "cell_type": "code",
   "execution_count": 1,
   "id": "264efa45",
   "metadata": {},
   "outputs": [],
   "source": [
    "import numpy as np"
   ]
  },
  {
   "cell_type": "markdown",
   "id": "0d51bbf2",
   "metadata": {},
   "source": [
    "***\n",
    "<br>\n",
    "<b><b>1.\tCreate a one-dimensional all zero ndarray object with a length of 10, and then make the fifth element equal to 1.</b> </b><br>\n",
    "<br>"
   ]
  },
  {
   "cell_type": "code",
   "execution_count": 23,
   "id": "bc6c802e",
   "metadata": {},
   "outputs": [
    {
     "name": "stdout",
     "output_type": "stream",
     "text": [
      "One-dimensional all zero with a length of 10:\n",
      " [0 0 0 0 0 0 0 0 0 0]\n",
      "The fifth element is 1: \n",
      " [0 0 0 0 1 0 0 0 0 0]\n"
     ]
    }
   ],
   "source": [
    "ten_zeros = np.zeros(10, dtype='int32')\n",
    "print(\"One-dimensional all zero with a length of 10:\\n\", ten_zeros)\n",
    "ten_zeros[4] = 1\n",
    "print(\"The fifth element is 1: \\n\", ten_zeros)"
   ]
  },
  {
   "cell_type": "markdown",
   "id": "ad98d15c",
   "metadata": {},
   "source": [
    "***\n",
    "<br>\n",
    "<b>2.Create a ndarray object with elements from 10 to 49. </b><br>\n",
    "<br>"
   ]
  },
  {
   "cell_type": "code",
   "execution_count": 3,
   "id": "cbf88ea3",
   "metadata": {},
   "outputs": [
    {
     "name": "stdout",
     "output_type": "stream",
     "text": [
      "[10 11 12 13 14 15 16 17 18 19 20 21 22 23 24 25 26 27 28 29 30 31 32 33\n",
      " 34 35 36 37 38 39 40 41 42 43 44 45 46 47 48 49]\n"
     ]
    }
   ],
   "source": [
    "element1049 = np.arange(10,50, dtype='int32')\n",
    "print(element1049)"
   ]
  },
  {
   "cell_type": "markdown",
   "id": "92448911",
   "metadata": {},
   "source": [
    "***\n",
    "<br>\n",
    "<b>3.Use np.random.random to create a 10 * 10 ndarray object and print out the maximum and minimum elements.</b> <br>\n",
    "<br>"
   ]
  },
  {
   "cell_type": "code",
   "execution_count": 4,
   "id": "e7b52955",
   "metadata": {},
   "outputs": [
    {
     "name": "stdout",
     "output_type": "stream",
     "text": [
      "The minimum is  0.00588903040782407\n",
      "The maximum is  9.951476674928374\n"
     ]
    },
    {
     "data": {
      "text/plain": [
       "array([[7.99687253e+00, 2.62104201e-01, 4.23675539e+00, 3.38353350e+00,\n",
       "        4.87033657e+00, 5.22327335e+00, 2.87430812e+00, 5.12160844e+00,\n",
       "        3.55849709e+00, 8.76388595e+00],\n",
       "       [1.16236711e-01, 3.21018682e+00, 6.98432666e+00, 8.68144358e+00,\n",
       "        4.29021891e-02, 7.73156279e+00, 9.57803290e+00, 6.67560027e+00,\n",
       "        8.20905254e-01, 9.95147667e+00],\n",
       "       [5.15509924e+00, 2.90820943e+00, 1.99373847e+00, 4.65735002e+00,\n",
       "        5.36329649e+00, 6.62159906e+00, 8.88768188e+00, 2.98527374e+00,\n",
       "        7.45306743e-01, 1.56044672e+00],\n",
       "       [9.34197239e+00, 9.66124896e+00, 3.32563057e+00, 8.21323848e-01,\n",
       "        3.24340402e+00, 5.52705009e+00, 2.34393161e+00, 3.02096136e+00,\n",
       "        4.88853984e+00, 2.42101880e+00],\n",
       "       [2.18764952e+00, 3.43102688e-01, 9.52921521e+00, 1.67858917e+00,\n",
       "        5.65952294e+00, 4.49160241e+00, 6.75849437e+00, 8.25014204e+00,\n",
       "        6.04978396e+00, 6.37643063e+00],\n",
       "       [1.32984739e+00, 3.48328513e+00, 8.73342723e+00, 9.54174606e+00,\n",
       "        3.95682308e+00, 1.29851346e+00, 6.38649923e+00, 6.28481840e+00,\n",
       "        9.39923624e+00, 2.92175214e+00],\n",
       "       [1.39613841e+00, 6.48428306e-01, 1.87252044e+00, 5.67929109e-01,\n",
       "        7.80860343e-01, 9.46075770e+00, 9.83649878e+00, 7.01478699e+00,\n",
       "        1.39463405e+00, 4.76744910e+00],\n",
       "       [5.91375061e+00, 9.55551734e+00, 5.36081622e+00, 3.59181751e+00,\n",
       "        5.88903041e-03, 9.34794333e+00, 3.61336892e+00, 2.99540592e+00,\n",
       "        9.04216429e+00, 8.96996370e+00],\n",
       "       [1.60607218e+00, 8.95399748e+00, 8.51714573e+00, 6.59486858e+00,\n",
       "        2.69790814e+00, 8.66359297e+00, 1.74275463e+00, 3.52134495e+00,\n",
       "        4.47917967e+00, 1.38173417e+00],\n",
       "       [9.66954260e-01, 3.58158520e+00, 8.47438310e+00, 3.75366213e+00,\n",
       "        8.03209573e+00, 8.21808141e+00, 4.24027451e+00, 7.82637997e-01,\n",
       "        4.54321115e+00, 4.22874139e+00]])"
      ]
     },
     "execution_count": 4,
     "metadata": {},
     "output_type": "execute_result"
    }
   ],
   "source": [
    "ten_ten = 10*np.random.random(10*10).reshape(10,10)\n",
    "print(\"The minimum is \", ten_ten.min())\n",
    "print(\"The maximum is \", ten_ten.max())\n",
    "ten_ten"
   ]
  },
  {
   "cell_type": "code",
   "execution_count": 5,
   "id": "6b6c87f3",
   "metadata": {},
   "outputs": [],
   "source": [
    "ten = ten_ten[np.newaxis, :]"
   ]
  },
  {
   "cell_type": "code",
   "execution_count": 6,
   "id": "461294c3",
   "metadata": {},
   "outputs": [
    {
     "data": {
      "text/plain": [
       "(1, 10, 10)"
      ]
     },
     "execution_count": 6,
     "metadata": {},
     "output_type": "execute_result"
    }
   ],
   "source": [
    "ten.shape"
   ]
  },
  {
   "cell_type": "code",
   "execution_count": 7,
   "id": "7938770d",
   "metadata": {},
   "outputs": [
    {
     "data": {
      "text/plain": [
       "array([[[7.99687253e+00, 2.62104201e-01, 4.23675539e+00, 3.38353350e+00,\n",
       "         4.87033657e+00, 5.22327335e+00, 2.87430812e+00, 5.12160844e+00,\n",
       "         3.55849709e+00, 8.76388595e+00],\n",
       "        [1.16236711e-01, 3.21018682e+00, 6.98432666e+00, 8.68144358e+00,\n",
       "         4.29021891e-02, 7.73156279e+00, 9.57803290e+00, 6.67560027e+00,\n",
       "         8.20905254e-01, 9.95147667e+00],\n",
       "        [5.15509924e+00, 2.90820943e+00, 1.99373847e+00, 4.65735002e+00,\n",
       "         5.36329649e+00, 6.62159906e+00, 8.88768188e+00, 2.98527374e+00,\n",
       "         7.45306743e-01, 1.56044672e+00],\n",
       "        [9.34197239e+00, 9.66124896e+00, 3.32563057e+00, 8.21323848e-01,\n",
       "         3.24340402e+00, 5.52705009e+00, 2.34393161e+00, 3.02096136e+00,\n",
       "         4.88853984e+00, 2.42101880e+00],\n",
       "        [2.18764952e+00, 3.43102688e-01, 9.52921521e+00, 1.67858917e+00,\n",
       "         5.65952294e+00, 4.49160241e+00, 6.75849437e+00, 8.25014204e+00,\n",
       "         6.04978396e+00, 6.37643063e+00],\n",
       "        [1.32984739e+00, 3.48328513e+00, 8.73342723e+00, 9.54174606e+00,\n",
       "         3.95682308e+00, 1.29851346e+00, 6.38649923e+00, 6.28481840e+00,\n",
       "         9.39923624e+00, 2.92175214e+00],\n",
       "        [1.39613841e+00, 6.48428306e-01, 1.87252044e+00, 5.67929109e-01,\n",
       "         7.80860343e-01, 9.46075770e+00, 9.83649878e+00, 7.01478699e+00,\n",
       "         1.39463405e+00, 4.76744910e+00],\n",
       "        [5.91375061e+00, 9.55551734e+00, 5.36081622e+00, 3.59181751e+00,\n",
       "         5.88903041e-03, 9.34794333e+00, 3.61336892e+00, 2.99540592e+00,\n",
       "         9.04216429e+00, 8.96996370e+00],\n",
       "        [1.60607218e+00, 8.95399748e+00, 8.51714573e+00, 6.59486858e+00,\n",
       "         2.69790814e+00, 8.66359297e+00, 1.74275463e+00, 3.52134495e+00,\n",
       "         4.47917967e+00, 1.38173417e+00],\n",
       "        [9.66954260e-01, 3.58158520e+00, 8.47438310e+00, 3.75366213e+00,\n",
       "         8.03209573e+00, 8.21808141e+00, 4.24027451e+00, 7.82637997e-01,\n",
       "         4.54321115e+00, 4.22874139e+00]]])"
      ]
     },
     "execution_count": 7,
     "metadata": {},
     "output_type": "execute_result"
    }
   ],
   "source": [
    "ten"
   ]
  },
  {
   "cell_type": "markdown",
   "id": "8b84c2c1",
   "metadata": {},
   "source": [
    "***\n",
    "<br>\n",
    "<b> 4. Create a 10 * 10 ndarray object. Set the boundary of the matrix to all 1, and the inside to all 0. </b><br>\n",
    "<br> "
   ]
  },
  {
   "cell_type": "code",
   "execution_count": 8,
   "id": "66bdca6a",
   "metadata": {},
   "outputs": [
    {
     "name": "stdout",
     "output_type": "stream",
     "text": [
      "[[1 1 1 1 1 1 1 1 1 1]\n",
      " [1 0 0 0 0 0 0 0 0 1]\n",
      " [1 0 0 0 0 0 0 0 0 1]\n",
      " [1 0 0 0 0 0 0 0 0 1]\n",
      " [1 0 0 0 0 0 0 0 0 1]\n",
      " [1 0 0 0 0 0 0 0 0 1]\n",
      " [1 0 0 0 0 0 0 0 0 1]\n",
      " [1 0 0 0 0 0 0 0 0 1]\n",
      " [1 0 0 0 0 0 0 0 0 1]\n",
      " [1 1 1 1 1 1 1 1 1 1]]\n"
     ]
    }
   ],
   "source": [
    "import numpy as np\n",
    "matrixOnes = np.ones((10,10))\n",
    "matrixZero = np.zeros((8,8))\n",
    "matrixOnes[1:9, 1:9] = matrixZero\n",
    "print(matrixOnes.astype('int32'))"
   ]
  },
  {
   "cell_type": "markdown",
   "id": "2e6daabe",
   "metadata": {},
   "source": [
    "***\n",
    "<br>\n",
    "<b>5. Create a random 5 * 5 matrix and sort the matrix according to the third column.  </b><br>\n",
    "<br> "
   ]
  },
  {
   "cell_type": "code",
   "execution_count": 9,
   "id": "0792b2aa",
   "metadata": {},
   "outputs": [
    {
     "name": "stdout",
     "output_type": "stream",
     "text": [
      "Orginal Matrix:\n",
      " [[6 3 3 4 6]\n",
      " [3 6 1 7 0]\n",
      " [0 8 0 5 2]\n",
      " [2 9 8 8 7]\n",
      " [0 5 5 6 1]]\n",
      "Sort the matrix according to the 3rd column:\n",
      " [[6 3 0 4 6]\n",
      " [3 6 1 7 0]\n",
      " [0 8 3 5 2]\n",
      " [2 9 5 8 7]\n",
      " [0 5 8 6 1]]\n"
     ]
    }
   ],
   "source": [
    "five_matrix = np.random.randint(10, size=(5,5))\n",
    "print(\"Orginal Matrix:\\n\", five_matrix)\n",
    "five_matrix[:, 2].sort()\n",
    "print(\"Sort the matrix according to the 3rd column:\\n\", five_matrix)"
   ]
  },
  {
   "cell_type": "markdown",
   "id": "73670d8a",
   "metadata": {},
   "source": [
    "***\n",
    "<br>\n",
    "<b>6. Create a two-dimensional matrix and exchange the elements of two rows.</b><br>\n",
    "<br> "
   ]
  },
  {
   "cell_type": "code",
   "execution_count": 10,
   "id": "4570d242",
   "metadata": {},
   "outputs": [],
   "source": [
    "two_dimensional = np.array([[1,2,3], [4,5,6]])"
   ]
  },
  {
   "cell_type": "code",
   "execution_count": 11,
   "id": "3f378e40",
   "metadata": {},
   "outputs": [
    {
     "name": "stdout",
     "output_type": "stream",
     "text": [
      "Original two dimentional:\n",
      " [[1 2 3]\n",
      " [4 5 6]]\n",
      "The shape of the matrix is (2, 3)\n",
      "The no. of dimension of the matrix is 2\n",
      "The total of elements of the matrix is 6\n"
     ]
    }
   ],
   "source": [
    "print(f\"Original two dimentional:\\n {two_dimensional}\")\n",
    "print(\"The shape of the matrix is\", two_dimensional.shape)\n",
    "print(\"The no. of dimension of the matrix is\", two_dimensional.ndim)\n",
    "print(\"The total of elements of the matrix is\", two_dimensional.size)"
   ]
  },
  {
   "cell_type": "code",
   "execution_count": 12,
   "id": "e91a7911",
   "metadata": {},
   "outputs": [],
   "source": [
    "temp = two_dimensional[0].copy()\n",
    "two_dimensional[0] = two_dimensional[1]\n",
    "two_dimensional[1] = temp"
   ]
  },
  {
   "cell_type": "code",
   "execution_count": 13,
   "id": "12519b62",
   "metadata": {
    "scrolled": true
   },
   "outputs": [
    {
     "name": "stdout",
     "output_type": "stream",
     "text": [
      "After exchanging elements in two dimentional:\n",
      " [[4 5 6]\n",
      " [1 2 3]]\n"
     ]
    }
   ],
   "source": [
    "print(f\"After exchanging elements in two dimentional:\\n {two_dimensional}\")"
   ]
  },
  {
   "cell_type": "markdown",
   "id": "278ec0eb",
   "metadata": {},
   "source": [
    "***\n",
    "<br>\n",
    "<b>7. Transform a one-dimensional array into a binary representation matrix. For example:\n",
    "\n",
    "[1,2,3] \n",
    "\n",
    "Converts to \n",
    "\n",
    "[[0,0,1], \n",
    "\n",
    "[0,1,0], \n",
    "\n",
    "[0,1,1]]<br>\n",
    "<br> "
   ]
  },
  {
   "cell_type": "code",
   "execution_count": 15,
   "id": "b367f698",
   "metadata": {},
   "outputs": [
    {
     "name": "stdout",
     "output_type": "stream",
     "text": [
      "[1 2 3]\n"
     ]
    },
    {
     "data": {
      "text/plain": [
       "array([[0, 0, 1],\n",
       "       [0, 1, 0],\n",
       "       [0, 1, 1]])"
      ]
     },
     "execution_count": 15,
     "metadata": {},
     "output_type": "execute_result"
    }
   ],
   "source": [
    "val = np.array([1,2,3])\n",
    "print(val)\n",
    "\n",
    "value = []\n",
    "for i in range(len(val)):\n",
    "    value.append(np.binary_repr(val[i], width=3)) \n",
    "\n",
    "val1 = []    \n",
    "for i in range(len(value)):\n",
    "    val1.append(value[i])\n",
    "    \n",
    "valfirst = [int(i) for i in str(val1[0])]\n",
    "valsecond = [int(i) for i in str(val1[1])]\n",
    "valthird = [int(i) for i in str(val1[2])]\n",
    "\n",
    "binary_matrix = np.array([valfirst, valsecond, valthird])\n",
    "binary_matrix"
   ]
  },
  {
   "cell_type": "markdown",
   "id": "1d87551f",
   "metadata": {},
   "source": [
    "***\n",
    "<br>\n",
    "<b>8.Create a 5 * 5 matrix and subtract the average value of each row from the elements in the matrix. </b><br>\n",
    "<br> "
   ]
  },
  {
   "cell_type": "code",
   "execution_count": 16,
   "id": "2d142c3d",
   "metadata": {},
   "outputs": [],
   "source": [
    "five_matrix = np.random.randint(10, size=(5,5))"
   ]
  },
  {
   "cell_type": "code",
   "execution_count": 17,
   "id": "8039d756",
   "metadata": {},
   "outputs": [
    {
     "name": "stdout",
     "output_type": "stream",
     "text": [
      "[[4 0 9 3 1]\n",
      " [0 7 8 8 5]\n",
      " [7 3 9 5 2]\n",
      " [1 4 9 8 0]\n",
      " [4 1 6 9 3]]\n"
     ]
    }
   ],
   "source": [
    "print(five_matrix)"
   ]
  },
  {
   "cell_type": "code",
   "execution_count": 18,
   "id": "9c2402d9",
   "metadata": {},
   "outputs": [
    {
     "name": "stdout",
     "output_type": "stream",
     "text": [
      "average for row  1  is  3.4\n",
      "average for row  2  is  5.6\n",
      "average for row  3  is  5.2\n",
      "average for row  4  is  4.4\n",
      "average for row  5  is  4.6\n"
     ]
    }
   ],
   "source": [
    "for i in range(5):\n",
    "    avg = five_matrix[i, :].mean()\n",
    "    print(\"average for row \", i+1, \" is \", avg)\n",
    "    five_matrix[i, :] = np.subtract(five_matrix[i, :], avg)"
   ]
  },
  {
   "cell_type": "code",
   "execution_count": 19,
   "id": "ffb3358c",
   "metadata": {},
   "outputs": [
    {
     "name": "stdout",
     "output_type": "stream",
     "text": [
      "5*5 matrix is subtracted by its average value of the elements in each row\n",
      " [[ 0 -3  5  0 -2]\n",
      " [-5  1  2  2  0]\n",
      " [ 1 -2  3  0 -3]\n",
      " [-3  0  4  3 -4]\n",
      " [ 0 -3  1  4 -1]]\n"
     ]
    }
   ],
   "source": [
    "print(\"5*5 matrix is subtracted by its average value of the elements in each row\\n\", five_matrix)"
   ]
  },
  {
   "cell_type": "markdown",
   "id": "6257259e",
   "metadata": {},
   "source": [
    "***\n",
    "\n",
    "<br>\n",
    "<b>9. Given a one-dimensional array, negate all elements between 3 and 8. </b><br>\n",
    "<br> "
   ]
  },
  {
   "cell_type": "code",
   "execution_count": 20,
   "id": "bf5356bb",
   "metadata": {},
   "outputs": [
    {
     "name": "stdout",
     "output_type": "stream",
     "text": [
      "Negation of all elements between 3 and 8:\n",
      " [ 0  1  2 -3 -4 -5 -6 -7 -8  9]\n"
     ]
    }
   ],
   "source": [
    "one_dimension = np.arange(10)\n",
    "\n",
    "negate = (one_dimension >=3) & (one_dimension <=8)\n",
    "one_dimension[negate] *= -1\n",
    "\n",
    "print(\"Negation of all elements between 3 and 8:\\n\", one_dimension)"
   ]
  },
  {
   "cell_type": "markdown",
   "id": "e7fc6c11",
   "metadata": {},
   "source": [
    "***\n",
    "<br>\n",
    "<b>10.\tUse five different methods to extract the integer part of a random array. </b><br>\n",
    "<br> "
   ]
  },
  {
   "cell_type": "code",
   "execution_count": 21,
   "id": "969cb498",
   "metadata": {},
   "outputs": [
    {
     "name": "stdout",
     "output_type": "stream",
     "text": [
      "Method 1 using np.random.random, rounding off floats using np.round(10*random) :\n",
      " [[6 7 1]\n",
      " [7 4 4]\n",
      " [4 1 8]]\n",
      "It returns random integers between 1-9 and reshapes it to 3*3. Round off to int32 and change floats astype('int')\n",
      "\n",
      "Method 2 using np.random.rand: \n",
      " [2 4 3 7 2 1 1 6 6 1]\n",
      "It returns random integers between 1-9 in one dimensional array. Round off to int32 and change floats astype('int')\n",
      "\n",
      "Method 3 using np.random.randint: \n",
      " [[1 3 0 2 6]\n",
      " [9 5 6 7 3]\n",
      " [9 0 8 7 3]\n",
      " [6 3 8 8 5]\n",
      " [2 5 8 7 5]]\n",
      "It returns random integers between 0-9 and reshapes it to 5*5 matrix.\n",
      "\n",
      "Method 4 using np.random.default_rng().choice:\n",
      " [7 1 8]\n",
      "It returns a list of 3 elements of random integers between 1-9.\n",
      "\n",
      "Method 5 using np.random.default_rng().integers: \n",
      " [[3 2 4 2 1]\n",
      " [1 0 3 0 0]\n",
      " [4 4 3 3 1]\n",
      " [2 3 4 1 3]\n",
      " [4 0 4 2 1]]\n",
      "It returns random integers between 0-5 and reshapes it to 5*5 matrix.\n"
     ]
    }
   ],
   "source": [
    "import numpy as np\n",
    "from numpy.random import default_rng\n",
    "\n",
    "#Using Generator, which provides a wide array of functions and used to replace with RandomState. \n",
    "#It maanges state and generates random bits.\n",
    "#default_rng is the recommended constructor for the random number class Generator\n",
    "rng = np.random.default_rng()\n",
    "\n",
    "#method 1\n",
    "method1 = np.round(10*np.random.random(9)).reshape(3,3)\n",
    "print(\"Method 1 using np.random.random, rounding off floats using np.round(10*random) :\\n\", method1.astype('int32'))\n",
    "print(\"It returns random integers between 1-9 and reshapes it to 3*3. Round off to int32 and change floats astype('int')\")\n",
    "\n",
    "#method 2\n",
    "method2 = np.round(10*np.random.rand(10))\n",
    "print(\"\\nMethod 2 using np.random.rand: \\n\", method2.astype('int32'))\n",
    "print(\"It returns random integers between 1-9 in one dimensional array. Round off to int32 and change floats astype('int')\")\n",
    "\n",
    "#method 3\n",
    "method3 = np.random.randint(10, size=(5,5))\n",
    "print(\"\\nMethod 3 using np.random.randint: \\n\", method3)\n",
    "print(\"It returns random integers between 0-9 and reshapes it to 5*5 matrix.\")\n",
    "\n",
    "#method 4\n",
    "method4 = rng.choice(10,3, replace=False)\n",
    "print(\"\\nMethod 4 using np.random.default_rng().choice:\\n\", method4)\n",
    "print(\"It returns a list of 3 elements of random integers between 1-9.\")\n",
    "\n",
    "#method 5\n",
    "method4 = rng.integers(5, size=(5,5), dtype='int32')\n",
    "print(\"\\nMethod 5 using np.random.default_rng().integers: \\n\", method4)\n",
    "print(\"It returns random integers between 0-5 and reshapes it to 5*5 matrix.\")"
   ]
  },
  {
   "cell_type": "markdown",
   "id": "6f05a6de",
   "metadata": {},
   "source": [
    "***\n",
    "<br>\n",
    "<b>11.\tFor a random vector whose coordinate shape is (100,2), find the distance between the 2 points.</b><br>\n",
    "<br> "
   ]
  },
  {
   "cell_type": "code",
   "execution_count": 22,
   "id": "4ef077e8",
   "metadata": {},
   "outputs": [
    {
     "name": "stdout",
     "output_type": "stream",
     "text": [
      "----------Original randomVector----------\n",
      " [[18 53]\n",
      " [35 89]\n",
      " [11 72]\n",
      " [48  9]\n",
      " [78 86]\n",
      " [76 93]\n",
      " [64 22]\n",
      " [29 25]\n",
      " [85 42]\n",
      " [44 15]\n",
      " [91 10]\n",
      " [45 64]\n",
      " [80 12]\n",
      " [17 74]\n",
      " [89 14]\n",
      " [71 55]\n",
      " [49 53]\n",
      " [61 64]\n",
      " [30  1]\n",
      " [82  6]\n",
      " [91 24]\n",
      " [20 44]\n",
      " [19 17]\n",
      " [46 35]\n",
      " [54 29]\n",
      " [49 90]\n",
      " [34 51]\n",
      " [47  0]\n",
      " [32 70]\n",
      " [46 70]\n",
      " [14 15]\n",
      " [ 5 17]\n",
      " [29  7]\n",
      " [72 26]\n",
      " [32 14]\n",
      " [49 86]\n",
      " [27 23]\n",
      " [56 51]\n",
      " [44  2]\n",
      " [42 35]\n",
      " [25 26]\n",
      " [62 45]\n",
      " [72 42]\n",
      " [39 52]\n",
      " [41 54]\n",
      " [58 70]\n",
      " [13 73]\n",
      " [42 69]\n",
      " [35  0]\n",
      " [83 84]\n",
      " [82 33]\n",
      " [13 63]\n",
      " [47 42]\n",
      " [11 56]\n",
      " [84 25]\n",
      " [53 94]\n",
      " [ 4 95]\n",
      " [36 89]\n",
      " [96  9]\n",
      " [23 31]\n",
      " [71 72]\n",
      " [50  4]\n",
      " [82 52]\n",
      " [23 26]\n",
      " [82 96]\n",
      " [93 78]\n",
      " [77 22]\n",
      " [85 63]\n",
      " [68 64]\n",
      " [51  3]\n",
      " [98 60]\n",
      " [40 46]\n",
      " [53 32]\n",
      " [76 83]\n",
      " [83  6]\n",
      " [85 91]\n",
      " [34 71]\n",
      " [73 79]\n",
      " [84 80]\n",
      " [59 70]\n",
      " [75 87]\n",
      " [89 47]\n",
      " [46 59]\n",
      " [29 32]\n",
      " [17 83]\n",
      " [59 98]\n",
      " [55 61]\n",
      " [63 50]\n",
      " [62  8]\n",
      " [67 12]\n",
      " [48 93]\n",
      " [35 41]\n",
      " [54 76]\n",
      " [95 27]\n",
      " [44 39]\n",
      " [51 15]\n",
      " [84 35]\n",
      " [65 97]\n",
      " [80 40]\n",
      " [61 14]]\n",
      "\n",
      "----------Coordinate matrices from coordinate vectors----------\n",
      " [[18 35 11 48 78 76 64 29 85 44 91 45 80 17 89 71 49 61 30 82 91 20 19 46\n",
      "  54 49 34 47 32 46 14  5 29 72 32 49 27 56 44 42 25 62 72 39 41 58 13 42\n",
      "  35 83 82 13 47 11 84 53  4 36 96 23 71 50 82 23 82 93 77 85 68 51 98 40\n",
      "  53 76 83 85 34 73 84 59 75 89 46 29 17 59 55 63 62 67 48 35 54 95 44 51\n",
      "  84 65 80 61]\n",
      " [53 89 72  9 86 93 22 25 42 15 10 64 12 74 14 55 53 64  1  6 24 44 17 35\n",
      "  29 90 51  0 70 70 15 17  7 26 14 86 23 51  2 35 26 45 42 52 54 70 73 69\n",
      "   0 84 33 63 42 56 25 94 95 89  9 31 72  4 52 26 96 78 22 63 64  3 60 46\n",
      "  32 83  6 91 71 79 80 70 87 47 59 32 83 98 61 50  8 12 93 41 76 27 39 15\n",
      "  35 97 40 14]]\n",
      "\n",
      "----------Distance between two points----------\n",
      " [[35 18 42 ... 12 27  8]\n",
      " [71 54 78 ... 24  9 28]\n",
      " [54 37 61 ...  7  8 11]\n",
      " ...\n",
      " [79 62 86 ... 32 17 36]\n",
      " [22  5 29 ... 25 40 21]\n",
      " [ 4 21  3 ... 51 66 47]]\n"
     ]
    }
   ],
   "source": [
    "import numpy as np\n",
    "from numpy.random import default_rng\n",
    "from timeit import default_timer as timer\n",
    "\n",
    "rng = np.random.default_rng()\n",
    "\n",
    "randomVector = rng.integers(100, size=(100,2))\n",
    "\n",
    "#to retain original values\n",
    "firstVector = randomVector.copy()\n",
    "print(\"----------Original randomVector----------\\n\", firstVector)\n",
    "      \n",
    "#transpose so that it can calculate the distance between 2 points\n",
    "transpose = randomVector.T\n",
    "\n",
    "#use meshgrid to create coordinates of an array of the values of first dimension array and second dimension array\n",
    "t1, t2 = np.meshgrid(transpose[0], transpose[1])\n",
    "print(\"\\n----------Coordinate matrices from coordinate vectors----------\\n\", transpose)\n",
    "\n",
    "#using euclidean distance function\n",
    "#distanceBetweenTwoPoints = np.linalg.norm(transpose[0] - transpose[1])\n",
    "\n",
    "#calculate the euclidean distance matrix\n",
    "distanceBetweenTwoPoints = np.abs(t1 - t2)\n",
    "\n",
    "print(\"\\n----------Distance between two points----------\\n\", distanceBetweenTwoPoints)"
   ]
  },
  {
   "cell_type": "code",
   "execution_count": null,
   "id": "7939fa19",
   "metadata": {},
   "outputs": [],
   "source": []
  }
 ],
 "metadata": {
  "kernelspec": {
   "display_name": "Python 3",
   "language": "python",
   "name": "python3"
  },
  "language_info": {
   "codemirror_mode": {
    "name": "ipython",
    "version": 3
   },
   "file_extension": ".py",
   "mimetype": "text/x-python",
   "name": "python",
   "nbconvert_exporter": "python",
   "pygments_lexer": "ipython3",
   "version": "3.8.8"
  }
 },
 "nbformat": 4,
 "nbformat_minor": 5
}
